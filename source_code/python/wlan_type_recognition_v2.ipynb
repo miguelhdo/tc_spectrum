{
 "cells": [
  {
   "cell_type": "code",
   "execution_count": null,
   "metadata": {},
   "outputs": [],
   "source": [
    "import classifier_wlan_utils as utils\n",
    "import importlib\n",
    "import numpy as np\n",
    "from sklearn.metrics import accuracy_score, confusion_matrix"
   ]
  },
  {
   "cell_type": "code",
   "execution_count": null,
   "metadata": {},
   "outputs": [],
   "source": [
    "importlib.reload(utils)"
   ]
  },
  {
   "cell_type": "code",
   "execution_count": null,
   "metadata": {},
   "outputs": [],
   "source": [
    "seed = 42\n",
    "task = \"frames\"\n",
    "label = utils.labels[task]\n",
    "num_classes = utils.classes[task]\n",
    "print(\"Label id: \", label)\n",
    "print(\"Num classes in that label: \", num_classes)\n",
    "num_iq_seq = 10000# 500us at 20MHz BW\n",
    "padding = 'post'\n",
    "dataset_folder = '../../dataset/waveforms/'\n",
    "load_model=True\n",
    "load_dir='../../models/'\n",
    "load_file = '22042020175144_saved_wavenet_classifier'"
   ]
  },
  {
   "cell_type": "code",
   "execution_count": null,
   "metadata": {},
   "outputs": [],
   "source": [
    "dataset_filename = 'waveforms_2G_n_multi_mobile_app_multi_channel_100k_balanced.mat'\n",
    "X, Y, Y_pd = utils.get_xy(dataset_folder,dataset_filename, num_iq_seq, padding, num_classes, label)\n",
    "X_train, X_val, X_test, Y_train, Y_val, Y_test = utils.get_xy_4_training(X,Y,seed)\n",
    "print(X_train.shape,X_val.shape, X_test.shape)\n",
    "print(Y_train.shape,Y_val.shape, Y_test.shape)"
   ]
  },
  {
   "cell_type": "code",
   "execution_count": null,
   "metadata": {},
   "outputs": [],
   "source": [
    "dataset_filename_qos = 'waveforms_2G_n_multi_mobile_app_2_only_qos.mat'\n",
    "X_qos, Y_qos, Y_pd_qos = utils.get_xy(dataset_folder,dataset_filename_qos, num_iq_seq, padding, num_classes, label)\n",
    "print(X_qos.shape, Y_qos.shape)"
   ]
  },
  {
   "cell_type": "code",
   "execution_count": null,
   "metadata": {},
   "outputs": [],
   "source": [
    "dataset_filename_test2 = 'waveforms_2G_n_multi_mobile_app_multi_channel_21042020_balanced.mat'\n",
    "X_test2, Y_pd_test2 = utils.get_xy(dataset_folder,dataset_filename_test2, num_iq_seq, padding, num_classes, label)\n",
    "print(X_test2.shape, Y_test2.shape)"
   ]
  },
  {
   "cell_type": "code",
   "execution_count": null,
   "metadata": {},
   "outputs": [],
   "source": [
    "if load_model:\n",
    "    load_dir='../../models/'\n",
    "    load_file = '22042020175144_saved_wavenet_classifier'\n",
    "    wnc = utils.WaveNetClassifier((2,num_iq_seq), (num_classes,), kernel_size = 2, dilation_depth = 6, n_filters = 32, task = 'classification', regression_range = None, load = load_model, load_dir = load_dir, load_file= load_file)\n",
    "else:\n",
    "    wnc = utils.WaveNetClassifier((2,num_iq_seq), (num_classes,), kernel_size = 2, dilation_depth = 6, n_filters = 32)\n",
    "    wnc.fit(X_train, Y_train, validation_data = (X_val, Y_val),save=True, epochs = 50)"
   ]
  },
  {
   "cell_type": "code",
   "execution_count": null,
   "metadata": {},
   "outputs": [],
   "source": [
    "test_results = wnc.evaluate(X_test, Y_test)\n",
    "print(test_results)\n",
    "Y_pred=np.argmax(wnc.predict(X_test),1)\n",
    "Y_true=np.argmax(Y_test,1)\n",
    "utils.plot_confusion_matrix_mc(Y_true, Y_pred, [\"Mgmt\",\"Ctrl\",\"Data\"], \"conf_matrix_test.pdf\")\n",
    "print(confusion_matrix(Y_true, Y_pred))\n",
    "print(confusion_matrix(Y_true, Y_pred, normalize='all'))"
   ]
  },
  {
   "cell_type": "code",
   "execution_count": null,
   "metadata": {},
   "outputs": [],
   "source": [
    "qos_results = wnc.evaluate(X_qos, Y_qos)\n",
    "print(qos_results)\n",
    "Y_pred_qos=np.argmax(wnc.predict(X_qos),1)\n",
    "Y_true_qos=np.argmax(Y_qos,1)\n",
    "#accuracy_score(Y_pred_qos, Y_true_qos)\n",
    "utils.plot_confusion_matrix_mc(Y_pred_qos, Y_true_qos, [\"Mgmt\",\"Ctrl\",\"Data\"], \"conf_matrix_qos.pdf\")"
   ]
  },
  {
   "cell_type": "code",
   "execution_count": null,
   "metadata": {},
   "outputs": [],
   "source": [
    "test2_results = wnc.evaluate(X_test2, Y_test2)\n",
    "print(test2_results)\n",
    "Y_pred_test2=np.argmax(wnc.predict(X_test2),1)\n",
    "Y_true_test2=np.argmax(Y_test2,1)\n",
    "accuracy_score(Y_pred_test2, Y_true_test2)\n",
    "utils.plot_confusion_matrix_mc(Y_pred_test2, Y_true_test2, [\"Mgmt\",\"Ctrl\",\"Data\"], \"conf_matrix_test2.pdf\")"
   ]
  },
  {
   "cell_type": "code",
   "execution_count": null,
   "metadata": {},
   "outputs": [],
   "source": [
    "dataset_filename_apps = 'waveforms_2G_n_6_mobile_app_24042020.mat'\n",
    "X_apps, Y_apps, Y_pd_apps = utils.get_xy(dataset_folder,dataset_filename_apps, num_iq_seq, padding, label)"
   ]
  },
  {
   "cell_type": "code",
   "execution_count": null,
   "metadata": {},
   "outputs": [],
   "source": [
    "test_results_apps = wcn_model.evaluate(X_apps, Y_apps)\n",
    "print(test_results_apps)\n",
    "Y_pred_apps=np.argmax(wnc.predict(X_apps),1)\n",
    "Y_true_apps=np.argmax(Y_apps,1)\n",
    "plot_confusion_matrix_mc(Y_pred_apps, Y_true_apps, [\"Mgmt\",\"Ctrl\",\"Data\"], \"conf_matrix_apps.pdf\")"
   ]
  },
  {
   "cell_type": "code",
   "execution_count": null,
   "metadata": {},
   "outputs": [],
   "source": [
    "#from sklearn.metrics import average_precision_score\n",
    "#average_precision = average_precision_score(Y_test, wcn_model.predict(X_test))\n",
    "#print('Average precision-recall score: {0:0.2f}'.format(\n",
    "#      average_precision))\n",
    "#print(confusion_matrix(Y_true_apps, Y_pred_apps))\n",
    "#print(confusion_matrix(Y_true_apps, Y_pred_apps, normalize='all'))\n",
    "#print(cm)"
   ]
  }
 ],
 "metadata": {
  "kernelspec": {
   "display_name": "Python [conda env:traffic]",
   "language": "python",
   "name": "conda-env-traffic-py"
  },
  "language_info": {
   "codemirror_mode": {
    "name": "ipython",
    "version": 3
   },
   "file_extension": ".py",
   "mimetype": "text/x-python",
   "name": "python",
   "nbconvert_exporter": "python",
   "pygments_lexer": "ipython3",
   "version": "3.7.7"
  }
 },
 "nbformat": 4,
 "nbformat_minor": 4
}
