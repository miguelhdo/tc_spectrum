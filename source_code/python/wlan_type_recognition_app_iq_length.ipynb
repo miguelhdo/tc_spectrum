{
 "cells": [
  {
   "cell_type": "code",
   "execution_count": 7,
   "metadata": {},
   "outputs": [],
   "source": [
    "import classifier_wlan_utils as utils\n",
    "import importlib\n",
    "import numpy as np\n",
    "from sklearn.metrics import accuracy_score, confusion_matrix"
   ]
  },
  {
   "cell_type": "code",
   "execution_count": 8,
   "metadata": {},
   "outputs": [
    {
     "name": "stdout",
     "output_type": "stream",
     "text": [
      "Label id:  3\n",
      "Num classes in that label:  6\n"
     ]
    }
   ],
   "source": [
    "seed = 42\n",
    "task = \"app\"\n",
    "label = utils.labels[task]\n",
    "num_classes = utils.classes[task]\n",
    "num_classes = 6\n",
    "print(\"Label id: \", label)\n",
    "print(\"Num classes in that label: \", num_classes)\n",
    "num_iq_seq = 10000# 500us at 20MHz BW\n",
    "padding = 'post'\n",
    "dataset_folder = '../../dataset/waveforms/'\n",
    "load_model=False\n",
    "load_dir='../../models/'\n",
    "load_file = '22042020175144_saved_wavenet_classifier'"
   ]
  },
  {
   "cell_type": "code",
   "execution_count": 9,
   "metadata": {
    "pycharm": {
     "is_executing": true
    }
   },
   "outputs": [
    {
     "name": "stdout",
     "output_type": "stream",
     "text": [
      "Reading raw X and Y from file\n"
     ]
    },
    {
     "name": "stderr",
     "output_type": "stream",
     "text": [
      "100%|██████████| 61374/61374 [01:29<00:00, 682.06it/s]\n"
     ]
    },
    {
     "name": "stdout",
     "output_type": "stream",
     "text": [
      "Padding/Truncating sequence\n"
     ]
    },
    {
     "name": "stderr",
     "output_type": "stream",
     "text": [
      "100%|██████████| 61374/61374 [00:10<00:00, 5729.90it/s]\n"
     ]
    },
    {
     "name": "stdout",
     "output_type": "stream",
     "text": [
      "Oneshot labels\n",
      "(42961, 2, 10000) (9206, 2, 10000) (9207, 2, 10000)\n",
      "(42961, 6) (9206, 6) (9207, 6)\n"
     ]
    }
   ],
   "source": [
    "dataset_filename = 'waveforms_24042020_2G_n_6_mobile_app_full_app_6_classes_balanced.mat'\n",
    "X, Y = utils.get_xy(dataset_folder,dataset_filename, num_iq_seq, padding, label, num_classes)\n",
    "X_train, X_val, X_test, Y_train, Y_val, Y_test = utils.get_xy_4_training(X,Y,seed)\n",
    "print(X_train.shape,X_val.shape, X_test.shape)\n",
    "print(Y_train.shape,Y_val.shape, Y_test.shape)"
   ]
  },
  {
   "cell_type": "code",
   "execution_count": 11,
   "metadata": {
    "pycharm": {
     "is_executing": true
    }
   },
   "outputs": [
    {
     "name": "stdout",
     "output_type": "stream",
     "text": [
      "Model: \"model_3\"\n",
      "__________________________________________________________________________________________________\n",
      "Layer (type)                    Output Shape         Param #     Connected to                     \n",
      "==================================================================================================\n",
      "original_input (InputLayer)     (None, 2, 10000)     0                                            \n",
      "__________________________________________________________________________________________________\n",
      "reshaped_input (Reshape)        (None, 2, 10000, 1)  0           original_input[0][0]             \n",
      "__________________________________________________________________________________________________\n",
      "conv2d (Conv2D)                 (None, 2, 10000, 50) 250         reshaped_input[0][0]             \n",
      "__________________________________________________________________________________________________\n",
      "conv2d_2 (Conv2D)               (None, 1, 5000, 50)  10050       conv2d[0][0]                     \n",
      "__________________________________________________________________________________________________\n",
      "dropout_3 (Dropout)             (None, 1, 5000, 50)  0           conv2d_2[0][0]                   \n",
      "__________________________________________________________________________________________________\n",
      "batch_normalization_3 (BatchNor (None, 1, 5000, 50)  200         dropout_3[0][0]                  \n",
      "__________________________________________________________________________________________________\n",
      "conv2d_to_1d (Reshape)          (None, 5000, 50)     0           batch_normalization_3[0][0]      \n",
      "__________________________________________________________________________________________________\n",
      "dilated_conv_1 (Conv1D)         (None, 5000, 50)     5050        conv2d_to_1d[0][0]               \n",
      "__________________________________________________________________________________________________\n",
      "dilated_conv_2_tanh (Conv1D)    (None, 5000, 50)     5050        dilated_conv_1[0][0]             \n",
      "__________________________________________________________________________________________________\n",
      "dilated_conv_2_sigm (Conv1D)    (None, 5000, 50)     5050        dilated_conv_1[0][0]             \n",
      "__________________________________________________________________________________________________\n",
      "gated_activation_1 (Multiply)   (None, 5000, 50)     0           dilated_conv_2_tanh[0][0]        \n",
      "                                                                 dilated_conv_2_sigm[0][0]        \n",
      "__________________________________________________________________________________________________\n",
      "skip_1 (Conv1D)                 (None, 5000, 50)     2550        gated_activation_1[0][0]         \n",
      "__________________________________________________________________________________________________\n",
      "residual_block_1 (Add)          (None, 5000, 50)     0           skip_1[0][0]                     \n",
      "                                                                 dilated_conv_1[0][0]             \n",
      "__________________________________________________________________________________________________\n",
      "dilated_conv_4_tanh (Conv1D)    (None, 5000, 50)     5050        residual_block_1[0][0]           \n",
      "__________________________________________________________________________________________________\n",
      "dilated_conv_4_sigm (Conv1D)    (None, 5000, 50)     5050        residual_block_1[0][0]           \n",
      "__________________________________________________________________________________________________\n",
      "gated_activation_2 (Multiply)   (None, 5000, 50)     0           dilated_conv_4_tanh[0][0]        \n",
      "                                                                 dilated_conv_4_sigm[0][0]        \n",
      "__________________________________________________________________________________________________\n",
      "skip_2 (Conv1D)                 (None, 5000, 50)     2550        gated_activation_2[0][0]         \n",
      "__________________________________________________________________________________________________\n",
      "residual_block_2 (Add)          (None, 5000, 50)     0           skip_2[0][0]                     \n",
      "                                                                 residual_block_1[0][0]           \n",
      "__________________________________________________________________________________________________\n",
      "dilated_conv_8_tanh (Conv1D)    (None, 5000, 50)     5050        residual_block_2[0][0]           \n",
      "__________________________________________________________________________________________________\n",
      "dilated_conv_8_sigm (Conv1D)    (None, 5000, 50)     5050        residual_block_2[0][0]           \n",
      "__________________________________________________________________________________________________\n",
      "gated_activation_3 (Multiply)   (None, 5000, 50)     0           dilated_conv_8_tanh[0][0]        \n",
      "                                                                 dilated_conv_8_sigm[0][0]        \n",
      "__________________________________________________________________________________________________\n",
      "skip_3 (Conv1D)                 (None, 5000, 50)     2550        gated_activation_3[0][0]         \n",
      "__________________________________________________________________________________________________\n",
      "residual_block_3 (Add)          (None, 5000, 50)     0           skip_3[0][0]                     \n",
      "                                                                 residual_block_2[0][0]           \n",
      "__________________________________________________________________________________________________\n",
      "dilated_conv_16_tanh (Conv1D)   (None, 5000, 50)     5050        residual_block_3[0][0]           \n",
      "__________________________________________________________________________________________________\n",
      "dilated_conv_16_sigm (Conv1D)   (None, 5000, 50)     5050        residual_block_3[0][0]           \n",
      "__________________________________________________________________________________________________\n",
      "gated_activation_4 (Multiply)   (None, 5000, 50)     0           dilated_conv_16_tanh[0][0]       \n",
      "                                                                 dilated_conv_16_sigm[0][0]       \n",
      "__________________________________________________________________________________________________\n",
      "skip_4 (Conv1D)                 (None, 5000, 50)     2550        gated_activation_4[0][0]         \n",
      "__________________________________________________________________________________________________\n",
      "residual_block_4 (Add)          (None, 5000, 50)     0           skip_4[0][0]                     \n",
      "                                                                 residual_block_3[0][0]           \n",
      "__________________________________________________________________________________________________\n",
      "dilated_conv_32_tanh (Conv1D)   (None, 5000, 50)     5050        residual_block_4[0][0]           \n",
      "__________________________________________________________________________________________________\n",
      "dilated_conv_32_sigm (Conv1D)   (None, 5000, 50)     5050        residual_block_4[0][0]           \n",
      "__________________________________________________________________________________________________\n",
      "gated_activation_5 (Multiply)   (None, 5000, 50)     0           dilated_conv_32_tanh[0][0]       \n",
      "                                                                 dilated_conv_32_sigm[0][0]       \n",
      "__________________________________________________________________________________________________\n",
      "skip_5 (Conv1D)                 (None, 5000, 50)     2550        gated_activation_5[0][0]         \n",
      "__________________________________________________________________________________________________\n",
      "residual_block_5 (Add)          (None, 5000, 50)     0           skip_5[0][0]                     \n",
      "                                                                 residual_block_4[0][0]           \n",
      "__________________________________________________________________________________________________\n",
      "dilated_conv_64_tanh (Conv1D)   (None, 5000, 50)     5050        residual_block_5[0][0]           \n",
      "__________________________________________________________________________________________________\n",
      "dilated_conv_64_sigm (Conv1D)   (None, 5000, 50)     5050        residual_block_5[0][0]           \n",
      "__________________________________________________________________________________________________\n",
      "gated_activation_6 (Multiply)   (None, 5000, 50)     0           dilated_conv_64_tanh[0][0]       \n",
      "                                                                 dilated_conv_64_sigm[0][0]       \n",
      "__________________________________________________________________________________________________\n",
      "skip_6 (Conv1D)                 (None, 5000, 50)     2550        gated_activation_6[0][0]         \n",
      "__________________________________________________________________________________________________\n",
      "skip_connections (Add)          (None, 5000, 50)     0           skip_1[0][0]                     \n",
      "                                                                 skip_2[0][0]                     \n",
      "                                                                 skip_3[0][0]                     \n",
      "                                                                 skip_4[0][0]                     \n",
      "                                                                 skip_5[0][0]                     \n",
      "                                                                 skip_6[0][0]                     \n",
      "__________________________________________________________________________________________________\n",
      "activation_3 (Activation)       (None, 5000, 50)     0           skip_connections[0][0]           \n",
      "__________________________________________________________________________________________________\n",
      "conv_5ms (Conv1D)               (None, 5000, 50)     250050      activation_3[0][0]               \n",
      "__________________________________________________________________________________________________\n",
      "downsample_to_200Hz (AveragePoo (None, 500, 50)      0           conv_5ms[0][0]                   \n",
      "__________________________________________________________________________________________________\n",
      "conv_500ms (Conv1D)             (None, 500, 50)      250050      downsample_to_200Hz[0][0]        \n",
      "__________________________________________________________________________________________________\n",
      "conv_500ms_target_shape (Conv1D (None, 500, 6)       30006       conv_500ms[0][0]                 \n",
      "__________________________________________________________________________________________________\n",
      "downsample_to_2Hz (AveragePooli (None, 50, 6)        0           conv_500ms_target_shape[0][0]    \n",
      "__________________________________________________________________________________________________\n",
      "final_conv (Conv1D)             (None, 50, 6)        78          downsample_to_2Hz[0][0]          \n",
      "__________________________________________________________________________________________________\n",
      "flatten_3 (Flatten)             (None, 300)          0           final_conv[0][0]                 \n",
      "__________________________________________________________________________________________________\n",
      "dense_5 (Dense)                 (None, 50)           15050       flatten_3[0][0]                  \n",
      "__________________________________________________________________________________________________\n",
      "dense_6 (Dense)                 (None, 6)            306         dense_5[0][0]                    \n",
      "==================================================================================================\n",
      "Total params: 636,990\n",
      "Trainable params: 636,890\n",
      "Non-trainable params: 100\n",
      "__________________________________________________________________________________________________\n",
      "Train on 42961 samples, validate on 9206 samples\n",
      "Epoch 1/50\n",
      "42961/42961 [==============================] - 338s 8ms/step - loss: 1.2982 - accuracy: 0.4541 - val_loss: 1.1320 - val_accuracy: 0.5075\n",
      "\n",
      "Epoch 00001: val_loss improved from inf to 1.13201, saving model to ./30042020110539_saved_wavenet_clasifier.h5\n",
      "Epoch 2/50\n",
      "42961/42961 [==============================] - 336s 8ms/step - loss: 1.1234 - accuracy: 0.5262 - val_loss: 1.0716 - val_accuracy: 0.5386\n",
      "\n",
      "Epoch 00002: val_loss improved from 1.13201 to 1.07158, saving model to ./30042020110539_saved_wavenet_clasifier.h5\n",
      "Epoch 3/50\n",
      "42961/42961 [==============================] - 335s 8ms/step - loss: 1.0153 - accuracy: 0.5743 - val_loss: 0.9020 - val_accuracy: 0.6242\n",
      "\n",
      "Epoch 00003: val_loss improved from 1.07158 to 0.90199, saving model to ./30042020110539_saved_wavenet_clasifier.h5\n",
      "Epoch 4/50\n",
      "42961/42961 [==============================] - 334s 8ms/step - loss: 0.8679 - accuracy: 0.6352 - val_loss: 0.7584 - val_accuracy: 0.6879\n",
      "\n",
      "Epoch 00004: val_loss improved from 0.90199 to 0.75843, saving model to ./30042020110539_saved_wavenet_clasifier.h5\n",
      "Epoch 5/50\n",
      "42961/42961 [==============================] - 335s 8ms/step - loss: 0.7149 - accuracy: 0.6962 - val_loss: 0.6348 - val_accuracy: 0.7410\n",
      "\n",
      "Epoch 00005: val_loss improved from 0.75843 to 0.63481, saving model to ./30042020110539_saved_wavenet_clasifier.h5\n",
      "Epoch 6/50\n",
      "42961/42961 [==============================] - 334s 8ms/step - loss: 0.6061 - accuracy: 0.7416 - val_loss: 0.5552 - val_accuracy: 0.7698\n",
      "\n",
      "Epoch 00006: val_loss improved from 0.63481 to 0.55518, saving model to ./30042020110539_saved_wavenet_clasifier.h5\n",
      "Epoch 7/50\n",
      "42961/42961 [==============================] - 332s 8ms/step - loss: 0.5204 - accuracy: 0.7779 - val_loss: 0.4857 - val_accuracy: 0.8011\n",
      "\n",
      "Epoch 00007: val_loss improved from 0.55518 to 0.48575, saving model to ./30042020110539_saved_wavenet_clasifier.h5\n",
      "Epoch 8/50\n",
      "42961/42961 [==============================] - 332s 8ms/step - loss: 0.4558 - accuracy: 0.8030 - val_loss: 0.4387 - val_accuracy: 0.7977\n",
      "\n",
      "Epoch 00008: val_loss improved from 0.48575 to 0.43867, saving model to ./30042020110539_saved_wavenet_clasifier.h5\n",
      "Epoch 9/50\n",
      "42961/42961 [==============================] - 332s 8ms/step - loss: 0.4033 - accuracy: 0.8243 - val_loss: 0.4009 - val_accuracy: 0.8273\n",
      "\n",
      "Epoch 00009: val_loss improved from 0.43867 to 0.40090, saving model to ./30042020110539_saved_wavenet_clasifier.h5\n",
      "Epoch 10/50\n",
      "42961/42961 [==============================] - 332s 8ms/step - loss: 0.3683 - accuracy: 0.8416 - val_loss: 0.3832 - val_accuracy: 0.8409\n",
      "\n",
      "Epoch 00010: val_loss improved from 0.40090 to 0.38317, saving model to ./30042020110539_saved_wavenet_clasifier.h5\n",
      "Epoch 11/50\n",
      "42961/42961 [==============================] - 332s 8ms/step - loss: 0.3422 - accuracy: 0.8511 - val_loss: 0.3585 - val_accuracy: 0.8494\n",
      "\n",
      "Epoch 00011: val_loss improved from 0.38317 to 0.35850, saving model to ./30042020110539_saved_wavenet_clasifier.h5\n",
      "Epoch 12/50\n",
      "42961/42961 [==============================] - 332s 8ms/step - loss: 0.3151 - accuracy: 0.8645 - val_loss: 0.3733 - val_accuracy: 0.8428\n",
      "\n",
      "Epoch 00012: val_loss did not improve from 0.35850\n",
      "Epoch 13/50\n",
      "42961/42961 [==============================] - 332s 8ms/step - loss: 0.2969 - accuracy: 0.8741 - val_loss: 0.3259 - val_accuracy: 0.8670\n",
      "\n",
      "Epoch 00013: val_loss improved from 0.35850 to 0.32587, saving model to ./30042020110539_saved_wavenet_clasifier.h5\n",
      "Epoch 14/50\n",
      "42961/42961 [==============================] - 332s 8ms/step - loss: 0.2754 - accuracy: 0.8847 - val_loss: 0.3309 - val_accuracy: 0.8725\n",
      "\n",
      "Epoch 00014: val_loss did not improve from 0.32587\n",
      "Epoch 15/50\n",
      "42961/42961 [==============================] - 332s 8ms/step - loss: 0.2606 - accuracy: 0.8906 - val_loss: 0.3157 - val_accuracy: 0.8705\n",
      "\n",
      "Epoch 00015: val_loss improved from 0.32587 to 0.31572, saving model to ./30042020110539_saved_wavenet_clasifier.h5\n",
      "Epoch 16/50\n",
      "42961/42961 [==============================] - 332s 8ms/step - loss: 0.2449 - accuracy: 0.8963 - val_loss: 0.3265 - val_accuracy: 0.8763\n",
      "\n",
      "Epoch 00016: val_loss did not improve from 0.31572\n",
      "Epoch 17/50\n",
      "42961/42961 [==============================] - 332s 8ms/step - loss: 0.2305 - accuracy: 0.9029 - val_loss: 0.3069 - val_accuracy: 0.8816\n",
      "\n",
      "Epoch 00017: val_loss improved from 0.31572 to 0.30687, saving model to ./30042020110539_saved_wavenet_clasifier.h5\n",
      "Epoch 18/50\n",
      "42961/42961 [==============================] - 334s 8ms/step - loss: 0.2184 - accuracy: 0.9086 - val_loss: 0.3100 - val_accuracy: 0.8831\n",
      "\n",
      "Epoch 00018: val_loss did not improve from 0.30687\n",
      "Epoch 19/50\n",
      "42961/42961 [==============================] - 333s 8ms/step - loss: 0.2072 - accuracy: 0.9122 - val_loss: 0.2978 - val_accuracy: 0.8883\n",
      "\n",
      "Epoch 00019: val_loss improved from 0.30687 to 0.29776, saving model to ./30042020110539_saved_wavenet_clasifier.h5\n",
      "Epoch 20/50\n",
      "42961/42961 [==============================] - 335s 8ms/step - loss: 0.1993 - accuracy: 0.9164 - val_loss: 0.3037 - val_accuracy: 0.8826\n",
      "\n",
      "Epoch 00020: val_loss did not improve from 0.29776\n",
      "Epoch 21/50\n",
      "42961/42961 [==============================] - 336s 8ms/step - loss: 0.1930 - accuracy: 0.9191 - val_loss: 0.3042 - val_accuracy: 0.8837\n",
      "\n",
      "Epoch 00021: val_loss did not improve from 0.29776\n",
      "Epoch 22/50\n",
      "42961/42961 [==============================] - 336s 8ms/step - loss: 0.1864 - accuracy: 0.9222 - val_loss: 0.3217 - val_accuracy: 0.8815\n",
      "\n",
      "Epoch 00022: val_loss did not improve from 0.29776\n",
      "Epoch 23/50\n",
      "42961/42961 [==============================] - 336s 8ms/step - loss: 0.1781 - accuracy: 0.9255 - val_loss: 0.3352 - val_accuracy: 0.8849\n",
      "\n",
      "Epoch 00023: val_loss did not improve from 0.29776\n",
      "Epoch 24/50\n",
      "42961/42961 [==============================] - 336s 8ms/step - loss: 0.1744 - accuracy: 0.9255 - val_loss: 0.3131 - val_accuracy: 0.8902\n",
      "\n",
      "Epoch 00024: val_loss did not improve from 0.29776\n",
      "Epoch 25/50\n",
      "42961/42961 [==============================] - 336s 8ms/step - loss: 0.1664 - accuracy: 0.9295 - val_loss: 0.3243 - val_accuracy: 0.8839\n",
      "\n",
      "Epoch 00025: val_loss did not improve from 0.29776\n",
      "Epoch 26/50\n",
      "42961/42961 [==============================] - 336s 8ms/step - loss: 0.1650 - accuracy: 0.9305 - val_loss: 0.3169 - val_accuracy: 0.8878\n",
      "\n",
      "Epoch 00026: val_loss did not improve from 0.29776\n",
      "Epoch 27/50\n",
      "42961/42961 [==============================] - 335s 8ms/step - loss: 0.1617 - accuracy: 0.9317 - val_loss: 0.3406 - val_accuracy: 0.8886\n",
      "\n",
      "Epoch 00027: val_loss did not improve from 0.29776\n",
      "Epoch 28/50\n",
      "42961/42961 [==============================] - 336s 8ms/step - loss: 0.1597 - accuracy: 0.9336 - val_loss: 0.3595 - val_accuracy: 0.8856\n",
      "\n",
      "Epoch 00028: val_loss did not improve from 0.29776\n",
      "Epoch 29/50\n",
      "42961/42961 [==============================] - 333s 8ms/step - loss: 0.1526 - accuracy: 0.9363 - val_loss: 0.3221 - val_accuracy: 0.8917\n",
      "\n",
      "Epoch 00029: val_loss did not improve from 0.29776\n"
     ]
    }
   ],
   "source": [
    "importlib.reload(utils)\n",
    "kernel_size = 2\n",
    "dilation_depth = 6\n",
    "n_filters = 50\n",
    "if load_model:\n",
    "    wnc = utils.WaveNetClassifier((2,num_iq_seq), (num_classes,), kernel_size = 2, dilation_depth = dilation_depth, n_filters = n_filters, task = 'classification', regression_range = None, load = load_model, load_dir = load_dir, load_file= load_file)\n",
    "else:\n",
    "    wnc = utils.WaveNetClassifier((2,num_iq_seq), (num_classes,), kernel_size = 2, dilation_depth = dilation_depth, n_filters = n_filters)\n",
    "    wnc.fit(X_train, Y_train, validation_data = (X_val, Y_val),save=True, epochs = 50)"
   ]
  },
  {
   "cell_type": "code",
   "execution_count": 12,
   "metadata": {
    "pycharm": {
     "is_executing": true
    }
   },
   "outputs": [
    {
     "name": "stdout",
     "output_type": "stream",
     "text": [
      "9207/9207 [==============================] - 20s 2ms/step\n",
      "[0.32929040651322966, 0.8900836110115051]\n"
     ]
    }
   ],
   "source": [
    "test_results = wnc.evaluate(X_test, Y_test)\n",
    "print(test_results)"
   ]
  },
  {
   "cell_type": "code",
   "execution_count": 13,
   "metadata": {
    "pycharm": {
     "is_executing": true,
     "name": "#%%\n"
    }
   },
   "outputs": [
    {
     "data": {
      "image/png": "[encoded data removed]",
      "text/plain": [
       "<Figure size 576x432 with 2 Axes>"
      ]
     },
     "metadata": {
      "needs_background": "light"
     },
     "output_type": "display_data"
    },
    {
     "name": "stdout",
     "output_type": "stream",
     "text": [
      "[[1227   25  130   13   22   79]\n",
      " [  16 1384   16   32    6   50]\n",
      " [  90    0 1447    5    6    4]\n",
      " [  48   16    6 1425    4   45]\n",
      " [  33   15    4   15 1314  156]\n",
      " [  42   79   13   17   25 1398]]\n",
      "[[0.13326817 0.00271533 0.01411969 0.00141197 0.00238949 0.00858043]\n",
      " [0.00173781 0.15032041 0.00173781 0.00347562 0.00065168 0.00543065]\n",
      " [0.00977517 0.         0.15716303 0.00054307 0.00065168 0.00043445]\n",
      " [0.00521342 0.00173781 0.00065168 0.15477354 0.00043445 0.00488759]\n",
      " [0.00358423 0.0016292  0.00043445 0.0016292  0.1427175  0.01694363]\n",
      " [0.00456175 0.00858043 0.00141197 0.00184642 0.00271533 0.15184099]]\n"
     ]
    }
   ],
   "source": [
    "Y_pred=np.argmax(wnc.predict(X_test),1)\n",
    "Y_true=np.argmax(Y_test,1)\n",
    "utils.plot_confusion_matrix_mc(Y_true, Y_pred, [\"Spotify\", \"Tunein\", \"Gpodcast\", \"Youtube\", \"Netflix\", \"Twitch\"], \"conf_matrix_test_app_6_classes.pdf\")\n",
    "print(confusion_matrix(Y_true, Y_pred))\n",
    "print(confusion_matrix(Y_true, Y_pred, normalize='all'))"
   ]
  },
  {
   "cell_type": "code",
   "execution_count": null,
   "metadata": {},
   "outputs": [],
   "source": []
  }
 ],
 "metadata": {
  "kernelspec": {
   "display_name": "Python [conda env:traffic]",
   "language": "python",
   "name": "conda-env-traffic-py"
  },
  "language_info": {
   "codemirror_mode": {
    "name": "ipython",
    "version": 3
   },
   "file_extension": ".py",
   "mimetype": "text/x-python",
   "name": "python",
   "nbconvert_exporter": "python",
   "pygments_lexer": "ipython3",
   "version": "3.7.7"
  }
 },
 "nbformat": 4,
 "nbformat_minor": 4
}
