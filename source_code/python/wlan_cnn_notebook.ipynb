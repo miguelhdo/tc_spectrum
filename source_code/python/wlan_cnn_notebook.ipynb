{
 "cells": [
  {
   "cell_type": "code",
   "execution_count": null,
   "metadata": {},
   "outputs": [],
   "source": [
    "import numpy as np\n",
    "import importlib\n",
    "from datetime import datetime\n",
    "\n",
    "from helpers import pre_processing_wlan_utils as preprocess_utils\n",
    "from helpers import classifier_wlan_spectral_utils as classifier_utils\n",
    "from helpers import tr_models as tr_models"
   ]
  },
  {
   "cell_type": "code",
   "execution_count": null,
   "metadata": {},
   "outputs": [],
   "source": [
    "seed = 42\n",
    "task = \"frames\"\n",
    "label = preprocess_utils.label_index[task]\n",
    "num_classes = preprocess_utils.num_classes[task]\n",
    "print(\"Label id: \", label)\n",
    "print(\"Num classes in that label: \", num_classes)\n",
    "max_iq_samples = [3000, 5000]\n",
    "padding = 'post'\n",
    "dataset_folder = '../../dataset/waveforms/'\n",
    "load_model=False\n",
    "load_dir='../../models/'\n",
    "load_file = '22042020175144_saved_wavenet_classifier'\n",
    "prefix ='cnn_wlan_classifier"
   ]
  },
  {
   "cell_type": "code",
   "execution_count": null,
   "metadata": {},
   "outputs": [],
   "source": [
    "filters=32"
   ]
  },
  {
   "cell_type": "code",
   "execution_count": null,
   "metadata": {},
   "outputs": [],
   "source": [
    "now = datetime.now()\n",
    "datenow = now.strftime('%d%m%y%H%M%S')"
   ]
  },
  {
   "cell_type": "code",
   "execution_count": null,
   "metadata": {},
   "outputs": [],
   "source": [
    "importlib.reload(tr_models)\n",
    "importlib.reload(preprocess_utils)\n",
    "importlib.reload(classifier_utils)"
   ]
  },
  {
   "cell_type": "code",
   "execution_count": null,
   "metadata": {},
   "outputs": [],
   "source": [
    "dataset_filename = 'waveforms_SNR_16042020_2G_n_unknown_unknown_v2WLAN_CLASS_wlan-frame_balanced.mat'\n",
    "Xraw, Yraw = classifier_utils.get_raw_xy_spectrum(dataset_folder,dataset_filename)"
   ]
  },
  {
   "cell_type": "code",
   "execution_count": null,
   "metadata": {},
   "outputs": [],
   "source": [
    "acc_results=[]\n",
    "for num_iq_seq in max_iq_samples:\n",
    "    time.sleep(2)\n",
    "    print(\"Padding/Truncating sequence with max lenght: \", str(num_iq_seq))\n",
    "    X = classifier_utils.pad_or_trunc_x_and_scale(Xraw, num_iq_seq, padding, scale=True)\n",
    "    time.sleep(2)\n",
    "    \n",
    "    print(\"Oneshot labels\")\n",
    "    Y = classifier_utils.get_one_hot_labels(Yraw, num_classes, label)\n",
    "    \n",
    "    print(\"Performing partitioning of data\")\n",
    "    X_train, X_val, X_test, Y_train, Y_val, Y_test = classifier_utils.get_xy_4_training(X,Y,seed)\n",
    "    X_train = X_train.reshape(X_train.shape[0], X_train.shape[1], X_train.shape[2], 1)\n",
    "    X_val = X_val.reshape(X_val.shape[0], X_val.shape[1], X_val.shape[2], 1)\n",
    "    X_test = X_test.reshape(X_test.shape[0], X_test.shape[1], X_test.shape[2], 1)\n",
    "    print(X_train.shape,X_val.shape, X_test.shape)\n",
    "    \n",
    "    for t in [1,2]:\n",
    "        print(\"Creating the model\")\n",
    "        cnn = tr_models.CNNClassifier((2,num_iq_seq), num_classes, filters = filters, prefix=prefix)\n",
    "        print(\"Model created\")\n",
    "\n",
    "        print(\"Model start training\")\n",
    "        history = cnn.fit(X_train, Y_train, validation_data = (X_val, Y_val), batch_size = 16, save=True, epochs = 20)\n",
    "\n",
    "        print(\"Training finished\")\n",
    "        test_results = cnn.evaluate(X_test, Y_test)\n",
    "        acc_results.append([num_iq_seq, test_results])\n",
    "\n",
    "        print(num_iq_seq, test_results)\n",
    "\n",
    "        #Save conf matrix\n",
    "        file_out_conf_matrix = str(datenow)+\"_\"+prefix+\"_iq_samples_\"+str(num_iq_seq)+\"_iter_\"+str(t)+\"_frames_conf_matrix_cnn.pdf\"\n",
    "        Y_pred=np.argmax(cnn.predict(X_test),1)\n",
    "        Y_true=np.argmax(Y_test,1)\n",
    "        classifier_utils.plot_confusion_matrix_mc(Y_true, Y_pred, [\"Mgmt\",\"Ctrl\",\"Data\"], file_out_conf_matrix)"
   ]
  },
  {
   "cell_type": "code",
   "execution_count": null,
   "metadata": {},
   "outputs": [],
   "source": [
    "from numba import cuda\n",
    "cuda.select_device(0)\n",
    "cuda.close()"
   ]
  },
  {
   "cell_type": "code",
   "execution_count": null,
   "metadata": {},
   "outputs": [],
   "source": []
  }
 ],
 "metadata": {
  "kernelspec": {
   "display_name": "Python [conda env:traf_rec] *",
   "language": "python",
   "name": "conda-env-traf_rec-py"
  },
  "language_info": {
   "codemirror_mode": {
    "name": "ipython",
    "version": 3
   },
   "file_extension": ".py",
   "mimetype": "text/x-python",
   "name": "python",
   "nbconvert_exporter": "python",
   "pygments_lexer": "ipython3",
   "version": "3.8.3"
  }
 },
 "nbformat": 4,
 "nbformat_minor": 4
}
