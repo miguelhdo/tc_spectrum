{
 "cells": [
  {
   "cell_type": "code",
   "execution_count": 1,
   "metadata": {},
   "outputs": [],
   "source": [
    "import scipy.io as sio\n",
    "from os import listdir\n",
    "from os.path import isfile, join\n",
    "import wlan_preprocessing_utils as prepro_utils"
   ]
  },
  {
   "cell_type": "code",
   "execution_count": 2,
   "metadata": {},
   "outputs": [],
   "source": [
    "DIR_IN = '../../dataset/pcaps/pcaps_mobile_apps/24042020/'\n",
    "FILENAMES = ''\n",
    "files_from_folder = True"
   ]
  },
  {
   "cell_type": "code",
   "execution_count": 3,
   "metadata": {},
   "outputs": [
    {
     "name": "stdout",
     "output_type": "stream",
     "text": [
      "28042020_2G_n_unknown_unknown\n",
      "Data frames labeled with app after filtered:  24294\n",
      "0 31766 31766 0 0 31766 24294 31766\n",
      "\n",
      "\n",
      "24042020_2G_n_youtube_video\n",
      "Data frames labeled with app after filtered:  16671\n",
      "0 44402 44402 2448 25111 16843 16671 172\n",
      "\n",
      "\n",
      "24042020_2G_n_netflix_video\n",
      "Data frames labeled with app after filtered:  18268\n",
      "0 65475 65475 2644 44328 18503 18268 235\n",
      "\n",
      "\n",
      "24042020_2G_n_gpodcast_audio\n",
      "Data frames labeled with app after filtered:  15002\n",
      "0 15031 15031 0 0 15031 15002 29\n",
      "\n",
      "\n",
      "24042020_2G_n_spotify_audio\n",
      "Data frames labeled with app after filtered:  17047\n",
      "0 56528 56528 2805 36456 17267 17047 220\n",
      "\n",
      "\n",
      "16042020_2G_n_tunein_audio\n",
      "Data frames labeled with app after filtered:  10229\n",
      "0 100000 100000 35947 50055 13998 10229 3769\n",
      "\n",
      "\n",
      "24042020_2G_n_twitch_video\n",
      "Data frames labeled with app after filtered:  21314\n",
      "0 104449 104449 5382 77330 21737 21314 423\n",
      "\n",
      "\n"
     ]
    }
   ],
   "source": [
    "all_frames  = []\n",
    "all_labels = []\n",
    "if files_from_folder:\n",
    "    onlyfiles = [f for f in listdir(DIR_IN) if isfile(join(DIR_IN, f))]\n",
    "    mac_address_phone = '86:93:d4:70:55:92'\n",
    "    filter_mac = True\n",
    "    for file in onlyfiles:\n",
    "        FILENAME = str(file).split('.')\n",
    "        FILENAME = FILENAME[0]\n",
    "        parsed_name_for_labels = FILENAME.split('_')\n",
    "        app_label = str(parsed_name_for_labels[3])\n",
    "        app_type_label = str(parsed_name_for_labels[4])\n",
    "        #print(app_label)\n",
    "        #print(app_type_label)\n",
    "        print(FILENAME)\n",
    "        frames, labels = prepro_utils.create_dataset_from_pcap(DIR_IN,FILENAME, app_label, app_type_label, filter_mac = filter_mac, mac_address=mac_address_phone)\n",
    "        print('\\n')\n",
    "        all_frames=all_frames+frames\n",
    "        all_labels=all_labels+labels \n",
    "else:\n",
    "    for FILENAME in FILENAMES:\n",
    "        print(FILENAME)\n",
    "        frames, labels = prepro_utils.create_dataset_from_pcap(DIR_IN,FILENAME, app_label, app_type_label, filter_mac = filter_mac, mac_address=mac_address_phone)\n",
    "        print('\\n')\n",
    "        all_frames=all_frames+frames\n",
    "        all_labels=all_labels+labels \n",
    "del frames\n",
    "del labels "
   ]
  },
  {
   "cell_type": "code",
   "execution_count": 4,
   "metadata": {},
   "outputs": [],
   "source": [
    "FILENAME_OUT = '24042020_2G_n_6_mobile_app_full'\n",
    "DIR_OUT = '../../dataset/mat_from_pcap/'\n",
    "FILE_OUT = DIR_OUT+FILENAME_OUT+'.mat'\n",
    "sio.savemat(FILE_OUT, {'frames': all_frames, 'labels' : all_labels})"
   ]
  },
  {
   "cell_type": "code",
   "execution_count": 5,
   "metadata": {},
   "outputs": [
    {
     "data": {
      "text/plain": [
       "417651"
      ]
     },
     "execution_count": 5,
     "metadata": {},
     "output_type": "execute_result"
    }
   ],
   "source": [
    "len(all_frames)"
   ]
  }
 ],
 "metadata": {
  "kernelspec": {
   "display_name": "Python [conda env:traffic]",
   "language": "python",
   "name": "conda-env-traffic-py"
  },
  "language_info": {
   "codemirror_mode": {
    "name": "ipython",
    "version": 3
   },
   "file_extension": ".py",
   "mimetype": "text/x-python",
   "name": "python",
   "nbconvert_exporter": "python",
   "pygments_lexer": "ipython3",
   "version": "3.7.7"
  }
 },
 "nbformat": 4,
 "nbformat_minor": 4
}
