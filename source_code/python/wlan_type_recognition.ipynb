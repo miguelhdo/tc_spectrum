{
 "cells": [
  {
   "cell_type": "code",
   "execution_count": 1,
   "metadata": {},
   "outputs": [
    {
     "name": "stderr",
     "output_type": "stream",
     "text": [
      "/home/mcamelo/anaconda3/envs/traffic/lib/python3.7/site-packages/tensorflow/python/framework/dtypes.py:516: FutureWarning: Passing (type, 1) or '1type' as a synonym of type is deprecated; in a future version of numpy, it will be understood as (type, (1,)) / '(1,)type'.\n",
      "  _np_qint8 = np.dtype([(\"qint8\", np.int8, 1)])\n",
      "/home/mcamelo/anaconda3/envs/traffic/lib/python3.7/site-packages/tensorflow/python/framework/dtypes.py:517: FutureWarning: Passing (type, 1) or '1type' as a synonym of type is deprecated; in a future version of numpy, it will be understood as (type, (1,)) / '(1,)type'.\n",
      "  _np_quint8 = np.dtype([(\"quint8\", np.uint8, 1)])\n",
      "/home/mcamelo/anaconda3/envs/traffic/lib/python3.7/site-packages/tensorflow/python/framework/dtypes.py:518: FutureWarning: Passing (type, 1) or '1type' as a synonym of type is deprecated; in a future version of numpy, it will be understood as (type, (1,)) / '(1,)type'.\n",
      "  _np_qint16 = np.dtype([(\"qint16\", np.int16, 1)])\n",
      "/home/mcamelo/anaconda3/envs/traffic/lib/python3.7/site-packages/tensorflow/python/framework/dtypes.py:519: FutureWarning: Passing (type, 1) or '1type' as a synonym of type is deprecated; in a future version of numpy, it will be understood as (type, (1,)) / '(1,)type'.\n",
      "  _np_quint16 = np.dtype([(\"quint16\", np.uint16, 1)])\n",
      "/home/mcamelo/anaconda3/envs/traffic/lib/python3.7/site-packages/tensorflow/python/framework/dtypes.py:520: FutureWarning: Passing (type, 1) or '1type' as a synonym of type is deprecated; in a future version of numpy, it will be understood as (type, (1,)) / '(1,)type'.\n",
      "  _np_qint32 = np.dtype([(\"qint32\", np.int32, 1)])\n",
      "/home/mcamelo/anaconda3/envs/traffic/lib/python3.7/site-packages/tensorflow/python/framework/dtypes.py:525: FutureWarning: Passing (type, 1) or '1type' as a synonym of type is deprecated; in a future version of numpy, it will be understood as (type, (1,)) / '(1,)type'.\n",
      "  np_resource = np.dtype([(\"resource\", np.ubyte, 1)])\n",
      "/home/mcamelo/anaconda3/envs/traffic/lib/python3.7/site-packages/tensorboard/compat/tensorflow_stub/dtypes.py:541: FutureWarning: Passing (type, 1) or '1type' as a synonym of type is deprecated; in a future version of numpy, it will be understood as (type, (1,)) / '(1,)type'.\n",
      "  _np_qint8 = np.dtype([(\"qint8\", np.int8, 1)])\n",
      "/home/mcamelo/anaconda3/envs/traffic/lib/python3.7/site-packages/tensorboard/compat/tensorflow_stub/dtypes.py:542: FutureWarning: Passing (type, 1) or '1type' as a synonym of type is deprecated; in a future version of numpy, it will be understood as (type, (1,)) / '(1,)type'.\n",
      "  _np_quint8 = np.dtype([(\"quint8\", np.uint8, 1)])\n",
      "/home/mcamelo/anaconda3/envs/traffic/lib/python3.7/site-packages/tensorboard/compat/tensorflow_stub/dtypes.py:543: FutureWarning: Passing (type, 1) or '1type' as a synonym of type is deprecated; in a future version of numpy, it will be understood as (type, (1,)) / '(1,)type'.\n",
      "  _np_qint16 = np.dtype([(\"qint16\", np.int16, 1)])\n",
      "/home/mcamelo/anaconda3/envs/traffic/lib/python3.7/site-packages/tensorboard/compat/tensorflow_stub/dtypes.py:544: FutureWarning: Passing (type, 1) or '1type' as a synonym of type is deprecated; in a future version of numpy, it will be understood as (type, (1,)) / '(1,)type'.\n",
      "  _np_quint16 = np.dtype([(\"quint16\", np.uint16, 1)])\n",
      "/home/mcamelo/anaconda3/envs/traffic/lib/python3.7/site-packages/tensorboard/compat/tensorflow_stub/dtypes.py:545: FutureWarning: Passing (type, 1) or '1type' as a synonym of type is deprecated; in a future version of numpy, it will be understood as (type, (1,)) / '(1,)type'.\n",
      "  _np_qint32 = np.dtype([(\"qint32\", np.int32, 1)])\n",
      "/home/mcamelo/anaconda3/envs/traffic/lib/python3.7/site-packages/tensorboard/compat/tensorflow_stub/dtypes.py:550: FutureWarning: Passing (type, 1) or '1type' as a synonym of type is deprecated; in a future version of numpy, it will be understood as (type, (1,)) / '(1,)type'.\n",
      "  np_resource = np.dtype([(\"resource\", np.ubyte, 1)])\n",
      "Using TensorFlow backend.\n"
     ]
    }
   ],
   "source": [
    "import numpy as np\n",
    "import h5py\n",
    "from tqdm import trange\n",
    "import pandas as pd\n",
    "import seaborn as sn\n",
    "import sys\n",
    "import itertools\n",
    "import tensorflow as tf\n",
    "from keras.layers import Input, Dense, Lambda, Flatten, Reshape, Activation, Dropout, Add, TimeDistributed, Multiply, Conv1D, Conv2D, MaxPooling1D, AveragePooling1D\n",
    "from keras.models import Model, Sequential, load_model\n",
    "from keras import backend as K\n",
    "from keras import metrics\n",
    "from keras import optimizers\n",
    "from keras.preprocessing.sequence import pad_sequences\n",
    "from keras.utils import to_categorical\n",
    "from keras.callbacks import History, ModelCheckpoint, EarlyStopping\n",
    "import matplotlib.pyplot as plt\n",
    "from sklearn.metrics import accuracy_score, confusion_matrix, plot_confusion_matrix\n",
    "from sklearn.model_selection import train_test_split\n",
    "from datetime import datetime"
   ]
  },
  {
   "cell_type": "code",
   "execution_count": 39,
   "metadata": {},
   "outputs": [],
   "source": []
  },
  {
   "cell_type": "code",
   "execution_count": 2,
   "metadata": {},
   "outputs": [],
   "source": [
    "def plot_confusion_matrix_mc(Y_true, Y_pred,\n",
    "                             target_names,\n",
    "                             name_file_output,\n",
    "                             title='Confusion matrix',\n",
    "                             cmap=None,\n",
    "                             normalize=True):\n",
    "    \n",
    "    cm = confusion_matrix(Y_true, Y_pred)\n",
    "    \n",
    "    accuracy = np.trace(cm) / np.sum(cm).astype('float')\n",
    "    misclass = 1 - accuracy\n",
    "\n",
    "    if cmap is None:\n",
    "        cmap = plt.get_cmap('Blues')\n",
    "\n",
    "    plt.figure(figsize=(8, 6))\n",
    "    plt.imshow(cm, interpolation='nearest', cmap=cmap)\n",
    "    plt.title(title)\n",
    "    plt.colorbar()\n",
    "\n",
    "    if target_names is not None:\n",
    "        tick_marks = np.arange(len(target_names))\n",
    "        plt.xticks(tick_marks, target_names, rotation=45)\n",
    "        plt.yticks(tick_marks, target_names)\n",
    "\n",
    "    if normalize:\n",
    "        cm = cm.astype('float') / cm.sum(axis=1)[:, np.newaxis]\n",
    "\n",
    "\n",
    "    thresh = cm.max() / 1.5 if normalize else cm.max() / 2\n",
    "    for i, j in itertools.product(range(cm.shape[0]), range(cm.shape[1])):\n",
    "        if normalize:\n",
    "            plt.text(j, i, \"{:0.4f}\".format(cm[i, j]),\n",
    "                     horizontalalignment=\"center\",\n",
    "                     color=\"white\" if cm[i, j] > thresh else \"black\")\n",
    "        else:\n",
    "            plt.text(j, i, \"{:,}\".format(cm[i, j]),\n",
    "                     horizontalalignment=\"center\",\n",
    "                     color=\"white\" if cm[i, j] > thresh else \"black\")\n",
    "\n",
    "\n",
    "    plt.tight_layout()\n",
    "    plt.ylabel('True label')\n",
    "    plt.xlabel('Predicted label\\naccuracy={:0.4f}; misclass={:0.4f}'.format(accuracy, misclass))\n",
    "    plt.savefig(name_file_output, format='pdf')\n",
    "    plt.show()\n"
   ]
  },
  {
   "cell_type": "code",
   "execution_count": 3,
   "metadata": {},
   "outputs": [],
   "source": [
    "class WaveNetClassifier():\n",
    "  def __init__(self, input_shape, output_shape, kernel_size = 2, dilation_depth = 9, n_filters = 40, task = 'classification', regression_range = None, load=False, load_dir='./'):\n",
    "    \"\"\"\n",
    "    Parameters:\n",
    "      input_shape: (tuple) tuple of input shape. (e.g. If input is 6s raw waveform with sampling rate = 16kHz, (96000,) is the input_shape)\n",
    "      output_shape: (tuple)tuple of output shape. (e.g. If we want classify the signal into 100 classes, (100,) is the output_shape)\n",
    "      kernel_size: (integer) kernel size of convolution operations in residual blocks\n",
    "      dilation_depth: (integer) type total depth of residual blocks\n",
    "      n_filters: (integer) # of filters of convolution operations in residual blocks\n",
    "      task: (string) 'classification' or 'regression'\n",
    "      regression_range: (list or tuple) target range of regression task\n",
    "      load: (bool) load previous WaveNetClassifier or not\n",
    "      load_dir: (string) the directory where the previous model exists\n",
    "    \"\"\"      \n",
    "    # save task info\n",
    "    self.task=task\n",
    "    if task == 'regression':\n",
    "      if regression_range[0] == 0:\n",
    "        self.activation = 'sigmoid'\n",
    "        self.scale_ratio = regression_range[1]\n",
    "      elif regression_range[0] == - regression_range[1]:\n",
    "        self.activation = 'tanh'\n",
    "        self.scale_ratio = regression_range[1]\n",
    "      elif regression_range == None:\n",
    "        self.activation = 'linear'\n",
    "        self.scale_ratio = 1\n",
    "      else:\n",
    "        print('ERROR: wrong regression range')\n",
    "        sys.exit()  \n",
    "    elif task == 'classification':\n",
    "      self.activation = 'softmax'\n",
    "      self.scale_ratio = 1      \n",
    "    else:\n",
    "      print('ERROR: wrong task')\n",
    "      sys.exit()\n",
    "    \n",
    "    # save input info\n",
    "    if len(input_shape) == 1:\n",
    "      self.expand_dims = True\n",
    "    elif len(input_shape) == 2:\n",
    "      self.expand_dims = False\n",
    "    else:\n",
    "      print('ERROR: wrong input shape')\n",
    "      sys.exit()\n",
    "    self.input_shape = input_shape\n",
    "    \n",
    "    # save output info\n",
    "    if len(output_shape) == 1:\n",
    "      self.time_distributed = False\n",
    "    elif len(output_shape) == 2:\n",
    "      self.time_distributed = True\n",
    "    else:\n",
    "      print('ERROR: wrong output shape')\n",
    "      sys.exit()\n",
    "    self.output_shape = output_shape\n",
    "    \n",
    "    # save hyperparameters of WaveNet\n",
    "    self.kernel_size = kernel_size\n",
    "    self.dilation_depth = dilation_depth\n",
    "    self.n_filters = n_filters\n",
    "    self.manual_loss = None\n",
    "\n",
    "    \n",
    "    if load is True:\n",
    "      self.model = load_model(load_dir+\"saved_wavenet_clasifier.h5\", custom_objects={'tf':tf})\n",
    "      self.prev_history = pd.read_csv(load_dir+'wavenet_classifier_training_history.csv')\n",
    "      self.start_idx = len(self.prev_history)\n",
    "      self.history = None\n",
    "    else:\n",
    "      self.model = self.construct_model()\n",
    "      self.start_idx = 0\n",
    "      self.history = None\n",
    "      self.prev_history = None\n",
    "\n",
    "    \n",
    "  def residual_block(self, x, i):\n",
    "    tanh_out = Conv1D(self.n_filters, \n",
    "                      self.kernel_size, \n",
    "                      dilation_rate = self.kernel_size**i, \n",
    "                      padding='causal', \n",
    "                      name='dilated_conv_%d_tanh' % (self.kernel_size ** i), \n",
    "                      activation='tanh'\n",
    "                      )(x)\n",
    "    sigm_out = Conv1D(self.n_filters, \n",
    "                      self.kernel_size, \n",
    "                      dilation_rate = self.kernel_size**i, \n",
    "                      padding='causal', \n",
    "                      name='dilated_conv_%d_sigm' % (self.kernel_size ** i), \n",
    "                      activation='sigmoid'\n",
    "                      )(x)\n",
    "    z = Multiply(name='gated_activation_%d' % (i))([tanh_out, sigm_out])\n",
    "    skip = Conv1D(self.n_filters, 1, name='skip_%d'%(i))(z)\n",
    "    res = Add(name='residual_block_%d' % (i))([skip, x])\n",
    "    return res, skip\n",
    "  \n",
    "  def construct_model(self):   \n",
    "    x = Input(shape=self.input_shape, name='original_input')\n",
    "    \n",
    "    self.expand_dims = True\n",
    "    if self.expand_dims == True:\n",
    "      #in_dim = [self.input_shape[0], self.input_shape[1]]     \n",
    "      #x_reshaped = Reshape(in_dim + [1], input_shape = in_dim, name='reshaped_input')(x)\n",
    "      x_reshaped = Reshape(self.input_shape + (1,), name='reshaped_input')(x)\n",
    "    else:\n",
    "      x_reshaped = x\n",
    "    skip_connections = []\n",
    "    \n",
    "    conv2d = Conv2D(self.n_filters, 2, strides=2, padding='same',  name='conv2d')(x_reshaped)\n",
    "    \n",
    "    out= Reshape((conv2d.shape[2].value,conv2d.shape[3].value), name='conv2d_to_1d')(conv2d)\n",
    "    \n",
    "    out = Conv1D(self.n_filters, 2, dilation_rate=1, padding='causal', name='dilated_conv_1')(out)\n",
    "    #out = Conv1D(self.n_filters, 2, dilation_rate=1, padding='causal', name='dilated_conv_1')(x_reshaped)\n",
    "    for i in range(1, self.dilation_depth + 1):\n",
    "      out, skip = self.residual_block(out,i)\n",
    "      skip_connections.append(skip)\n",
    "    out = Add(name='skip_connections')(skip_connections)\n",
    "    out = Activation('relu')(out)\n",
    "    out = Conv1D(self.n_filters, 80, strides = 1, padding='causal', name='conv_5ms', activation = 'relu')(out)\n",
    "    out = AveragePooling1D(80, padding='same', name='downsample_to_200Hz')(out)\n",
    "    if self.time_distributed:\n",
    "      target_kernel_size = (int) (self.input_shape[0] / 80 / self.output_shape[0]) # prev_len / x = target_len => x = prev_len / target_len\n",
    "      out = Conv1D(self.n_filters, target_kernel_size, padding='causal', name = 'conv_fit_to_target', activation='relu')(out)\n",
    "      out = Conv1D(self.output_shape[1], target_kernel_size, padding='causal', name='conv_final')(out)\n",
    "      out = AveragePooling1D(target_kernel_size, padding='same')(out)\n",
    "      out = TimeDistributed(Activation(self.activation))(out)\n",
    "    else:\n",
    "      out = Conv1D(self.n_filters, 100, padding='causal', activation='relu', name='conv_500ms')(out)\n",
    "      out = Conv1D(self.output_shape[0], 100, padding='causal', activation='relu', name='conv_500ms_target_shape')(out)\n",
    "      out = AveragePooling1D(100, padding='same',name = 'downsample_to_2Hz')(out)\n",
    "      out = Conv1D(self.output_shape[0], (int) (self.input_shape[1] / 8000), padding='same', name='final_conv')(out)\n",
    "      out = AveragePooling1D((int) (self.input_shape[1] / 8000), name='final_pooling')(out)\n",
    "      out = Flatten()(out)\n",
    "      out = Dense(3, activation = 'softmax' )(out)\n",
    "      #out = Reshape(self.output_shape)(out)\n",
    "      #out = Activation(self.activation)(out)\n",
    "    if self.scale_ratio != 1:\n",
    "      out = Lambda(lambda x: x * self.scale_ratio, name='output_reshaped')(out)\n",
    "    model = Model(x, out)  \n",
    "    model.summary()\n",
    "    return model\n",
    "    \n",
    "  def get_model(self):\n",
    "    return self.model\n",
    "    \n",
    "  def add_loss(self, loss):\n",
    "    self.manual_loss = loss\n",
    "  \n",
    "  def fit(self, X, Y, validation_data = None, epochs = 100, batch_size = 16, optimizer='adam', save=False, save_dir='./'):\n",
    "    # set default losses if not defined\n",
    "    if self.manual_loss is not None:\n",
    "      loss = self.manual_loss\n",
    "      metrics = None\n",
    "    else:\n",
    "      if self.task == 'classification':\n",
    "        loss = 'categorical_crossentropy'\n",
    "        metrics = ['accuracy']\n",
    "      else:\n",
    "        loss = 'mean_squared_error'\n",
    "        metrics = None\n",
    "        \n",
    "    # set callback functions\n",
    "    if save:\n",
    "      # datetime object containing current date and time\n",
    "      time_model = now = datetime.now()\n",
    "      dt_string = now.strftime(\"%d%m%Y%H%M%S\")\n",
    "      saved = save_dir + dt_string+\"_saved_wavenet_clasifier.h5\"\n",
    "      hist = save_dir + dt_string+\"_wavenet_classifier_training_history.csv\"\n",
    "      if validation_data is None:\n",
    "        checkpointer = ModelCheckpoint(filepath=saved, monitor='loss', verbose=1, save_best_only=True)\n",
    "      else:\n",
    "        checkpointer = ModelCheckpoint(filepath=saved, monitor='val_loss', verbose=1, save_best_only=True)\n",
    "      history = History()\n",
    "      early_stop = EarlyStopping(monitor = 'val_loss', min_delta = 0, patience = 10, verbose = 0, mode = 'auto')\n",
    "      callbacks = [history, checkpointer, early_stop]\n",
    "      #callbacks = [history, checkpointer]\n",
    "    else:\n",
    "      callbacks = None\n",
    "      \n",
    "    # compile the model\n",
    "    self.model.compile(optimizer, loss, metrics)\n",
    "    try:\n",
    "      self.history = self.model.fit(X, Y, shuffle = True, validation_split=0.2, batch_size=batch_size, epochs = epochs, validation_data = validation_data, callbacks=callbacks, initial_epoch=self.start_idx)\n",
    "    except:\n",
    "      if save:\n",
    "      \tdf = pd.DataFrame.from_dict(history.history)\n",
    "      \tdf.to_csv(hist, encoding='utf-8', index=False)\n",
    "      raise\n",
    "      sys.exit()\n",
    "    return self.history\n",
    "\n",
    "\n",
    "  def predict(self, x):\n",
    "    return self.model.predict(x)"
   ]
  },
  {
   "cell_type": "code",
   "execution_count": 4,
   "metadata": {
    "scrolled": true
   },
   "outputs": [],
   "source": [
    "def get_raw_xy(dataset_folder,dataset_filename):\n",
    "    path_to_dataset = dataset_folder+dataset_filename\n",
    "    f = h5py.File(path_to_dataset,'r')\n",
    "    X_obj = f['X']\n",
    "    Y_obj = f['Y']\n",
    "    [r,c] = f['X'].shape\n",
    "    X = []\n",
    "    Y = []\n",
    "    for i in trange(r):\n",
    "        X.append(np.array(f[X_obj[i][0]], dtype=np.int16))\n",
    "        Y.append(np.array(f[Y_obj[i][0]], dtype=np.int8))\n",
    "      #X_padded = tf.keras.preprocessing.sequence.pad_sequences(X, maxlen=num_iq_seq, padding=padding, truncating=padding)\n",
    "\n",
    "    return X,Y"
   ]
  },
  {
   "cell_type": "code",
   "execution_count": 5,
   "metadata": {},
   "outputs": [],
   "source": [
    "def pad_or_trunc_x(X, num_iq_seq, padding):\n",
    "    X_padded = []\n",
    "    num_samples=len(X)\n",
    "    for i in trange(num_samples):\n",
    "        X_padded.append(pad_sequences(X[i], maxlen=num_iq_seq, padding=padding, truncating=padding))\n",
    "    return np.array(X_padded)\n",
    "    "
   ]
  },
  {
   "cell_type": "code",
   "execution_count": 6,
   "metadata": {},
   "outputs": [],
   "source": [
    "def get_one_shot_labels(Y, num_classes):\n",
    "    Y_cat = to_categorical(Y,num_classes=num_classes)\n",
    "    return(Y_cat.reshape((Y_cat.shape[0],Y_cat.shape[2])))\n",
    "    "
   ]
  },
  {
   "cell_type": "code",
   "execution_count": 7,
   "metadata": {},
   "outputs": [],
   "source": [
    "def get_xy_4_training(X,Y,seed):\n",
    "    X_train, X_val_test, Y_train, Y_val_test = train_test_split(X, Y, test_size=0.3, random_state=seed)\n",
    "    X_val, X_test, Y_val, Y_test = train_test_split(X_val_test, Y_val_test, test_size=0.5, random_state=seed)\n",
    "    return X_train, X_val, X_test, Y_train, Y_val, Y_test"
   ]
  },
  {
   "cell_type": "code",
   "execution_count": 8,
   "metadata": {},
   "outputs": [],
   "source": [
    "seed = 42\n",
    "num_classes = 3\n",
    "num_iq_seq = 10000# 2.5ms at 20MHz BW\n",
    "padding = 'post'"
   ]
  },
  {
   "cell_type": "code",
   "execution_count": 9,
   "metadata": {},
   "outputs": [],
   "source": [
    "dataset_folder = '../new_dataset/waveforms/'\n",
    "dataset_filename = 'waveforms_2G_n_multi_mobile_app_multi_channel_100k_balanced.mat'"
   ]
  },
  {
   "cell_type": "code",
   "execution_count": 10,
   "metadata": {},
   "outputs": [],
   "source": [
    "#X,Y = get_xy(dataset_folder,dataset_filename, num_classes, num_iq_seq, padding)"
   ]
  },
  {
   "cell_type": "code",
   "execution_count": 11,
   "metadata": {},
   "outputs": [
    {
     "name": "stderr",
     "output_type": "stream",
     "text": [
      "100%|██████████| 57408/57408 [01:06<00:00, 861.68it/s] \n"
     ]
    }
   ],
   "source": [
    "Xraw, Yraw = get_raw_xy(dataset_folder,dataset_filename)"
   ]
  },
  {
   "cell_type": "code",
   "execution_count": 12,
   "metadata": {},
   "outputs": [
    {
     "name": "stderr",
     "output_type": "stream",
     "text": [
      "100%|██████████| 57408/57408 [00:04<00:00, 13115.61it/s]\n"
     ]
    }
   ],
   "source": [
    "X = pad_or_trunc_x(Xraw, num_iq_seq, padding)\n",
    "Y = get_one_shot_labels(Yraw, num_classes)"
   ]
  },
  {
   "cell_type": "code",
   "execution_count": 13,
   "metadata": {},
   "outputs": [
    {
     "name": "stdout",
     "output_type": "stream",
     "text": [
      "(40185, 2, 10000) (8611, 2, 10000) (8612, 2, 10000)\n",
      "(40185, 3) (8611, 3) (8612, 3)\n"
     ]
    }
   ],
   "source": [
    "X_train, X_val, X_test, Y_train, Y_val, Y_test = get_xy_4_training(X,Y,seed)\n",
    "print(X_train.shape,X_val.shape, X_test.shape)\n",
    "print(Y_train.shape,Y_val.shape, Y_test.shape)"
   ]
  },
  {
   "cell_type": "code",
   "execution_count": 14,
   "metadata": {},
   "outputs": [],
   "source": [
    "dataset_filename_qos = 'waveforms_2G_n_multi_mobile_app_2_only_qos.mat'\n",
    "#X_qos, Y_qos = get_xy(dataset_folder,dataset_filename_qos, num_classes, num_iq_seq, padding)"
   ]
  },
  {
   "cell_type": "code",
   "execution_count": 15,
   "metadata": {},
   "outputs": [
    {
     "name": "stderr",
     "output_type": "stream",
     "text": [
      "100%|██████████| 13765/13765 [00:16<00:00, 827.08it/s]\n"
     ]
    }
   ],
   "source": [
    "Xraw_qos, Yraw_qos = get_raw_xy(dataset_folder,dataset_filename_qos)"
   ]
  },
  {
   "cell_type": "code",
   "execution_count": 16,
   "metadata": {},
   "outputs": [
    {
     "name": "stderr",
     "output_type": "stream",
     "text": [
      "100%|██████████| 13765/13765 [00:01<00:00, 9018.57it/s]\n"
     ]
    }
   ],
   "source": [
    "X_qos = pad_or_trunc_x(Xraw_qos, num_iq_seq, padding)\n",
    "Y_qos = get_one_shot_labels(Yraw_qos, num_classes)"
   ]
  },
  {
   "cell_type": "code",
   "execution_count": 17,
   "metadata": {},
   "outputs": [
    {
     "name": "stdout",
     "output_type": "stream",
     "text": [
      "(13765, 2, 10000) (13765, 3)\n"
     ]
    }
   ],
   "source": [
    "print(X_qos.shape, Y_qos.shape)"
   ]
  },
  {
   "cell_type": "code",
   "execution_count": 18,
   "metadata": {},
   "outputs": [],
   "source": [
    "dataset_filename_test2 = 'waveforms_2G_n_multi_mobile_app_multi_channel_21042020_balanced.mat'"
   ]
  },
  {
   "cell_type": "code",
   "execution_count": 19,
   "metadata": {},
   "outputs": [
    {
     "name": "stderr",
     "output_type": "stream",
     "text": [
      "100%|██████████| 155839/155839 [07:03<00:00, 368.29it/s] \n"
     ]
    }
   ],
   "source": [
    "Xraw_test2, Yraw_test2 = get_raw_xy(dataset_folder,dataset_filename_test2)"
   ]
  },
  {
   "cell_type": "code",
   "execution_count": 20,
   "metadata": {},
   "outputs": [
    {
     "name": "stderr",
     "output_type": "stream",
     "text": [
      "100%|██████████| 155839/155839 [20:47<00:00, 124.91it/s]\n"
     ]
    }
   ],
   "source": [
    "X_test2 = pad_or_trunc_x(Xraw_test2, num_iq_seq, padding)\n",
    "Y_test2 = get_one_shot_labels(Yraw_test2, num_classes)"
   ]
  },
  {
   "cell_type": "code",
   "execution_count": 21,
   "metadata": {},
   "outputs": [
    {
     "name": "stdout",
     "output_type": "stream",
     "text": [
      "(155839, 2, 10000) (155839, 3)\n"
     ]
    }
   ],
   "source": [
    "print(X_test2.shape, Y_test2.shape)"
   ]
  },
  {
   "cell_type": "code",
   "execution_count": 22,
   "metadata": {},
   "outputs": [
    {
     "name": "stdout",
     "output_type": "stream",
     "text": [
      "WARNING:tensorflow:From /home/mcamelo/anaconda3/envs/traffic/lib/python3.7/site-packages/keras/backend/tensorflow_backend.py:4074: The name tf.nn.avg_pool is deprecated. Please use tf.nn.avg_pool2d instead.\n",
      "\n",
      "Model: \"model_1\"\n",
      "__________________________________________________________________________________________________\n",
      "Layer (type)                    Output Shape         Param #     Connected to                     \n",
      "==================================================================================================\n",
      "original_input (InputLayer)     (None, 2, 10000)     0                                            \n",
      "__________________________________________________________________________________________________\n",
      "reshaped_input (Reshape)        (None, 2, 10000, 1)  0           original_input[0][0]             \n",
      "__________________________________________________________________________________________________\n",
      "conv2d (Conv2D)                 (None, 1, 5000, 32)  160         reshaped_input[0][0]             \n",
      "__________________________________________________________________________________________________\n",
      "conv2d_to_1d (Reshape)          (None, 5000, 32)     0           conv2d[0][0]                     \n",
      "__________________________________________________________________________________________________\n",
      "dilated_conv_1 (Conv1D)         (None, 5000, 32)     2080        conv2d_to_1d[0][0]               \n",
      "__________________________________________________________________________________________________\n",
      "dilated_conv_2_tanh (Conv1D)    (None, 5000, 32)     2080        dilated_conv_1[0][0]             \n",
      "__________________________________________________________________________________________________\n",
      "dilated_conv_2_sigm (Conv1D)    (None, 5000, 32)     2080        dilated_conv_1[0][0]             \n",
      "__________________________________________________________________________________________________\n",
      "gated_activation_1 (Multiply)   (None, 5000, 32)     0           dilated_conv_2_tanh[0][0]        \n",
      "                                                                 dilated_conv_2_sigm[0][0]        \n",
      "__________________________________________________________________________________________________\n",
      "skip_1 (Conv1D)                 (None, 5000, 32)     1056        gated_activation_1[0][0]         \n",
      "__________________________________________________________________________________________________\n",
      "residual_block_1 (Add)          (None, 5000, 32)     0           skip_1[0][0]                     \n",
      "                                                                 dilated_conv_1[0][0]             \n",
      "__________________________________________________________________________________________________\n",
      "dilated_conv_4_tanh (Conv1D)    (None, 5000, 32)     2080        residual_block_1[0][0]           \n",
      "__________________________________________________________________________________________________\n",
      "dilated_conv_4_sigm (Conv1D)    (None, 5000, 32)     2080        residual_block_1[0][0]           \n",
      "__________________________________________________________________________________________________\n",
      "gated_activation_2 (Multiply)   (None, 5000, 32)     0           dilated_conv_4_tanh[0][0]        \n",
      "                                                                 dilated_conv_4_sigm[0][0]        \n",
      "__________________________________________________________________________________________________\n",
      "skip_2 (Conv1D)                 (None, 5000, 32)     1056        gated_activation_2[0][0]         \n",
      "__________________________________________________________________________________________________\n",
      "residual_block_2 (Add)          (None, 5000, 32)     0           skip_2[0][0]                     \n",
      "                                                                 residual_block_1[0][0]           \n",
      "__________________________________________________________________________________________________\n",
      "dilated_conv_8_tanh (Conv1D)    (None, 5000, 32)     2080        residual_block_2[0][0]           \n",
      "__________________________________________________________________________________________________\n",
      "dilated_conv_8_sigm (Conv1D)    (None, 5000, 32)     2080        residual_block_2[0][0]           \n",
      "__________________________________________________________________________________________________\n",
      "gated_activation_3 (Multiply)   (None, 5000, 32)     0           dilated_conv_8_tanh[0][0]        \n",
      "                                                                 dilated_conv_8_sigm[0][0]        \n",
      "__________________________________________________________________________________________________\n",
      "skip_3 (Conv1D)                 (None, 5000, 32)     1056        gated_activation_3[0][0]         \n",
      "__________________________________________________________________________________________________\n",
      "residual_block_3 (Add)          (None, 5000, 32)     0           skip_3[0][0]                     \n",
      "                                                                 residual_block_2[0][0]           \n",
      "__________________________________________________________________________________________________\n",
      "dilated_conv_16_tanh (Conv1D)   (None, 5000, 32)     2080        residual_block_3[0][0]           \n",
      "__________________________________________________________________________________________________\n",
      "dilated_conv_16_sigm (Conv1D)   (None, 5000, 32)     2080        residual_block_3[0][0]           \n",
      "__________________________________________________________________________________________________\n",
      "gated_activation_4 (Multiply)   (None, 5000, 32)     0           dilated_conv_16_tanh[0][0]       \n",
      "                                                                 dilated_conv_16_sigm[0][0]       \n",
      "__________________________________________________________________________________________________\n",
      "skip_4 (Conv1D)                 (None, 5000, 32)     1056        gated_activation_4[0][0]         \n",
      "__________________________________________________________________________________________________\n",
      "residual_block_4 (Add)          (None, 5000, 32)     0           skip_4[0][0]                     \n",
      "                                                                 residual_block_3[0][0]           \n",
      "__________________________________________________________________________________________________\n",
      "dilated_conv_32_tanh (Conv1D)   (None, 5000, 32)     2080        residual_block_4[0][0]           \n",
      "__________________________________________________________________________________________________\n",
      "dilated_conv_32_sigm (Conv1D)   (None, 5000, 32)     2080        residual_block_4[0][0]           \n",
      "__________________________________________________________________________________________________\n",
      "gated_activation_5 (Multiply)   (None, 5000, 32)     0           dilated_conv_32_tanh[0][0]       \n",
      "                                                                 dilated_conv_32_sigm[0][0]       \n",
      "__________________________________________________________________________________________________\n",
      "skip_5 (Conv1D)                 (None, 5000, 32)     1056        gated_activation_5[0][0]         \n",
      "__________________________________________________________________________________________________\n",
      "residual_block_5 (Add)          (None, 5000, 32)     0           skip_5[0][0]                     \n",
      "                                                                 residual_block_4[0][0]           \n",
      "__________________________________________________________________________________________________\n",
      "dilated_conv_64_tanh (Conv1D)   (None, 5000, 32)     2080        residual_block_5[0][0]           \n",
      "__________________________________________________________________________________________________\n",
      "dilated_conv_64_sigm (Conv1D)   (None, 5000, 32)     2080        residual_block_5[0][0]           \n",
      "__________________________________________________________________________________________________\n",
      "gated_activation_6 (Multiply)   (None, 5000, 32)     0           dilated_conv_64_tanh[0][0]       \n",
      "                                                                 dilated_conv_64_sigm[0][0]       \n",
      "__________________________________________________________________________________________________\n",
      "skip_6 (Conv1D)                 (None, 5000, 32)     1056        gated_activation_6[0][0]         \n",
      "__________________________________________________________________________________________________\n",
      "skip_connections (Add)          (None, 5000, 32)     0           skip_1[0][0]                     \n",
      "                                                                 skip_2[0][0]                     \n",
      "                                                                 skip_3[0][0]                     \n",
      "                                                                 skip_4[0][0]                     \n",
      "                                                                 skip_5[0][0]                     \n",
      "                                                                 skip_6[0][0]                     \n",
      "__________________________________________________________________________________________________\n",
      "activation_1 (Activation)       (None, 5000, 32)     0           skip_connections[0][0]           \n",
      "__________________________________________________________________________________________________\n",
      "conv_5ms (Conv1D)               (None, 5000, 32)     81952       activation_1[0][0]               \n",
      "__________________________________________________________________________________________________\n",
      "downsample_to_200Hz (AveragePoo (None, 63, 32)       0           conv_5ms[0][0]                   \n",
      "__________________________________________________________________________________________________\n",
      "conv_500ms (Conv1D)             (None, 63, 32)       102432      downsample_to_200Hz[0][0]        \n",
      "__________________________________________________________________________________________________\n",
      "conv_500ms_target_shape (Conv1D (None, 63, 3)        9603        conv_500ms[0][0]                 \n",
      "__________________________________________________________________________________________________\n",
      "downsample_to_2Hz (AveragePooli (None, 1, 3)         0           conv_500ms_target_shape[0][0]    \n",
      "__________________________________________________________________________________________________\n",
      "final_conv (Conv1D)             (None, 1, 3)         12          downsample_to_2Hz[0][0]          \n",
      "__________________________________________________________________________________________________\n",
      "final_pooling (AveragePooling1D (None, 1, 3)         0           final_conv[0][0]                 \n",
      "__________________________________________________________________________________________________\n",
      "flatten_1 (Flatten)             (None, 3)            0           final_pooling[0][0]              \n",
      "__________________________________________________________________________________________________\n",
      "dense_1 (Dense)                 (None, 3)            12          flatten_1[0][0]                  \n",
      "==================================================================================================\n",
      "Total params: 227,547\n",
      "Trainable params: 227,547\n",
      "Non-trainable params: 0\n",
      "__________________________________________________________________________________________________\n"
     ]
    }
   ],
   "source": [
    "wnc = WaveNetClassifier((2,num_iq_seq), (num_classes,), kernel_size = 2, dilation_depth = 6, n_filters = 32)"
   ]
  },
  {
   "cell_type": "code",
   "execution_count": null,
   "metadata": {},
   "outputs": [],
   "source": [
    "wnc.fit(X_train, Y_train, validation_data = (X_val, Y_val),save=True, epochs = 50)"
   ]
  },
  {
   "cell_type": "code",
   "execution_count": 27,
   "metadata": {},
   "outputs": [],
   "source": [
    "wcn_model = wnc.get_model()"
   ]
  },
  {
   "cell_type": "code",
   "execution_count": 28,
   "metadata": {},
   "outputs": [
    {
     "name": "stdout",
     "output_type": "stream",
     "text": [
      "8612/8612 [==============================] - 32s 4ms/step\n",
      "[0.006472596552837598, 0.9988388419151306]\n"
     ]
    }
   ],
   "source": [
    "test_results = wcn_model.evaluate(X_test, Y_test)\n",
    "print(test_results)"
   ]
  },
  {
   "cell_type": "code",
   "execution_count": 29,
   "metadata": {},
   "outputs": [
    {
     "name": "stdout",
     "output_type": "stream",
     "text": [
      "13765/13765 [==============================] - 111s 8ms/step\n",
      "[0.009924428597620268, 0.9986196756362915]\n"
     ]
    }
   ],
   "source": [
    "qos_results = wcn_model.evaluate(X_qos, Y_qos)\n",
    "print(qos_results)"
   ]
  },
  {
   "cell_type": "code",
   "execution_count": 31,
   "metadata": {},
   "outputs": [
    {
     "name": "stdout",
     "output_type": "stream",
     "text": [
      "155839/155839 [==============================] - 518s 3ms/step\n",
      "[0.02747761931373019, 0.9928259253501892]\n"
     ]
    }
   ],
   "source": [
    "test2_results = wcn_model.evaluate(X_test2, Y_test2)\n",
    "print(test2_results)"
   ]
  },
  {
   "cell_type": "code",
   "execution_count": 32,
   "metadata": {},
   "outputs": [
    {
     "data": {
      "text/plain": [
       "0.9988388295401764"
      ]
     },
     "execution_count": 32,
     "metadata": {},
     "output_type": "execute_result"
    }
   ],
   "source": [
    "Y_pred=np.argmax(wcn_model.predict(X_test),1)\n",
    "Y_true=np.argmax(Y_test,1)\n",
    "accuracy_score(Y_true, Y_pred)"
   ]
  },
  {
   "cell_type": "code",
   "execution_count": 33,
   "metadata": {},
   "outputs": [
    {
     "data": {
      "text/plain": [
       "0.9986196876135125"
      ]
     },
     "execution_count": 33,
     "metadata": {},
     "output_type": "execute_result"
    }
   ],
   "source": [
    "Y_pred_qos=np.argmax(wcn_model.predict(X_qos),1)\n",
    "Y_true_qos=np.argmax(Y_qos,1)\n",
    "accuracy_score(Y_pred_qos, Y_true_qos)"
   ]
  },
  {
   "cell_type": "code",
   "execution_count": 34,
   "metadata": {},
   "outputs": [
    {
     "data": {
      "text/plain": [
       "0.9928259293244952"
      ]
     },
     "execution_count": 34,
     "metadata": {},
     "output_type": "execute_result"
    }
   ],
   "source": [
    "Y_pred_test2=np.argmax(wcn_model.predict(X_test2),1)\n",
    "Y_true_test2=np.argmax(Y_test2,1)\n",
    "accuracy_score(Y_pred_test2, Y_true_test2)"
   ]
  },
  {
   "cell_type": "code",
   "execution_count": 35,
   "metadata": {},
   "outputs": [],
   "source": [
    "cm = confusion_matrix(Y_true, Y_pred, normalize='all')"
   ]
  },
  {
   "cell_type": "code",
   "execution_count": 40,
   "metadata": {},
   "outputs": [
    {
     "data": {
      "image/png": "[encoded data removed]",
      "text/plain": [
       "<Figure size 576x432 with 2 Axes>"
      ]
     },
     "metadata": {
      "needs_background": "light"
     },
     "output_type": "display_data"
    }
   ],
   "source": [
    "plot_confusion_matrix_mc(Y_true, Y_pred, [\"Mgmt\",\"Ctrl\",\"Data\"], \"conf_matrix_test.pdf\")"
   ]
  },
  {
   "cell_type": "code",
   "execution_count": 41,
   "metadata": {},
   "outputs": [
    {
     "data": {
      "image/png": "[encoded data removed]",
      "text/plain": [
       "<Figure size 576x432 with 2 Axes>"
      ]
     },
     "metadata": {
      "needs_background": "light"
     },
     "output_type": "display_data"
    }
   ],
   "source": [
    "plot_confusion_matrix_mc(Y_pred_qos, Y_true_qos, [\"Mgmt\",\"Ctrl\",\"Data\"], \"conf_matrix_qos.pdf\")"
   ]
  },
  {
   "cell_type": "code",
   "execution_count": 42,
   "metadata": {},
   "outputs": [
    {
     "data": {
      "image/png": "[encoded data removed]",
      "text/plain": [
       "<Figure size 576x432 with 2 Axes>"
      ]
     },
     "metadata": {
      "needs_background": "light"
     },
     "output_type": "display_data"
    }
   ],
   "source": [
    "plot_confusion_matrix_mc(Y_pred_test2, Y_true_test2, [\"Mgmt\",\"Ctrl\",\"Data\"], \"conf_matrix_test2.pdf\")"
   ]
  },
  {
   "cell_type": "code",
   "execution_count": null,
   "metadata": {},
   "outputs": [],
   "source": []
  }
 ],
 "metadata": {
  "kernelspec": {
   "display_name": "Python [conda env:traffic]",
   "language": "python",
   "name": "conda-env-traffic-py"
  },
  "language_info": {
   "codemirror_mode": {
    "name": "ipython",
    "version": 3
   },
   "file_extension": ".py",
   "mimetype": "text/x-python",
   "name": "python",
   "nbconvert_exporter": "python",
   "pygments_lexer": "ipython3",
   "version": "3.7.7"
  }
 },
 "nbformat": 4,
 "nbformat_minor": 4
}
