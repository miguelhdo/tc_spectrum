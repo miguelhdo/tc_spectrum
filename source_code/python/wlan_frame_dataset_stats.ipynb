{
 "cells": [
  {
   "cell_type": "code",
   "execution_count": 1,
   "metadata": {},
   "outputs": [
    {
     "name": "stdout",
     "output_type": "stream",
     "text": [
      "1 Physical GPUs, 1 Logical GPUs\n"
     ]
    }
   ],
   "source": [
    "import numpy as np\n",
    "import importlib\n",
    "from datetime import datetime\n",
    "import gc\n",
    "\n",
    "from helpers import pre_processing_wlan_utils as preprocess_utils\n",
    "from helpers import classifier_wlan_spectral_utils as classifier_utils\n",
    "from helpers import tr_models as tr_models"
   ]
  },
  {
   "cell_type": "code",
   "execution_count": 2,
   "metadata": {},
   "outputs": [
    {
     "name": "stdout",
     "output_type": "stream",
     "text": [
      "1 Physical GPUs, 1 Logical GPUs\n"
     ]
    },
    {
     "data": {
      "text/plain": [
       "<module 'helpers.pre_processing_wlan_utils' from 'C:\\\\Users\\\\migue\\\\development\\\\traffic-recognition-2020\\\\source_code\\\\python\\\\helpers\\\\pre_processing_wlan_utils.py'>"
      ]
     },
     "execution_count": 2,
     "metadata": {},
     "output_type": "execute_result"
    }
   ],
   "source": [
    "#In case of chaning data in the helpers, then reload the library to avoid restarting the kernel\n",
    "importlib.reload(tr_models)\n",
    "importlib.reload(classifier_utils)\n",
    "importlib.reload(preprocess_utils)"
   ]
  },
  {
   "cell_type": "code",
   "execution_count": 3,
   "metadata": {},
   "outputs": [],
   "source": [
    "dataset_folder = '../../dataset/waveforms/'\n",
    "dataset_filename = 'waveforms_SNR_16042020_2G_n_unknown_unknown_v2WLAN_CLASS_wlan-frame_balanced.mat'"
   ]
  },
  {
   "cell_type": "code",
   "execution_count": 4,
   "metadata": {},
   "outputs": [
    {
     "name": "stderr",
     "output_type": "stream",
     "text": [
      "  0%|                                                                             | 95/225468 [00:00<03:57, 949.78it/s]"
     ]
    },
    {
     "name": "stdout",
     "output_type": "stream",
     "text": [
      "Getting X for spectrum data\n"
     ]
    },
    {
     "name": "stderr",
     "output_type": "stream",
     "text": [
      "100%|████████████████████████████████████████████████████████████████████████| 225468/225468 [03:41<00:00, 1019.83it/s]\n"
     ]
    }
   ],
   "source": [
    "#Return a list of numpy arrays. It can not be transformed to a full numpy array as the samples do not have the same number of elements\n",
    "#Length of spectrum packets is len(example)/2 as the raw IQ example is 1D ->first I samples and then Q samples \n",
    "#Each element is in column format and it is int16\n",
    "X_L1 = classifier_utils.get_raw_x(dataset_folder,dataset_filename, data='spectrum')"
   ]
  },
  {
   "cell_type": "code",
   "execution_count": 5,
   "metadata": {},
   "outputs": [
    {
     "name": "stdout",
     "output_type": "stream",
     "text": [
      "[[ -1567]\n",
      " [ -1311]\n",
      " [  -102]\n",
      " [ -1007]\n",
      " [  -810]\n",
      " [  1356]\n",
      " [ -1695]\n",
      " [ -7725]\n",
      " [ 13438]\n",
      " [-15732]\n",
      " [  -743]\n",
      " [  9578]]\n"
     ]
    }
   ],
   "source": [
    "#Check firts values are:     [-1567    -1311     -102    -1007     -810     1356    -1695    -7725    13438   -15732     -743     9578] \n",
    "print(X_L1[0][0:12])"
   ]
  },
  {
   "cell_type": "code",
   "execution_count": 6,
   "metadata": {},
   "outputs": [
    {
     "name": "stderr",
     "output_type": "stream",
     "text": [
      "  0%|                                                                                       | 0/225468 [00:00<?, ?it/s]"
     ]
    },
    {
     "name": "stdout",
     "output_type": "stream",
     "text": [
      "Getting X for L2 data\n"
     ]
    },
    {
     "name": "stderr",
     "output_type": "stream",
     "text": [
      "100%|████████████████████████████████████████████████████████████████████████| 225468/225468 [01:23<00:00, 2699.60it/s]\n"
     ]
    }
   ],
   "source": [
    "#Return a list of numpy arrays. It can not be transformed to a full numpy array as the samples do not have the same number of elements\n",
    "#Each element is in column format and it is float32\n",
    "X_L2 = classifier_utils.get_raw_x(dataset_folder,dataset_filename, data='L2')"
   ]
  },
  {
   "cell_type": "code",
   "execution_count": 7,
   "metadata": {},
   "outputs": [
    {
     "name": "stdout",
     "output_type": "stream",
     "text": [
      "[[128.]\n",
      " [  0.]\n",
      " [  0.]\n",
      " [  0.]\n",
      " [255.]\n",
      " [255.]\n",
      " [255.]\n",
      " [255.]\n",
      " [255.]\n",
      " [255.]\n",
      " [226.]\n",
      " [185.]\n",
      " [229.]\n",
      " [ 34.]\n",
      " [192.]\n",
      " [ 14.]\n",
      " [226.]\n",
      " [185.]]\n"
     ]
    }
   ],
   "source": [
    "#Check firts values are: [128     0     0     0   255   255   255   255   255 255   226   185   229    34   192    14   226   185]\n",
    "print(X_L2[0][0:18])"
   ]
  },
  {
   "cell_type": "code",
   "execution_count": 8,
   "metadata": {},
   "outputs": [
    {
     "name": "stderr",
     "output_type": "stream",
     "text": [
      "100%|████████████████████████████████████████████████████████████████████████| 225468/225468 [01:14<00:00, 3026.14it/s]\n"
     ]
    }
   ],
   "source": [
    "#Each element is in row format and it is uint8\n",
    "Y = np.array(classifier_utils.get_raw_y(dataset_folder,dataset_filename)).reshape(-1,5)"
   ]
  },
  {
   "cell_type": "code",
   "execution_count": 9,
   "metadata": {},
   "outputs": [],
   "source": [
    "#Only Y can be transformed to a full numpy directly as all lists have same number of elements (5)\n",
    "Y_as_np = np.array(Y).reshape(-1,5)"
   ]
  },
  {
   "cell_type": "code",
   "execution_count": 10,
   "metadata": {},
   "outputs": [
    {
     "name": "stdout",
     "output_type": "stream",
     "text": [
      "225468\n",
      "225468\n",
      "225468\n"
     ]
    }
   ],
   "source": [
    "print(len(X_L1))\n",
    "print(len(X_L2))\n",
    "print(len(Y))"
   ]
  },
  {
   "cell_type": "code",
   "execution_count": 11,
   "metadata": {},
   "outputs": [
    {
     "name": "stdout",
     "output_type": "stream",
     "text": [
      "Label id:  1\n",
      "Num classes in that label:  3\n",
      "Labels:  ['b', 'g', 'n']\n"
     ]
    }
   ],
   "source": [
    "task = \"phy\"\n",
    "label_id_l1 = preprocess_utils.label_index[task]\n",
    "num_classes_l1 = preprocess_utils.num_classes[task]\n",
    "labels_string_l1 = preprocess_utils.labels_string[task]\n",
    "print(\"Label id: \", label_id_l1)\n",
    "print(\"Num classes in that label: \", num_classes_l1)\n",
    "print(\"Labels: \", labels_string_l1)\n",
    "Y_L1 = Y_as_np[:,label_id_l1]"
   ]
  },
  {
   "cell_type": "code",
   "execution_count": 12,
   "metadata": {},
   "outputs": [
    {
     "name": "stdout",
     "output_type": "stream",
     "text": [
      "Label id:  0\n",
      "Num classes in that label:  3\n",
      "Labels:  ['Mgmt', 'Ctrl', 'Data']\n"
     ]
    }
   ],
   "source": [
    "task = \"frames\"\n",
    "label_id_l2 = preprocess_utils.label_index[task]\n",
    "num_classes_l2 = preprocess_utils.num_classes[task]\n",
    "labels_string_l2 = preprocess_utils.labels_string[task]\n",
    "print(\"Label id: \", label_id_l2)\n",
    "print(\"Num classes in that label: \", num_classes_l2)\n",
    "print(\"Labels: \", labels_string_l2)\n",
    "Y_L2 = Y_as_np[:,label_id_l2]"
   ]
  },
  {
   "cell_type": "code",
   "execution_count": 13,
   "metadata": {},
   "outputs": [
    {
     "data": {
      "text/plain": [
       "array([75156, 75156, 75156], dtype=int64)"
      ]
     },
     "execution_count": 13,
     "metadata": {},
     "output_type": "execute_result"
    }
   ],
   "source": [
    "#Check number of elements per label in L2 (mgmt=0, ctr=1, data=2)\n",
    "np.bincount(Y_L2)"
   ]
  },
  {
   "cell_type": "code",
   "execution_count": 14,
   "metadata": {},
   "outputs": [
    {
     "data": {
      "text/plain": [
       "array([79007, 74197, 72264], dtype=int64)"
      ]
     },
     "execution_count": 14,
     "metadata": {},
     "output_type": "execute_result"
    }
   ],
   "source": [
    "#Check number of elements per label in L1 (b=0,g=1,n=2)\n",
    "np.bincount(Y_L1)"
   ]
  },
  {
   "cell_type": "code",
   "execution_count": 15,
   "metadata": {},
   "outputs": [
    {
     "name": "stdout",
     "output_type": "stream",
     "text": [
      "79007\n"
     ]
    }
   ],
   "source": [
    "#Get indexes of samples using 802.11b (0)\n",
    "b_idx = np.where(Y_L1==0)[0]\n",
    "print(len(b_idx))"
   ]
  },
  {
   "cell_type": "code",
   "execution_count": 16,
   "metadata": {},
   "outputs": [],
   "source": [
    "#Get frames that were transmitted using 802.11b\n",
    "Y_L2_b=np.take(Y_L2,b_idx)"
   ]
  },
  {
   "cell_type": "code",
   "execution_count": 17,
   "metadata": {},
   "outputs": [
    {
     "data": {
      "text/plain": [
       "array([74662,  1642,  2703], dtype=int64)"
      ]
     },
     "execution_count": 17,
     "metadata": {},
     "output_type": "execute_result"
    }
   ],
   "source": [
    "#Check distribution -> Most Mgmt frames were sent using 802.11b!\n",
    "np.bincount(Y_L2_b)"
   ]
  }
 ],
 "metadata": {
  "kernelspec": {
   "display_name": "Python [conda env:ml_keras_gpu] *",
   "language": "python",
   "name": "conda-env-ml_keras_gpu-py"
  },
  "language_info": {
   "codemirror_mode": {
    "name": "ipython",
    "version": 3
   },
   "file_extension": ".py",
   "mimetype": "text/x-python",
   "name": "python",
   "nbconvert_exporter": "python",
   "pygments_lexer": "ipython3",
   "version": "3.6.10"
  }
 },
 "nbformat": 4,
 "nbformat_minor": 4
}
