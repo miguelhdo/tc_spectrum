{
 "cells": [
  {
   "cell_type": "code",
   "execution_count": 1,
   "metadata": {},
   "outputs": [],
   "source": [
    "import numpy as np\n",
    "import importlib\n",
    "from datetime import datetime\n",
    "import gc\n",
    "import json\n",
    "import os"
   ]
  },
  {
   "cell_type": "code",
   "execution_count": 2,
   "metadata": {},
   "outputs": [],
   "source": [
    "#os.environ[\"CUDA_VISIBLE_DEVICES\"]=\"1\" # second gpu"
   ]
  },
  {
   "cell_type": "code",
   "execution_count": 3,
   "metadata": {},
   "outputs": [
    {
     "name": "stdout",
     "output_type": "stream",
     "text": [
      "1 Physical GPUs, 1 Logical GPUs\n"
     ]
    }
   ],
   "source": [
    "from helpers import pre_processing_wlan_utils as preprocess_utils\n",
    "from helpers import classifier_wlan_spectral_utils as classifier_utils\n",
    "from helpers import tr_models as tr_models"
   ]
  },
  {
   "cell_type": "code",
   "execution_count": 4,
   "metadata": {},
   "outputs": [
    {
     "name": "stdout",
     "output_type": "stream",
     "text": [
      "1 Physical GPUs, 1 Logical GPUs\n"
     ]
    }
   ],
   "source": [
    "# Tensorflow\n",
    "import tensorflow as tf\n",
    "gpus = tf.config.experimental.list_physical_devices('GPU')\n",
    "if gpus:\n",
    "    try:\n",
    "        # Currently, memory growth needs to be the same across GPUs\n",
    "        for gpu in gpus:\n",
    "            tf.config.experimental.set_memory_growth(gpu, True)\n",
    "        logical_gpus = tf.config.experimental.list_logical_devices('GPU')\n",
    "        print(len(gpus), \"Physical GPUs,\", len(logical_gpus), \"Logical GPUs\")\n",
    "    except RuntimeError as e:\n",
    "        # Memory growth must be set before GPUs have been initialized\n",
    "        print(e)\n",
    "\n",
    "\n",
    "# Keras API\n",
    "from tensorflow.keras.callbacks import History, ModelCheckpoint, EarlyStopping\n",
    "from tensorflow.keras.layers import Input, Dense, Lambda, Flatten, Reshape, Activation, Dropout, Add, TimeDistributed, \\\n",
    "    Multiply, Conv1D, Conv2D, MaxPooling2D, MaxPooling1D, AveragePooling1D, AveragePooling2D, BatchNormalization, LSTM\n",
    "from tensorflow.keras.models import Model, load_model, Sequential\n",
    "from sklearn.model_selection import train_test_split"
   ]
  },
  {
   "cell_type": "code",
   "execution_count": 5,
   "metadata": {},
   "outputs": [
    {
     "name": "stdout",
     "output_type": "stream",
     "text": [
      "1 Physical GPUs, 1 Logical GPUs\n"
     ]
    },
    {
     "data": {
      "text/plain": [
       "138"
      ]
     },
     "execution_count": 5,
     "metadata": {},
     "output_type": "execute_result"
    }
   ],
   "source": [
    "importlib.reload(tr_models)\n",
    "importlib.reload(classifier_utils)\n",
    "importlib.reload(preprocess_utils)\n",
    "gc.collect()"
   ]
  },
  {
   "cell_type": "code",
   "execution_count": 6,
   "metadata": {},
   "outputs": [],
   "source": [
    "num_iq_seq = 5000\n",
    "input_shape = (2,num_iq_seq)"
   ]
  },
  {
   "cell_type": "code",
   "execution_count": 7,
   "metadata": {},
   "outputs": [
    {
     "name": "stderr",
     "output_type": "stream",
     "text": [
      "  0%|          | 99/71603 [00:00<02:34, 461.54it/s]"
     ]
    },
    {
     "name": "stdout",
     "output_type": "stream",
     "text": [
      "Getting data for model\n",
      "Label id:  3\n",
      "Num classes in that label:  7\n",
      "Labels:  ['spotify', 'tunein', 'gpodcast', 'youtube', 'netflix', 'twitch', 'no-app']\n"
     ]
    },
    {
     "name": "stderr",
     "output_type": "stream",
     "text": [
      "100%|██████████| 71603/71603 [01:54<00:00, 626.38it/s]\n"
     ]
    }
   ],
   "source": [
    "print('Getting data for model')\n",
    "seed = 42\n",
    "task = \"app\"\n",
    "label = preprocess_utils.label_index[task]\n",
    "num_classes = preprocess_utils.num_classes[task]\n",
    "labels_string = preprocess_utils.labels_string[task]\n",
    "\n",
    "#adapting for 7 labels\n",
    "num_classes = num_classes-1\n",
    "del labels_string[7]\n",
    "print(\"Label id: \", label)\n",
    "print(\"Num classes in that label: \", num_classes)\n",
    "print(\"Labels: \", labels_string)\n",
    "\n",
    "padding = 'post'\n",
    "load_model=False\n",
    "load_dir='../../models/'\n",
    "load_file = '22042020175144_saved_wavenet_classifier'\n",
    "dataset_folder = '../../dataset/waveforms/'\n",
    "#dataset_filename = 'waveforms_SNR_v2_16042020_2G_n_mobile_7_classes_app_balanced.mat'\n",
    "dataset_filename = 'waveforms_07082020_2G_n_mobile_L8_SNR_app_balanced.mat'\n",
    "#dataset_filename = 'waveforms_16042020_2G_n_mobile_7_classes_app_balanced.mat'\n",
    "Xraw, Yraw = classifier_utils.get_raw_xy_spectrum(dataset_folder,dataset_filename)"
   ]
  },
  {
   "cell_type": "code",
   "execution_count": 8,
   "metadata": {},
   "outputs": [
    {
     "name": "stderr",
     "output_type": "stream",
     "text": [
      "100%|██████████| 71603/71603 [00:03<00:00, 18866.67it/s]\n"
     ]
    },
    {
     "name": "stdout",
     "output_type": "stream",
     "text": [
      "Oneshot labels\n",
      "Labels created\n"
     ]
    },
    {
     "data": {
      "text/plain": [
       "22"
      ]
     },
     "execution_count": 8,
     "metadata": {},
     "output_type": "execute_result"
    }
   ],
   "source": [
    "X = classifier_utils.pad_or_trunc_x_and_scale(Xraw, num_iq_seq, padding, scale=False)\n",
    "\n",
    "print(\"Oneshot labels\")\n",
    "Y = classifier_utils.get_one_hot_labels(Yraw, num_classes, label)\n",
    "gc.collect()"
   ]
  },
  {
   "cell_type": "code",
   "execution_count": 10,
   "metadata": {},
   "outputs": [
    {
     "name": "stdout",
     "output_type": "stream",
     "text": [
      "Performing data splitting\n",
      "(50122, 2, 5000) (21481, 2, 5000)\n",
      "Data Returned\n"
     ]
    },
    {
     "data": {
      "text/plain": [
       "22"
      ]
     },
     "execution_count": 10,
     "metadata": {},
     "output_type": "execute_result"
    }
   ],
   "source": [
    "print(\"Performing data splitting\")\n",
    "x_train, x_test, y_train, y_test = train_test_split(X, Y, test_size=0.3)\n",
    "\n",
    "#x_train, x_test, y_train, y_test = train_test_split(x_test, y_test, test_size=0.2)\n",
    "print(x_train.shape, x_test.shape)                     \n",
    "\n",
    "print('Data Returned')\n",
    "gc.collect()"
   ]
  },
  {
   "cell_type": "code",
   "execution_count": 15,
   "metadata": {},
   "outputs": [
    {
     "name": "stdout",
     "output_type": "stream",
     "text": [
      "Model: \"sequential_2\"\n",
      "_________________________________________________________________\n",
      "Layer (type)                 Output Shape              Param #   \n",
      "=================================================================\n",
      "conv2d_8 (Conv2D)            (None, 2, 5000, 64)       3200      \n",
      "_________________________________________________________________\n",
      "max_pooling2d_8 (MaxPooling2 (None, 1, 1250, 64)       0         \n",
      "_________________________________________________________________\n",
      "dropout_14 (Dropout)         (None, 1, 1250, 64)       0         \n",
      "_________________________________________________________________\n",
      "batch_normalization_14 (Batc (None, 1, 1250, 64)       256       \n",
      "_________________________________________________________________\n",
      "conv2d_9 (Conv2D)            (None, 1, 1250, 64)       200768    \n",
      "_________________________________________________________________\n",
      "max_pooling2d_9 (MaxPooling2 (None, 1, 313, 64)        0         \n",
      "_________________________________________________________________\n",
      "dropout_15 (Dropout)         (None, 1, 313, 64)        0         \n",
      "_________________________________________________________________\n",
      "batch_normalization_15 (Batc (None, 1, 313, 64)        256       \n",
      "_________________________________________________________________\n",
      "conv2d_10 (Conv2D)           (None, 1, 313, 64)        200768    \n",
      "_________________________________________________________________\n",
      "max_pooling2d_10 (MaxPooling (None, 1, 79, 64)         0         \n",
      "_________________________________________________________________\n",
      "dropout_16 (Dropout)         (None, 1, 79, 64)         0         \n",
      "_________________________________________________________________\n",
      "batch_normalization_16 (Batc (None, 1, 79, 64)         256       \n",
      "_________________________________________________________________\n",
      "conv2d_11 (Conv2D)           (None, 1, 79, 64)         200768    \n",
      "_________________________________________________________________\n",
      "max_pooling2d_11 (MaxPooling (None, 1, 20, 64)         0         \n",
      "_________________________________________________________________\n",
      "dropout_17 (Dropout)         (None, 1, 20, 64)         0         \n",
      "_________________________________________________________________\n",
      "batch_normalization_17 (Batc (None, 1, 20, 64)         256       \n",
      "_________________________________________________________________\n",
      "flatten_2 (Flatten)          (None, 1280)              0         \n",
      "_________________________________________________________________\n",
      "dense_8 (Dense)              (None, 128)               163968    \n",
      "_________________________________________________________________\n",
      "dropout_18 (Dropout)         (None, 128)               0         \n",
      "_________________________________________________________________\n",
      "batch_normalization_18 (Batc (None, 128)               512       \n",
      "_________________________________________________________________\n",
      "dense_9 (Dense)              (None, 64)                8256      \n",
      "_________________________________________________________________\n",
      "dropout_19 (Dropout)         (None, 64)                0         \n",
      "_________________________________________________________________\n",
      "batch_normalization_19 (Batc (None, 64)                256       \n",
      "_________________________________________________________________\n",
      "dense_10 (Dense)             (None, 32)                2080      \n",
      "_________________________________________________________________\n",
      "dropout_20 (Dropout)         (None, 32)                0         \n",
      "_________________________________________________________________\n",
      "batch_normalization_20 (Batc (None, 32)                128       \n",
      "_________________________________________________________________\n",
      "dense_11 (Dense)             (None, 7)                 231       \n",
      "=================================================================\n",
      "Total params: 781,959\n",
      "Trainable params: 780,999\n",
      "Non-trainable params: 960\n",
      "_________________________________________________________________\n"
     ]
    }
   ],
   "source": [
    "X_train_cnn = x_train.reshape(x_train.shape[0], x_train.shape[1], x_train.shape[2], 1)\n",
    "X_test_cnn = x_test.reshape(x_test.shape[0], x_test.shape[1], x_test.shape[2], 1)\n",
    "\n",
    "dropout = 0.1\n",
    "n_filters = 64\n",
    "kernel_size = 7\n",
    "pool = 4\n",
    "batch_size = 32\n",
    "epochs = 100\n",
    "\n",
    "model = Sequential()\n",
    "model.add(Conv2D(n_filters, kernel_size, activation=\"relu\", padding = 'same', kernel_initializer=\"glorot_normal\", input_shape=input_shape + (1,)))\n",
    "model.add(MaxPooling2D(pool, padding='same'))\n",
    "model.add(Dropout(dropout))\n",
    "model.add(BatchNormalization(axis=-1))\n",
    "\n",
    "model.add(Conv2D(n_filters, kernel_size, activation=\"relu\", padding = 'same'))\n",
    "model.add(MaxPooling2D(pool, padding='same'))\n",
    "model.add(Dropout(dropout))\n",
    "model.add(BatchNormalization(axis=-1))\n",
    "\n",
    "model.add(Conv2D(n_filters, kernel_size, activation=\"relu\", padding = 'same'))\n",
    "model.add(MaxPooling2D(pool, padding='same'))\n",
    "model.add(Dropout(dropout))\n",
    "model.add(BatchNormalization(axis=-1))\n",
    "\n",
    "model.add(Conv2D(n_filters, kernel_size, activation=\"relu\", padding = 'same'))\n",
    "model.add(MaxPooling2D(pool, padding='same'))\n",
    "model.add(Dropout(dropout))\n",
    "model.add(BatchNormalization(axis=-1))\n",
    "'''\n",
    "model.add(Conv2D(n_filters, kernel_size, activation=\"relu\", padding = 'same'))\n",
    "model.add(MaxPooling2D(pool_2, padding='same'))\n",
    "model.add(Dropout(dropout))\n",
    "model.add(BatchNormalization(axis=-1))\n",
    "\n",
    "model.add(Conv2D(n_filters, kernel_size, activation=\"relu\", padding = 'same'))\n",
    "model.add(MaxPooling2D(pool_2, padding='same'))\n",
    "model.add(Dropout(dropout))\n",
    "model.add(BatchNormalization(axis=-1))\n",
    "\n",
    "model.add(Conv2D(n_filters, kernel_size, activation=\"relu\", padding = 'same'))\n",
    "model.add(MaxPooling2D(pool_2, padding='same'))\n",
    "model.add(Dropout(dropout))\n",
    "model.add(BatchNormalization(axis=-1))\n",
    "\n",
    "model.add(Conv2D(n_filters, kernel_size, activation=\"relu\", padding = 'same'))\n",
    "model.add(MaxPooling2D(pool_2, padding='same'))\n",
    "model.add(Dropout(dropout))\n",
    "model.add(BatchNormalization(axis=-1))\n",
    "'''\n",
    "model.add(Flatten())\n",
    "\n",
    "\n",
    "model.add(Dense(128, activation='relu'))\n",
    "model.add(Dropout(dropout))\n",
    "model.add(BatchNormalization(axis=-1))\n",
    "\n",
    "model.add(Dense(64, activation='relu'))\n",
    "model.add(Dropout(dropout))\n",
    "model.add(BatchNormalization(axis=-1))\n",
    "\n",
    "model.add(Dense(32, activation='relu'))\n",
    "model.add(Dropout(dropout))\n",
    "model.add(BatchNormalization(axis=-1))\n",
    "\n",
    "model.add(Dense(num_classes, activation='softmax'))\n",
    "\n",
    "\n",
    "opt = \"adam\"\n",
    "\n",
    "model.compile(loss='categorical_crossentropy', metrics=['accuracy'],optimizer=opt)\n",
    "\n",
    "model.summary()\n"
   ]
  },
  {
   "cell_type": "code",
   "execution_count": 16,
   "metadata": {},
   "outputs": [
    {
     "name": "stdout",
     "output_type": "stream",
     "text": [
      "Epoch 1/100\n",
      "1254/1254 [==============================] - 133s 106ms/step - loss: 1.5042 - accuracy: 0.3926 - val_loss: 1.2040 - val_accuracy: 0.5131\n",
      "Epoch 2/100\n",
      "1254/1254 [==============================] - 130s 103ms/step - loss: 1.1310 - accuracy: 0.5404 - val_loss: 0.9698 - val_accuracy: 0.6034\n",
      "Epoch 3/100\n",
      "1254/1254 [==============================] - 129s 103ms/step - loss: 0.9874 - accuracy: 0.6045 - val_loss: 0.8786 - val_accuracy: 0.6370\n",
      "Epoch 4/100\n",
      "1254/1254 [==============================] - 130s 104ms/step - loss: 0.9117 - accuracy: 0.6302 - val_loss: 0.8370 - val_accuracy: 0.6491\n",
      "Epoch 5/100\n",
      "1254/1254 [==============================] - 124s 99ms/step - loss: 0.8761 - accuracy: 0.6410 - val_loss: 0.8074 - val_accuracy: 0.6592\n",
      "Epoch 6/100\n",
      "1254/1254 [==============================] - 53s 43ms/step - loss: 0.8517 - accuracy: 0.6472 - val_loss: 0.7938 - val_accuracy: 0.6649\n",
      "Epoch 7/100\n",
      "1254/1254 [==============================] - 53s 43ms/step - loss: 0.8303 - accuracy: 0.6547 - val_loss: 0.7810 - val_accuracy: 0.6678\n",
      "Epoch 8/100\n",
      "1254/1254 [==============================] - 54s 43ms/step - loss: 0.8183 - accuracy: 0.6638 - val_loss: 0.7570 - val_accuracy: 0.6771\n",
      "Epoch 9/100\n",
      "1254/1254 [==============================] - 53s 43ms/step - loss: 0.7983 - accuracy: 0.6709 - val_loss: 0.7484 - val_accuracy: 0.6850\n",
      "Epoch 10/100\n",
      "1254/1254 [==============================] - 53s 43ms/step - loss: 0.7829 - accuracy: 0.6772 - val_loss: 0.7251 - val_accuracy: 0.6907\n",
      "Epoch 11/100\n",
      "1254/1254 [==============================] - 54s 43ms/step - loss: 0.7649 - accuracy: 0.6816 - val_loss: 0.7182 - val_accuracy: 0.6945\n",
      "Epoch 12/100\n",
      "1254/1254 [==============================] - 53s 43ms/step - loss: 0.7504 - accuracy: 0.6866 - val_loss: 0.7136 - val_accuracy: 0.6947\n",
      "Epoch 13/100\n",
      "1254/1254 [==============================] - 53s 42ms/step - loss: 0.7404 - accuracy: 0.6900 - val_loss: 0.6944 - val_accuracy: 0.6989\n",
      "Epoch 14/100\n",
      "1254/1254 [==============================] - 53s 43ms/step - loss: 0.7271 - accuracy: 0.6972 - val_loss: 0.6807 - val_accuracy: 0.7136\n",
      "Epoch 15/100\n",
      "1254/1254 [==============================] - 54s 43ms/step - loss: 0.7168 - accuracy: 0.7001 - val_loss: 0.6658 - val_accuracy: 0.7162\n",
      "Epoch 16/100\n",
      "1254/1254 [==============================] - 53s 43ms/step - loss: 0.7039 - accuracy: 0.7043 - val_loss: 0.6539 - val_accuracy: 0.7209\n",
      "Epoch 17/100\n",
      "1254/1254 [==============================] - 54s 43ms/step - loss: 0.6850 - accuracy: 0.7115 - val_loss: 0.6464 - val_accuracy: 0.7239\n",
      "Epoch 18/100\n",
      "1254/1254 [==============================] - 54s 43ms/step - loss: 0.6779 - accuracy: 0.7132 - val_loss: 0.6336 - val_accuracy: 0.7308\n",
      "Epoch 19/100\n",
      "1254/1254 [==============================] - 54s 43ms/step - loss: 0.6684 - accuracy: 0.7190 - val_loss: 0.6304 - val_accuracy: 0.7332\n",
      "Epoch 20/100\n",
      "1254/1254 [==============================] - 53s 43ms/step - loss: 0.6612 - accuracy: 0.7226 - val_loss: 0.6141 - val_accuracy: 0.7426\n",
      "Epoch 21/100\n",
      "1254/1254 [==============================] - 54s 43ms/step - loss: 0.6467 - accuracy: 0.7296 - val_loss: 0.6066 - val_accuracy: 0.7447\n",
      "Epoch 22/100\n",
      "1254/1254 [==============================] - 53s 43ms/step - loss: 0.6441 - accuracy: 0.7292 - val_loss: 0.6020 - val_accuracy: 0.7448\n",
      "Epoch 23/100\n",
      "1254/1254 [==============================] - 54s 43ms/step - loss: 0.6302 - accuracy: 0.7388 - val_loss: 0.5982 - val_accuracy: 0.7414\n",
      "Epoch 24/100\n",
      "1254/1254 [==============================] - 53s 43ms/step - loss: 0.6211 - accuracy: 0.7387 - val_loss: 0.5875 - val_accuracy: 0.7522\n",
      "Epoch 25/100\n",
      "1254/1254 [==============================] - 54s 43ms/step - loss: 0.6152 - accuracy: 0.7432 - val_loss: 0.5841 - val_accuracy: 0.7516\n",
      "Epoch 26/100\n",
      "1254/1254 [==============================] - 53s 43ms/step - loss: 0.6074 - accuracy: 0.7458 - val_loss: 0.5727 - val_accuracy: 0.7532\n",
      "Epoch 27/100\n",
      "1254/1254 [==============================] - 53s 43ms/step - loss: 0.5969 - accuracy: 0.7521 - val_loss: 0.5704 - val_accuracy: 0.7584\n",
      "Epoch 28/100\n",
      "1254/1254 [==============================] - 53s 43ms/step - loss: 0.5920 - accuracy: 0.7567 - val_loss: 0.5592 - val_accuracy: 0.7624\n",
      "Epoch 29/100\n",
      "1254/1254 [==============================] - 53s 42ms/step - loss: 0.5850 - accuracy: 0.7563 - val_loss: 0.5602 - val_accuracy: 0.7646\n",
      "Epoch 30/100\n",
      "1254/1254 [==============================] - 53s 43ms/step - loss: 0.5823 - accuracy: 0.7600 - val_loss: 0.5538 - val_accuracy: 0.7664\n",
      "Epoch 31/100\n",
      "1254/1254 [==============================] - 53s 43ms/step - loss: 0.5758 - accuracy: 0.7614 - val_loss: 0.5452 - val_accuracy: 0.7702\n",
      "Epoch 32/100\n",
      "1254/1254 [==============================] - 53s 42ms/step - loss: 0.5674 - accuracy: 0.7666 - val_loss: 0.5379 - val_accuracy: 0.7739\n",
      "Epoch 33/100\n",
      "1254/1254 [==============================] - 53s 42ms/step - loss: 0.5597 - accuracy: 0.7682 - val_loss: 0.5423 - val_accuracy: 0.7818\n",
      "Epoch 34/100\n",
      "1254/1254 [==============================] - 53s 43ms/step - loss: 0.5562 - accuracy: 0.7692 - val_loss: 0.5372 - val_accuracy: 0.7793\n",
      "Epoch 35/100\n",
      "1254/1254 [==============================] - 53s 43ms/step - loss: 0.5495 - accuracy: 0.7746 - val_loss: 0.5362 - val_accuracy: 0.7856\n",
      "Epoch 36/100\n",
      "1254/1254 [==============================] - 53s 43ms/step - loss: 0.5463 - accuracy: 0.7756 - val_loss: 0.5222 - val_accuracy: 0.7922\n",
      "Epoch 37/100\n",
      "1254/1254 [==============================] - 53s 43ms/step - loss: 0.5386 - accuracy: 0.7781 - val_loss: 0.5281 - val_accuracy: 0.7799\n",
      "Epoch 38/100\n",
      "1254/1254 [==============================] - 53s 42ms/step - loss: 0.5324 - accuracy: 0.7848 - val_loss: 0.5161 - val_accuracy: 0.7909\n",
      "Epoch 39/100\n",
      "1254/1254 [==============================] - 53s 42ms/step - loss: 0.5240 - accuracy: 0.7868 - val_loss: 0.5161 - val_accuracy: 0.7881\n",
      "Epoch 40/100\n",
      "1254/1254 [==============================] - 53s 43ms/step - loss: 0.5258 - accuracy: 0.7874 - val_loss: 0.5121 - val_accuracy: 0.7875\n",
      "Epoch 41/100\n",
      "1254/1254 [==============================] - 53s 42ms/step - loss: 0.5199 - accuracy: 0.7895 - val_loss: 0.5141 - val_accuracy: 0.7842\n",
      "Epoch 42/100\n",
      "1254/1254 [==============================] - 53s 42ms/step - loss: 0.5205 - accuracy: 0.7906 - val_loss: 0.5028 - val_accuracy: 0.7951\n",
      "Epoch 43/100\n",
      "1254/1254 [==============================] - 53s 42ms/step - loss: 0.5101 - accuracy: 0.7957 - val_loss: 0.4918 - val_accuracy: 0.7986\n",
      "Epoch 44/100\n",
      "1254/1254 [==============================] - 53s 42ms/step - loss: 0.5089 - accuracy: 0.7925 - val_loss: 0.4849 - val_accuracy: 0.8049\n",
      "Epoch 45/100\n",
      "1254/1254 [==============================] - 53s 42ms/step - loss: 0.5071 - accuracy: 0.7966 - val_loss: 0.4863 - val_accuracy: 0.8048\n",
      "Epoch 46/100\n",
      "1254/1254 [==============================] - 53s 43ms/step - loss: 0.4991 - accuracy: 0.8010 - val_loss: 0.4864 - val_accuracy: 0.8019\n",
      "Epoch 47/100\n",
      "1254/1254 [==============================] - 53s 42ms/step - loss: 0.4953 - accuracy: 0.8048 - val_loss: 0.4870 - val_accuracy: 0.8040\n",
      "Epoch 48/100\n",
      "1254/1254 [==============================] - 53s 42ms/step - loss: 0.4855 - accuracy: 0.8050 - val_loss: 0.4766 - val_accuracy: 0.8119\n",
      "Epoch 49/100\n",
      "1254/1254 [==============================] - 53s 42ms/step - loss: 0.4877 - accuracy: 0.8054 - val_loss: 0.4875 - val_accuracy: 0.8086\n",
      "Epoch 50/100\n",
      "1254/1254 [==============================] - 53s 42ms/step - loss: 0.4854 - accuracy: 0.8061 - val_loss: 0.4827 - val_accuracy: 0.8096\n",
      "Epoch 51/100\n",
      "1254/1254 [==============================] - 53s 42ms/step - loss: 0.4830 - accuracy: 0.8071 - val_loss: 0.4765 - val_accuracy: 0.8102\n",
      "Epoch 52/100\n",
      "1254/1254 [==============================] - 53s 42ms/step - loss: 0.4770 - accuracy: 0.8081 - val_loss: 0.4737 - val_accuracy: 0.8134\n",
      "Epoch 53/100\n",
      "1254/1254 [==============================] - 53s 42ms/step - loss: 0.4741 - accuracy: 0.8131 - val_loss: 0.4661 - val_accuracy: 0.8107\n",
      "Epoch 54/100\n",
      "1254/1254 [==============================] - 53s 43ms/step - loss: 0.4727 - accuracy: 0.8118 - val_loss: 0.4656 - val_accuracy: 0.8151\n",
      "Epoch 55/100\n",
      "1254/1254 [==============================] - 53s 42ms/step - loss: 0.4637 - accuracy: 0.8176 - val_loss: 0.4710 - val_accuracy: 0.8137\n",
      "Epoch 56/100\n",
      "1254/1254 [==============================] - 53s 42ms/step - loss: 0.4668 - accuracy: 0.8131 - val_loss: 0.4680 - val_accuracy: 0.8135\n",
      "Epoch 57/100\n",
      "1254/1254 [==============================] - 53s 42ms/step - loss: 0.4721 - accuracy: 0.8125 - val_loss: 0.4669 - val_accuracy: 0.8148\n",
      "Epoch 58/100\n",
      "1254/1254 [==============================] - 53s 42ms/step - loss: 0.4655 - accuracy: 0.8177 - val_loss: 0.4621 - val_accuracy: 0.8172\n",
      "Epoch 59/100\n",
      "1254/1254 [==============================] - 53s 42ms/step - loss: 0.4531 - accuracy: 0.8210 - val_loss: 0.4798 - val_accuracy: 0.8069\n",
      "Epoch 60/100\n",
      "1254/1254 [==============================] - 53s 42ms/step - loss: 0.4617 - accuracy: 0.8182 - val_loss: 0.4560 - val_accuracy: 0.8202\n",
      "Epoch 61/100\n",
      "1254/1254 [==============================] - 53s 42ms/step - loss: 0.4516 - accuracy: 0.8232 - val_loss: 0.4605 - val_accuracy: 0.8188\n",
      "Epoch 62/100\n",
      "1254/1254 [==============================] - 53s 42ms/step - loss: 0.4535 - accuracy: 0.8193 - val_loss: 0.4579 - val_accuracy: 0.8142\n",
      "Epoch 63/100\n",
      "1254/1254 [==============================] - 53s 43ms/step - loss: 0.4484 - accuracy: 0.8220 - val_loss: 0.4506 - val_accuracy: 0.8236\n",
      "Epoch 64/100\n",
      "1254/1254 [==============================] - 53s 42ms/step - loss: 0.4472 - accuracy: 0.8235 - val_loss: 0.4502 - val_accuracy: 0.8207\n",
      "Epoch 65/100\n",
      "1254/1254 [==============================] - 53s 43ms/step - loss: 0.4410 - accuracy: 0.8261 - val_loss: 0.4510 - val_accuracy: 0.8188\n",
      "Epoch 66/100\n",
      "1254/1254 [==============================] - 53s 42ms/step - loss: 0.4347 - accuracy: 0.8269 - val_loss: 0.4537 - val_accuracy: 0.8209\n",
      "Epoch 67/100\n",
      "1254/1254 [==============================] - 53s 42ms/step - loss: 0.4420 - accuracy: 0.8264 - val_loss: 0.4470 - val_accuracy: 0.8199\n",
      "Epoch 68/100\n",
      "1254/1254 [==============================] - 53s 42ms/step - loss: 0.4356 - accuracy: 0.8283 - val_loss: 0.4557 - val_accuracy: 0.8191\n",
      "Epoch 69/100\n",
      "1254/1254 [==============================] - 53s 43ms/step - loss: 0.4389 - accuracy: 0.8263 - val_loss: 0.4518 - val_accuracy: 0.8204\n",
      "Epoch 70/100\n",
      "1254/1254 [==============================] - 53s 42ms/step - loss: 0.4341 - accuracy: 0.8297 - val_loss: 0.4475 - val_accuracy: 0.8197\n",
      "Epoch 71/100\n",
      "1254/1254 [==============================] - 53s 43ms/step - loss: 0.4304 - accuracy: 0.8297 - val_loss: 0.4552 - val_accuracy: 0.8221\n",
      "Epoch 72/100\n",
      "1254/1254 [==============================] - 54s 43ms/step - loss: 0.4289 - accuracy: 0.8309 - val_loss: 0.4397 - val_accuracy: 0.8220\n",
      "Epoch 73/100\n",
      "1254/1254 [==============================] - 53s 43ms/step - loss: 0.4292 - accuracy: 0.8290 - val_loss: 0.4427 - val_accuracy: 0.8211\n",
      "Epoch 74/100\n",
      "1254/1254 [==============================] - 53s 43ms/step - loss: 0.4222 - accuracy: 0.8357 - val_loss: 0.4380 - val_accuracy: 0.8283\n",
      "Epoch 75/100\n",
      "1254/1254 [==============================] - 54s 43ms/step - loss: 0.4227 - accuracy: 0.8337 - val_loss: 0.4434 - val_accuracy: 0.8242\n",
      "Epoch 76/100\n",
      "1254/1254 [==============================] - 53s 43ms/step - loss: 0.4182 - accuracy: 0.8377 - val_loss: 0.4421 - val_accuracy: 0.8275\n",
      "Epoch 77/100\n",
      "1254/1254 [==============================] - 54s 43ms/step - loss: 0.4209 - accuracy: 0.8351 - val_loss: 0.4441 - val_accuracy: 0.8217\n",
      "Epoch 78/100\n",
      "1254/1254 [==============================] - 53s 43ms/step - loss: 0.4206 - accuracy: 0.8365 - val_loss: 0.4385 - val_accuracy: 0.8281\n",
      "Epoch 79/100\n",
      "1254/1254 [==============================] - 53s 43ms/step - loss: 0.4181 - accuracy: 0.8359 - val_loss: 0.4463 - val_accuracy: 0.8257\n",
      "Epoch 80/100\n",
      "1254/1254 [==============================] - 53s 43ms/step - loss: 0.4134 - accuracy: 0.8389 - val_loss: 0.4458 - val_accuracy: 0.8263\n",
      "Epoch 81/100\n",
      "1254/1254 [==============================] - 53s 43ms/step - loss: 0.4097 - accuracy: 0.8387 - val_loss: 0.4360 - val_accuracy: 0.8249\n",
      "Epoch 82/100\n",
      "1254/1254 [==============================] - 53s 42ms/step - loss: 0.4116 - accuracy: 0.8393 - val_loss: 0.4430 - val_accuracy: 0.8280\n",
      "Epoch 83/100\n",
      "1254/1254 [==============================] - 53s 43ms/step - loss: 0.4113 - accuracy: 0.8384 - val_loss: 0.4396 - val_accuracy: 0.8265\n",
      "Epoch 84/100\n",
      "1254/1254 [==============================] - 53s 43ms/step - loss: 0.4104 - accuracy: 0.8385 - val_loss: 0.4452 - val_accuracy: 0.8259\n",
      "Epoch 85/100\n",
      "1254/1254 [==============================] - 53s 42ms/step - loss: 0.4104 - accuracy: 0.8418 - val_loss: 0.4340 - val_accuracy: 0.8252\n",
      "Epoch 86/100\n",
      "1254/1254 [==============================] - 53s 43ms/step - loss: 0.4069 - accuracy: 0.8423 - val_loss: 0.4378 - val_accuracy: 0.8257\n",
      "Epoch 87/100\n",
      "1254/1254 [==============================] - 53s 43ms/step - loss: 0.4056 - accuracy: 0.8411 - val_loss: 0.4396 - val_accuracy: 0.8276\n",
      "Epoch 88/100\n",
      "1254/1254 [==============================] - 53s 43ms/step - loss: 0.4006 - accuracy: 0.8437 - val_loss: 0.4380 - val_accuracy: 0.8294\n",
      "Epoch 89/100\n",
      "1254/1254 [==============================] - 53s 43ms/step - loss: 0.3998 - accuracy: 0.8422 - val_loss: 0.4435 - val_accuracy: 0.8286\n",
      "Epoch 90/100\n",
      "1254/1254 [==============================] - 53s 42ms/step - loss: 0.3920 - accuracy: 0.8479 - val_loss: 0.4396 - val_accuracy: 0.8284\n",
      "Epoch 91/100\n",
      "1254/1254 [==============================] - 53s 42ms/step - loss: 0.3944 - accuracy: 0.8467 - val_loss: 0.4344 - val_accuracy: 0.8294\n",
      "Epoch 92/100\n",
      "1254/1254 [==============================] - 53s 43ms/step - loss: 0.4022 - accuracy: 0.8427 - val_loss: 0.4417 - val_accuracy: 0.8292\n",
      "Epoch 93/100\n",
      "1254/1254 [==============================] - 53s 43ms/step - loss: 0.3955 - accuracy: 0.8444 - val_loss: 0.4334 - val_accuracy: 0.8281\n",
      "Epoch 94/100\n",
      "1254/1254 [==============================] - 53s 43ms/step - loss: 0.3882 - accuracy: 0.8470 - val_loss: 0.4328 - val_accuracy: 0.8304\n",
      "Epoch 95/100\n",
      "1254/1254 [==============================] - 53s 43ms/step - loss: 0.3921 - accuracy: 0.8455 - val_loss: 0.4328 - val_accuracy: 0.8305\n",
      "Epoch 96/100\n",
      "1254/1254 [==============================] - 53s 42ms/step - loss: 0.3903 - accuracy: 0.8481 - val_loss: 0.4371 - val_accuracy: 0.8252\n",
      "Epoch 97/100\n",
      "1254/1254 [==============================] - 53s 42ms/step - loss: 0.3841 - accuracy: 0.8498 - val_loss: 0.4338 - val_accuracy: 0.8294\n",
      "Epoch 98/100\n",
      "1254/1254 [==============================] - 53s 42ms/step - loss: 0.3920 - accuracy: 0.8475 - val_loss: 0.4368 - val_accuracy: 0.8299\n",
      "Epoch 99/100\n",
      "1254/1254 [==============================] - 53s 42ms/step - loss: 0.3873 - accuracy: 0.8483 - val_loss: 0.4317 - val_accuracy: 0.8314\n",
      "Epoch 100/100\n",
      "1254/1254 [==============================] - 53s 42ms/step - loss: 0.3836 - accuracy: 0.8505 - val_loss: 0.4346 - val_accuracy: 0.8285\n"
     ]
    }
   ],
   "source": [
    "early_stop = EarlyStopping(monitor='val_loss', min_delta=0, patience=20, verbose=0, mode='auto')\n",
    "callbacks = [early_stop]\n",
    "result = model.fit(X_train_cnn, y_train, shuffle=True, validation_split=0.2, verbose = 1, \n",
    "                   batch_size=batch_size, epochs=epochs, callbacks=callbacks)"
   ]
  },
  {
   "cell_type": "code",
   "execution_count": 17,
   "metadata": {},
   "outputs": [
    {
     "data": {
      "image/png": "[encoded data removed]",
      "text/plain": [
       "<Figure size 576x432 with 2 Axes>"
      ]
     },
     "metadata": {
      "needs_background": "light"
     },
     "output_type": "display_data"
    }
   ],
   "source": [
    "prefix = 'cnn_darpa_'+str(dropout)+'_'+str(n_filters)+'_'+str(kernel_size)+'_'+str(pool)+'_'+str(batch_size)+'_'+str(epochs)\n",
    "classifier_utils.compute_and_save_conf_matrix(model, X_test_cnn, y_test, labels_string, filename_prefix = prefix, precision = \"{:0.2f}\")"
   ]
  },
  {
   "cell_type": "code",
   "execution_count": null,
   "metadata": {},
   "outputs": [],
   "source": []
  },
  {
   "cell_type": "code",
   "execution_count": null,
   "metadata": {},
   "outputs": [],
   "source": []
  }
 ],
 "metadata": {
  "kernelspec": {
   "display_name": "Python 3",
   "language": "python",
   "name": "python3"
  },
  "language_info": {
   "codemirror_mode": {
    "name": "ipython",
    "version": 3
   },
   "file_extension": ".py",
   "mimetype": "text/x-python",
   "name": "python",
   "nbconvert_exporter": "python",
   "pygments_lexer": "ipython3",
   "version": "3.8.3"
  }
 },
 "nbformat": 4,
 "nbformat_minor": 4
}
