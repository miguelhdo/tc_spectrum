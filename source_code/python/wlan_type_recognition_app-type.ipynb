{
 "cells": [
  {
   "cell_type": "code",
   "execution_count": 1,
   "metadata": {},
   "outputs": [
    {
     "name": "stderr",
     "output_type": "stream",
     "text": [
      "/home/mcamelo/anaconda3/envs/traffic/lib/python3.7/site-packages/tensorflow/python/framework/dtypes.py:516: FutureWarning: Passing (type, 1) or '1type' as a synonym of type is deprecated; in a future version of numpy, it will be understood as (type, (1,)) / '(1,)type'.\n",
      "  _np_qint8 = np.dtype([(\"qint8\", np.int8, 1)])\n",
      "/home/mcamelo/anaconda3/envs/traffic/lib/python3.7/site-packages/tensorflow/python/framework/dtypes.py:517: FutureWarning: Passing (type, 1) or '1type' as a synonym of type is deprecated; in a future version of numpy, it will be understood as (type, (1,)) / '(1,)type'.\n",
      "  _np_quint8 = np.dtype([(\"quint8\", np.uint8, 1)])\n",
      "/home/mcamelo/anaconda3/envs/traffic/lib/python3.7/site-packages/tensorflow/python/framework/dtypes.py:518: FutureWarning: Passing (type, 1) or '1type' as a synonym of type is deprecated; in a future version of numpy, it will be understood as (type, (1,)) / '(1,)type'.\n",
      "  _np_qint16 = np.dtype([(\"qint16\", np.int16, 1)])\n",
      "/home/mcamelo/anaconda3/envs/traffic/lib/python3.7/site-packages/tensorflow/python/framework/dtypes.py:519: FutureWarning: Passing (type, 1) or '1type' as a synonym of type is deprecated; in a future version of numpy, it will be understood as (type, (1,)) / '(1,)type'.\n",
      "  _np_quint16 = np.dtype([(\"quint16\", np.uint16, 1)])\n",
      "/home/mcamelo/anaconda3/envs/traffic/lib/python3.7/site-packages/tensorflow/python/framework/dtypes.py:520: FutureWarning: Passing (type, 1) or '1type' as a synonym of type is deprecated; in a future version of numpy, it will be understood as (type, (1,)) / '(1,)type'.\n",
      "  _np_qint32 = np.dtype([(\"qint32\", np.int32, 1)])\n",
      "/home/mcamelo/anaconda3/envs/traffic/lib/python3.7/site-packages/tensorflow/python/framework/dtypes.py:525: FutureWarning: Passing (type, 1) or '1type' as a synonym of type is deprecated; in a future version of numpy, it will be understood as (type, (1,)) / '(1,)type'.\n",
      "  np_resource = np.dtype([(\"resource\", np.ubyte, 1)])\n",
      "/home/mcamelo/anaconda3/envs/traffic/lib/python3.7/site-packages/tensorboard/compat/tensorflow_stub/dtypes.py:541: FutureWarning: Passing (type, 1) or '1type' as a synonym of type is deprecated; in a future version of numpy, it will be understood as (type, (1,)) / '(1,)type'.\n",
      "  _np_qint8 = np.dtype([(\"qint8\", np.int8, 1)])\n",
      "/home/mcamelo/anaconda3/envs/traffic/lib/python3.7/site-packages/tensorboard/compat/tensorflow_stub/dtypes.py:542: FutureWarning: Passing (type, 1) or '1type' as a synonym of type is deprecated; in a future version of numpy, it will be understood as (type, (1,)) / '(1,)type'.\n",
      "  _np_quint8 = np.dtype([(\"quint8\", np.uint8, 1)])\n",
      "/home/mcamelo/anaconda3/envs/traffic/lib/python3.7/site-packages/tensorboard/compat/tensorflow_stub/dtypes.py:543: FutureWarning: Passing (type, 1) or '1type' as a synonym of type is deprecated; in a future version of numpy, it will be understood as (type, (1,)) / '(1,)type'.\n",
      "  _np_qint16 = np.dtype([(\"qint16\", np.int16, 1)])\n",
      "/home/mcamelo/anaconda3/envs/traffic/lib/python3.7/site-packages/tensorboard/compat/tensorflow_stub/dtypes.py:544: FutureWarning: Passing (type, 1) or '1type' as a synonym of type is deprecated; in a future version of numpy, it will be understood as (type, (1,)) / '(1,)type'.\n",
      "  _np_quint16 = np.dtype([(\"quint16\", np.uint16, 1)])\n",
      "/home/mcamelo/anaconda3/envs/traffic/lib/python3.7/site-packages/tensorboard/compat/tensorflow_stub/dtypes.py:545: FutureWarning: Passing (type, 1) or '1type' as a synonym of type is deprecated; in a future version of numpy, it will be understood as (type, (1,)) / '(1,)type'.\n",
      "  _np_qint32 = np.dtype([(\"qint32\", np.int32, 1)])\n",
      "/home/mcamelo/anaconda3/envs/traffic/lib/python3.7/site-packages/tensorboard/compat/tensorflow_stub/dtypes.py:550: FutureWarning: Passing (type, 1) or '1type' as a synonym of type is deprecated; in a future version of numpy, it will be understood as (type, (1,)) / '(1,)type'.\n",
      "  np_resource = np.dtype([(\"resource\", np.ubyte, 1)])\n",
      "Using TensorFlow backend.\n"
     ]
    }
   ],
   "source": [
    "import importlib\n",
    "import numpy as np\n",
    "from sklearn.metrics import confusion_matrix\n",
    "import time\n",
    "\n",
    "from helpers import pre_processing_wlan_utils as preprocess_utils\n",
    "from helpers import classifier_wlan_spectral_utils as classifier_utils"
   ]
  },
  {
   "cell_type": "code",
   "execution_count": 2,
   "metadata": {},
   "outputs": [
    {
     "name": "stdout",
     "output_type": "stream",
     "text": [
      "Label id:  2\n",
      "Num classes in that label:  3\n"
     ]
    }
   ],
   "source": [
    "seed = 42\n",
    "task = \"app-type\"\n",
    "label = preprocess_utils.label_index[task]\n",
    "num_classes = preprocess_utils.num_classes[task]\n",
    "num_classes = 3\n",
    "print(\"Label id: \", label)\n",
    "print(\"Num classes in that label: \", num_classes)\n",
    "iq_seqs = [10000]\n",
    "padding = 'post'\n",
    "dataset_folder = '../../dataset/waveforms/'\n",
    "prefix_file_name = 'wlan_classifier_'+str(num_classes)+\"_classes_\"+task+'_'\n",
    "load_model=False\n",
    "load_dir='../../models/'\n",
    "load_file = '22042020175144_saved_wavenet_classifier'"
   ]
  },
  {
   "cell_type": "code",
   "execution_count": 3,
   "metadata": {
    "pycharm": {
     "is_executing": true
    }
   },
   "outputs": [
    {
     "name": "stderr",
     "output_type": "stream",
     "text": [
      "100%|██████████| 126198/126198 [02:36<00:00, 806.84it/s]\n"
     ]
    }
   ],
   "source": [
    "prefix_file_name = '16042020_wlan_classifier_'+str(num_classes)+\"_classes_\"+task+'_'\n",
    "dataset_filename = 'waveforms_16042020_2G_n_6_mobile_app_reduced_app-type_3_classes_balanced.mat'\n",
    "#X, Y = utils.get_xy(dataset_folder,dataset_filename, num_iq_seq, padding, label, num_classes)\n",
    "Xraw, Yraw = classifier_utils.get_raw_xy(dataset_folder,dataset_filename)"
   ]
  },
  {
   "cell_type": "code",
   "execution_count": 4,
   "metadata": {
    "pycharm": {
     "is_executing": true
    }
   },
   "outputs": [],
   "source": [
    "importlib.reload(preprocess_utils)\n",
    "importlib.reload(classifier_utils)\n",
    "kernel_size = 2\n",
    "dilation_depth = 6\n",
    "n_filters = 50"
   ]
  },
  {
   "cell_type": "code",
   "execution_count": 5,
   "metadata": {},
   "outputs": [
    {
     "name": "stdout",
     "output_type": "stream",
     "text": [
      "Padding/Truncating sequence\n"
     ]
    },
    {
     "name": "stderr",
     "output_type": "stream",
     "text": [
      "100%|██████████| 126198/126198 [00:11<00:00, 10521.85it/s]\n"
     ]
    },
    {
     "name": "stdout",
     "output_type": "stream",
     "text": [
      "Oneshot labels\n",
      "(88338, 2, 10000) (18930, 2, 10000) (18930, 2, 10000)\n",
      "(88338, 3) (18930, 3) (18930, 3)\n",
      "[[ 9467   239 -8019 ...     0     0     0]\n",
      " [ 1140   234 -7863 ...     0     0     0]\n",
      " [ 9327   235 -7901 ...     0     0     0]\n",
      " ...\n",
      " [  450   239 -8010 ...     0     0     0]\n",
      " [ 5485   228 -7646 ...     0     0     0]\n",
      " [    0     0     0 ...     0     0     0]]\n",
      "WARNING:tensorflow:From /home/mcamelo/anaconda3/envs/traffic/lib/python3.7/site-packages/keras/backend/tensorflow_backend.py:4074: The name tf.nn.avg_pool is deprecated. Please use tf.nn.avg_pool2d instead.\n",
      "\n",
      "WARNING:tensorflow:From /home/mcamelo/anaconda3/envs/traffic/lib/python3.7/site-packages/keras/backend/tensorflow_backend.py:422: The name tf.global_variables is deprecated. Please use tf.compat.v1.global_variables instead.\n",
      "\n",
      "Train on 88338 samples, validate on 18930 samples\n",
      "Epoch 1/50\n",
      "88338/88338 [==============================] - 707s 8ms/step - loss: 0.4011 - accuracy: 0.8369 - val_loss: 0.2992 - val_accuracy: 0.8911\n",
      "\n",
      "Epoch 00001: val_loss improved from inf to 0.29923, saving model to ./04052020135404_16042020_wlan_classifier_3_classes_app-type__wavenet_classifier.h5\n",
      "Epoch 2/50\n",
      "88338/88338 [==============================] - 699s 8ms/step - loss: 0.2868 - accuracy: 0.8980 - val_loss: 0.2640 - val_accuracy: 0.9085\n",
      "\n",
      "Epoch 00002: val_loss improved from 0.29923 to 0.26395, saving model to ./04052020135404_16042020_wlan_classifier_3_classes_app-type__wavenet_classifier.h5\n",
      "Epoch 3/50\n",
      "88338/88338 [==============================] - 697s 8ms/step - loss: 0.2661 - accuracy: 0.9069 - val_loss: 0.2726 - val_accuracy: 0.9097\n",
      "\n",
      "Epoch 00003: val_loss did not improve from 0.26395\n",
      "Epoch 4/50\n",
      "88338/88338 [==============================] - 699s 8ms/step - loss: 0.2571 - accuracy: 0.9110 - val_loss: 0.2903 - val_accuracy: 0.8970\n",
      "\n",
      "Epoch 00004: val_loss did not improve from 0.26395\n",
      "Epoch 5/50\n",
      "88338/88338 [==============================] - 703s 8ms/step - loss: 0.2532 - accuracy: 0.9124 - val_loss: 0.2585 - val_accuracy: 0.9108\n",
      "\n",
      "Epoch 00005: val_loss improved from 0.26395 to 0.25846, saving model to ./04052020135404_16042020_wlan_classifier_3_classes_app-type__wavenet_classifier.h5\n",
      "Epoch 6/50\n",
      "88338/88338 [==============================] - 700s 8ms/step - loss: 0.2481 - accuracy: 0.9142 - val_loss: 0.2466 - val_accuracy: 0.9144\n",
      "\n",
      "Epoch 00006: val_loss improved from 0.25846 to 0.24663, saving model to ./04052020135404_16042020_wlan_classifier_3_classes_app-type__wavenet_classifier.h5\n",
      "Epoch 7/50\n",
      "88338/88338 [==============================] - 699s 8ms/step - loss: 0.2053 - accuracy: 0.9212 - val_loss: 0.1795 - val_accuracy: 0.9274\n",
      "\n",
      "Epoch 00007: val_loss improved from 0.24663 to 0.17946, saving model to ./04052020135404_16042020_wlan_classifier_3_classes_app-type__wavenet_classifier.h5\n",
      "Epoch 8/50\n",
      "88338/88338 [==============================] - 694s 8ms/step - loss: 0.1854 - accuracy: 0.9245 - val_loss: 0.1820 - val_accuracy: 0.9262\n",
      "\n",
      "Epoch 00008: val_loss did not improve from 0.17946\n",
      "Epoch 9/50\n",
      "88338/88338 [==============================] - 693s 8ms/step - loss: 0.1792 - accuracy: 0.9259 - val_loss: 0.1773 - val_accuracy: 0.9279\n",
      "\n",
      "Epoch 00009: val_loss improved from 0.17946 to 0.17726, saving model to ./04052020135404_16042020_wlan_classifier_3_classes_app-type__wavenet_classifier.h5\n",
      "Epoch 10/50\n",
      "88338/88338 [==============================] - 696s 8ms/step - loss: 0.1774 - accuracy: 0.9267 - val_loss: 0.1822 - val_accuracy: 0.9267\n",
      "\n",
      "Epoch 00010: val_loss did not improve from 0.17726\n",
      "Epoch 11/50\n",
      "88338/88338 [==============================] - 698s 8ms/step - loss: 0.2076 - accuracy: 0.9257 - val_loss: 0.2641 - val_accuracy: 0.9090\n",
      "\n",
      "Epoch 00011: val_loss did not improve from 0.17726\n",
      "Epoch 12/50\n",
      "88338/88338 [==============================] - 697s 8ms/step - loss: 0.1769 - accuracy: 0.9272 - val_loss: 0.1783 - val_accuracy: 0.9291\n",
      "\n",
      "Epoch 00012: val_loss did not improve from 0.17726\n",
      "Epoch 13/50\n",
      "88338/88338 [==============================] - 698s 8ms/step - loss: 0.1739 - accuracy: 0.9277 - val_loss: 0.1762 - val_accuracy: 0.9301\n",
      "\n",
      "Epoch 00013: val_loss improved from 0.17726 to 0.17620, saving model to ./04052020135404_16042020_wlan_classifier_3_classes_app-type__wavenet_classifier.h5\n",
      "Epoch 14/50\n",
      "88338/88338 [==============================] - 697s 8ms/step - loss: 0.1757 - accuracy: 0.9289 - val_loss: 0.1736 - val_accuracy: 0.9279\n",
      "\n",
      "Epoch 00014: val_loss improved from 0.17620 to 0.17363, saving model to ./04052020135404_16042020_wlan_classifier_3_classes_app-type__wavenet_classifier.h5\n",
      "Epoch 15/50\n",
      "88338/88338 [==============================] - 698s 8ms/step - loss: 0.1712 - accuracy: 0.9299 - val_loss: 0.1767 - val_accuracy: 0.9273\n",
      "\n",
      "Epoch 00015: val_loss did not improve from 0.17363\n",
      "Epoch 16/50\n",
      "88338/88338 [==============================] - 697s 8ms/step - loss: 0.1734 - accuracy: 0.9299 - val_loss: 0.1707 - val_accuracy: 0.9311\n",
      "\n",
      "Epoch 00016: val_loss improved from 0.17363 to 0.17071, saving model to ./04052020135404_16042020_wlan_classifier_3_classes_app-type__wavenet_classifier.h5\n",
      "Epoch 17/50\n",
      "88338/88338 [==============================] - 698s 8ms/step - loss: 0.1724 - accuracy: 0.9296 - val_loss: 0.1730 - val_accuracy: 0.9303\n",
      "\n",
      "Epoch 00017: val_loss did not improve from 0.17071\n",
      "Epoch 18/50\n",
      "88338/88338 [==============================] - 697s 8ms/step - loss: 0.1718 - accuracy: 0.9295 - val_loss: 0.1774 - val_accuracy: 0.9258\n",
      "\n",
      "Epoch 00018: val_loss did not improve from 0.17071\n",
      "Epoch 19/50\n",
      "88338/88338 [==============================] - 699s 8ms/step - loss: 0.1716 - accuracy: 0.9293 - val_loss: 0.1634 - val_accuracy: 0.9322\n",
      "\n",
      "Epoch 00019: val_loss improved from 0.17071 to 0.16340, saving model to ./04052020135404_16042020_wlan_classifier_3_classes_app-type__wavenet_classifier.h5\n",
      "Epoch 20/50\n",
      "88338/88338 [==============================] - 698s 8ms/step - loss: 0.1707 - accuracy: 0.9299 - val_loss: 0.1783 - val_accuracy: 0.9286\n",
      "\n",
      "Epoch 00020: val_loss did not improve from 0.16340\n",
      "Epoch 21/50\n",
      "88338/88338 [==============================] - 697s 8ms/step - loss: 0.1711 - accuracy: 0.9302 - val_loss: 0.1699 - val_accuracy: 0.9303\n",
      "\n",
      "Epoch 00021: val_loss did not improve from 0.16340\n",
      "Epoch 22/50\n",
      "88338/88338 [==============================] - 698s 8ms/step - loss: 0.1700 - accuracy: 0.9305 - val_loss: 0.1734 - val_accuracy: 0.9292\n",
      "\n",
      "Epoch 00022: val_loss did not improve from 0.16340\n",
      "Epoch 23/50\n",
      "88338/88338 [==============================] - 697s 8ms/step - loss: 0.1723 - accuracy: 0.9301 - val_loss: 0.1710 - val_accuracy: 0.9314\n",
      "\n",
      "Epoch 00023: val_loss did not improve from 0.16340\n",
      "Epoch 24/50\n",
      "88338/88338 [==============================] - 699s 8ms/step - loss: 0.1698 - accuracy: 0.9310 - val_loss: 0.1756 - val_accuracy: 0.9298\n",
      "\n",
      "Epoch 00024: val_loss did not improve from 0.16340\n",
      "Epoch 25/50\n",
      "88338/88338 [==============================] - 698s 8ms/step - loss: 0.1668 - accuracy: 0.9324 - val_loss: 0.1857 - val_accuracy: 0.9291\n",
      "\n",
      "Epoch 00025: val_loss did not improve from 0.16340\n",
      "Epoch 26/50\n",
      "88338/88338 [==============================] - 698s 8ms/step - loss: 0.1679 - accuracy: 0.9313 - val_loss: 0.1744 - val_accuracy: 0.9274\n",
      "\n",
      "Epoch 00026: val_loss did not improve from 0.16340\n",
      "Epoch 27/50\n",
      "88338/88338 [==============================] - 699s 8ms/step - loss: 0.1711 - accuracy: 0.9307 - val_loss: 0.1686 - val_accuracy: 0.9325\n",
      "\n",
      "Epoch 00027: val_loss did not improve from 0.16340\n",
      "Epoch 28/50\n",
      "88338/88338 [==============================] - 699s 8ms/step - loss: 0.1698 - accuracy: 0.9312 - val_loss: 0.1727 - val_accuracy: 0.9285\n",
      "\n",
      "Epoch 00028: val_loss did not improve from 0.16340\n",
      "Epoch 29/50\n",
      "88338/88338 [==============================] - 698s 8ms/step - loss: 0.1663 - accuracy: 0.9315 - val_loss: 0.1717 - val_accuracy: 0.9298\n",
      "\n",
      "Epoch 00029: val_loss did not improve from 0.16340\n",
      "18930/18930 [==============================] - 40s 2ms/step\n",
      "10000 [0.1606309775599587, 0.9348124861717224]\n"
     ]
    }
   ],
   "source": [
    "acc_results=[]\n",
    "for num_iq_seq in iq_seqs:\n",
    "    print(\"Padding/Truncating sequence\")\n",
    "    time.sleep(2)\n",
    "    X = classifier_utils.pad_or_trunc_x_and_scale(Xraw, num_iq_seq, padding, scale=False)\n",
    "    print(\"Oneshot labels\")\n",
    "    time.sleep(2)\n",
    "    Y = classifier_utils.get_one_shot_labels(Yraw, num_classes, label)\n",
    "    X_train, X_val, X_test, Y_train, Y_val, Y_test = classifier_utils.get_xy_4_training(X,Y,seed)\n",
    "    print(X_train.shape,X_val.shape, X_test.shape)\n",
    "    print(Y_train.shape,Y_val.shape, Y_test.shape)\n",
    "    print(X_train[:,1])\n",
    "    wnc = classifier_utils.WaveNetClassifier((2,num_iq_seq), (num_classes,), kernel_size = 2, dilation_depth = dilation_depth, n_filters = n_filters, prefix = prefix_file_name)\n",
    "    history = wnc.fit(X_train, Y_train, validation_data = (X_val, Y_val),save=True, epochs = 50)\n",
    "    test_results = wnc.evaluate(X_test, Y_test)\n",
    "    acc_results.append(test_results)\n",
    "    print(num_iq_seq, test_results)"
   ]
  },
  {
   "cell_type": "code",
   "execution_count": 6,
   "metadata": {},
   "outputs": [
    {
     "data": {
      "text/plain": [
       "[[0.1606309775599587, 0.9348124861717224]]"
      ]
     },
     "execution_count": 6,
     "metadata": {},
     "output_type": "execute_result"
    }
   ],
   "source": [
    "acc_results"
   ]
  },
  {
   "cell_type": "code",
   "execution_count": 7,
   "metadata": {
    "collapsed": false,
    "jupyter": {
     "outputs_hidden": false
    },
    "pycharm": {
     "name": "#%%\n"
    }
   },
   "outputs": [
    {
     "name": "stdout",
     "output_type": "stream",
     "text": [
      "18930/18930 [==============================] - 40s 2ms/step\n"
     ]
    }
   ],
   "source": [
    "test_results = wnc.evaluate(X_test, Y_test)"
   ]
  },
  {
   "cell_type": "code",
   "execution_count": 8,
   "metadata": {},
   "outputs": [
    {
     "name": "stdout",
     "output_type": "stream",
     "text": [
      "[0.1606309775599587, 0.9348124861717224]\n"
     ]
    }
   ],
   "source": [
    "print(test_results)"
   ]
  },
  {
   "cell_type": "code",
   "execution_count": 19,
   "metadata": {},
   "outputs": [
    {
     "data": {
      "image/png": "[encoded data removed]",
      "text/plain": [
       "<Figure size 576x432 with 2 Axes>"
      ]
     },
     "metadata": {
      "needs_background": "light"
     },
     "output_type": "display_data"
    }
   ],
   "source": [
    "Y_pred_test=np.argmax(wnc.predict(X_test),1)\n",
    "Y_true_test=np.argmax(Y_test,1)\n",
    "classifier_utils.plot_confusion_matrix_mc(Y_true_test, Y_pred_test, [\"Audio\", \"Video\", \"No-App\"], \"conf_matrix_test_app.pdf\")"
   ]
  },
  {
   "cell_type": "code",
   "execution_count": 9,
   "metadata": {},
   "outputs": [
    {
     "name": "stderr",
     "output_type": "stream",
     "text": [
      "100%|██████████| 126198/126198 [02:58<00:00, 706.24it/s]\n"
     ]
    }
   ],
   "source": [
    "dataset_filename = 'waveforms_16042020_2G_n_6_mobile_app_reduced_app-type_3_classes_balanced.mat'\n",
    "Xraw_test2, Yraw_test2 = classifier_utils.get_raw_xy(dataset_folder,dataset_filename)"
   ]
  },
  {
   "cell_type": "code",
   "execution_count": 10,
   "metadata": {},
   "outputs": [
    {
     "name": "stderr",
     "output_type": "stream",
     "text": [
      "100%|██████████| 126198/126198 [04:57<00:00, 424.65it/s]\n"
     ]
    }
   ],
   "source": [
    "X_test2 = classifier_utils.pad_or_trunc_x_and_scale(Xraw_test2, num_iq_seq, padding, scale=False)\n",
    "Y_test2 = classifier_utils.get_one_shot_labels(Yraw_test2, num_classes, label)\n",
    "    "
   ]
  },
  {
   "cell_type": "code",
   "execution_count": 11,
   "metadata": {},
   "outputs": [
    {
     "name": "stdout",
     "output_type": "stream",
     "text": [
      "126198/126198 [==============================] - 290s 2ms/step\n"
     ]
    }
   ],
   "source": [
    "test_results_2 = wnc.evaluate(X_test2, Y_test2)"
   ]
  },
  {
   "cell_type": "code",
   "execution_count": 12,
   "metadata": {},
   "outputs": [
    {
     "name": "stdout",
     "output_type": "stream",
     "text": [
      "[0.15938984188417318, 0.9360607862472534]\n"
     ]
    }
   ],
   "source": [
    "print(test_results_2)"
   ]
  },
  {
   "cell_type": "code",
   "execution_count": 14,
   "metadata": {},
   "outputs": [
    {
     "name": "stderr",
     "output_type": "stream",
     "text": [
      "100%|██████████| 126834/126834 [06:47<00:00, 310.92it/s]\n"
     ]
    }
   ],
   "source": [
    "dataset_filename = 'waveforms_24042020_2G_n_6_mobile_app_full_app-type_3_classes_balanced.mat'\n",
    "Xraw_test3, Yraw_test3 = classifier_utils.get_raw_xy(dataset_folder,dataset_filename)"
   ]
  },
  {
   "cell_type": "code",
   "execution_count": 15,
   "metadata": {},
   "outputs": [
    {
     "name": "stderr",
     "output_type": "stream",
     "text": [
      "100%|██████████| 126834/126834 [10:12<00:00, 206.91it/s]\n"
     ]
    }
   ],
   "source": [
    "X_test3 = classifier_utils.pad_or_trunc_x_and_scale(Xraw_test3, num_iq_seq, padding, scale=False)\n",
    "Y_test3 = classifier_utils.get_one_shot_labels(Yraw_test3, num_classes, label)"
   ]
  },
  {
   "cell_type": "code",
   "execution_count": 16,
   "metadata": {},
   "outputs": [
    {
     "name": "stdout",
     "output_type": "stream",
     "text": [
      "126834/126834 [==============================] - 357s 3ms/step\n",
      "[0.7039654443930788, 0.7935647964477539]\n"
     ]
    }
   ],
   "source": [
    "test_results_3 = wnc.evaluate(X_test3, Y_test3)\n",
    "print(test_results_3)"
   ]
  },
  {
   "cell_type": "code",
   "execution_count": 17,
   "metadata": {},
   "outputs": [],
   "source": [
    "Y_pred_3=np.argmax(wnc.predict(X_test3),1)\n",
    "Y_true_3=np.argmax(Y_test3,1)"
   ]
  },
  {
   "cell_type": "code",
   "execution_count": 18,
   "metadata": {},
   "outputs": [
    {
     "data": {
      "image/png": "[encoded data removed]",
      "text/plain": [
       "<Figure size 576x432 with 2 Axes>"
      ]
     },
     "metadata": {
      "needs_background": "light"
     },
     "output_type": "display_data"
    }
   ],
   "source": [
    "classifier_utils.plot_confusion_matrix_mc(Y_true_3, Y_pred_3, [\"Audio\", \"Video\", \"No-App\"], \"conf_matrix_test3_app.pdf\")"
   ]
  },
  {
   "cell_type": "code",
   "execution_count": null,
   "metadata": {},
   "outputs": [],
   "source": []
  }
 ],
 "metadata": {
  "kernelspec": {
   "display_name": "Python [conda env:traf_rec] *",
   "language": "python",
   "name": "conda-env-traf_rec-py"
  },
  "language_info": {
   "codemirror_mode": {
    "name": "ipython",
    "version": 3
   },
   "file_extension": ".py",
   "mimetype": "text/x-python",
   "name": "python",
   "nbconvert_exporter": "python",
   "pygments_lexer": "ipython3",
   "version": "3.8.3"
  }
 },
 "nbformat": 4,
 "nbformat_minor": 4
}
