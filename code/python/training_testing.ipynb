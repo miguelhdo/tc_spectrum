{
 "cells": [
  {
   "cell_type": "code",
   "execution_count": 1,
   "metadata": {
    "tags": []
   },
   "outputs": [
    {
     "name": "stderr",
     "output_type": "stream",
     "text": [
      "WARNING: No libpcap provider available ! pcap won't be used\n"
     ]
    },
    {
     "name": "stdout",
     "output_type": "stream",
     "text": [
      "1 Physical GPUs, 1 Logical GPUs\n"
     ]
    }
   ],
   "source": [
    "import numpy as np\n",
    "\n",
    "from helpers import pre_processing_wlan_utils as preprocess_utils\n",
    "from helpers import classifier_wlan_spectral_utils as classifier_utils\n",
    "from helpers import tr_models as tr_models"
   ]
  },
  {
   "cell_type": "code",
   "execution_count": 2,
   "metadata": {},
   "outputs": [
    {
     "name": "stdout",
     "output_type": "stream",
     "text": [
      "1 Physical GPUs, 1 Logical GPUs\n"
     ]
    },
    {
     "data": {
      "text/plain": [
       "<module 'helpers.pre_processing_wlan_utils' from 'C:\\\\Users\\\\migue\\\\development\\\\tc_spectrum\\\\code\\\\python\\\\helpers\\\\pre_processing_wlan_utils.py'>"
      ]
     },
     "execution_count": 2,
     "metadata": {},
     "output_type": "execute_result"
    }
   ],
   "source": [
    "import importlib\n",
    "importlib.reload(tr_models)\n",
    "importlib.reload(classifier_utils)\n",
    "importlib.reload(preprocess_utils)"
   ]
  },
  {
   "cell_type": "code",
   "execution_count": 3,
   "metadata": {
    "collapsed": false,
    "jupyter": {
     "outputs_hidden": false
    },
    "pycharm": {
     "name": "#%%\n"
    }
   },
   "outputs": [
    {
     "name": "stdout",
     "output_type": "stream",
     "text": [
      "Label id:  3\n",
      "Num classes in that label:  8\n",
      "Labels:  ['spotify', 'tunein', 'gpodcast', 'youtube', 'netflix', 'twitch', 'no-app', 'unknown']\n"
     ]
    }
   ],
   "source": [
    "#Set which task you want to solve. This value will be used to select the right labels for the loaded dataset.\n",
    "#The three task can be 'phy', 'frames', 'app-type', or, 'app'\n",
    "task = 'app'\n",
    "label = preprocess_utils.label_index[task]\n",
    "num_classes = preprocess_utils.num_classes[task]\n",
    "labels_string = preprocess_utils.labels_string[task]\n",
    "print(\"Label id: \", label)\n",
    "print(\"Num classes in that label: \", num_classes)\n",
    "print(\"Labels: \", labels_string)"
   ]
  },
  {
   "cell_type": "code",
   "execution_count": 4,
   "metadata": {},
   "outputs": [
    {
     "name": "stdout",
     "output_type": "stream",
     "text": [
      "Label id:  3\n",
      "Num classes in that label:  7\n",
      "Labels:  ['spotify', 'tunein', 'gpodcast', 'youtube', 'netflix', 'twitch', 'no-app']\n"
     ]
    }
   ],
   "source": [
    "#This dataset does not contain the unknown label class (L2 frames that were generated with an unknown app), so lets remove that label.\n",
    "if (task == 'app') or (task == 'app-type'):\n",
    "    num_classes = num_classes-1\n",
    "    labels_string = labels_string[0:num_classes]\n",
    "    print(\"Label id: \", label)\n",
    "    print(\"Num classes in that label: \", num_classes)\n",
    "    print(\"Labels: \", labels_string)"
   ]
  },
  {
   "cell_type": "code",
   "execution_count": 5,
   "metadata": {},
   "outputs": [],
   "source": [
    "#Set lenght of the sequences\n",
    "seq_length = 3000\n",
    "\n",
    "#Set type of padding. \n",
    "padding = 'post'\n",
    "\n",
    "#Set path to dataset folder. All the files from the dataset can be downloaded from https://zenodo.org/record/5208201\n",
    "dataset_folder = '../../dataset/waveforms/'\n",
    "\n",
    "#Set name of dataset file. In this case we are using once of the balanced dataset (filename_balanced.mat)\n",
    "dataset_filename = 'waveforms_2G_n_SNR_'+task+'_balanced.mat'"
   ]
  },
  {
   "cell_type": "code",
   "execution_count": 6,
   "metadata": {},
   "outputs": [
    {
     "name": "stderr",
     "output_type": "stream",
     "text": [
      "100%|██████████████████████████████████████████████████████████████████████████████████████████| 71603/71603 [01:21<00:00, 879.71it/s]\n"
     ]
    }
   ],
   "source": [
    "#Get X and Y without padding/truncation nor scaling. The function get_raw_xy_spectrum returns the L1 packets (IQ samples) and all the labels associated to them. \n",
    "Xraw, Yraw = classifier_utils.get_raw_xy_spectrum(dataset_folder,dataset_filename)"
   ]
  },
  {
   "cell_type": "code",
   "execution_count": 7,
   "metadata": {},
   "outputs": [
    {
     "name": "stdout",
     "output_type": "stream",
     "text": [
      "Padding/Truncating sequence to a length of  3000\n"
     ]
    },
    {
     "name": "stderr",
     "output_type": "stream",
     "text": [
      "100%|█████████████████████████████████████████████████████████████████████████████████████████| 71603/71603 [00:34<00:00, 2102.42it/s]\n"
     ]
    }
   ],
   "source": [
    "#Let's pad/truncate the L1 packets to a given lenght.\n",
    "print(\"Padding/Truncating sequence to a length of \",str(seq_length))\n",
    "X = classifier_utils.pad_or_trunc_x_and_scale(Xraw, seq_length, padding, scale=False)"
   ]
  },
  {
   "cell_type": "code",
   "execution_count": 8,
   "metadata": {},
   "outputs": [
    {
     "name": "stdout",
     "output_type": "stream",
     "text": [
      "Generate one-shot labels\n",
      "Labels created\n"
     ]
    }
   ],
   "source": [
    "#Lets select the labels of the classification task and generate the one-shot labels \n",
    "print(\"Generate one-shot labels\")\n",
    "Y = classifier_utils.get_one_hot_labels(Yraw, num_classes, label)"
   ]
  },
  {
   "cell_type": "code",
   "execution_count": 9,
   "metadata": {},
   "outputs": [
    {
     "name": "stdout",
     "output_type": "stream",
     "text": [
      "Performing data splitting\n",
      "Starting first partitioning\n",
      "First partitioning done. Starting partitioning 2\n",
      "Final partitioning done\n",
      "(57282, 2, 3000) (7160, 2, 3000) (7161, 2, 3000)\n"
     ]
    }
   ],
   "source": [
    "#Set a seed for pseudo random generator\n",
    "seed = 42\n",
    "print(\"Performing data splitting\")\n",
    "X_train, X_val, X_test, Y_train, Y_val, Y_test = classifier_utils.get_xy_4_training(X,Y,seed)\n",
    "print(X_train.shape,X_val.shape, X_test.shape)"
   ]
  },
  {
   "cell_type": "code",
   "execution_count": 10,
   "metadata": {},
   "outputs": [],
   "source": [
    "model_type = 'CNN'"
   ]
  },
  {
   "cell_type": "code",
   "execution_count": 12,
   "metadata": {},
   "outputs": [
    {
     "name": "stdout",
     "output_type": "stream",
     "text": [
      "Starting data preparation and training for model  CNN\n",
      "Re-shaping for CNN\n",
      "(57282, 2, 3000, 1) (7160, 2, 3000, 1) (7161, 2, 3000, 1)\n"
     ]
    }
   ],
   "source": [
    "print('Starting data preparation and training for model ', model_type)\n",
    "X_train, X_val, X_test = classifier_utils.reshape_for_model(model_type, X_train, X_val, X_test)\n",
    "print(X_train.shape,X_val.shape, X_test.shape)"
   ]
  },
  {
   "cell_type": "code",
   "execution_count": null,
   "metadata": {},
   "outputs": [
    {
     "name": "stdout",
     "output_type": "stream",
     "text": [
      "Creating the model\n",
      "Model type CNN\n",
      "Parameters for CNN model\n",
      "dropout:  0.1\n",
      "kernel size:  32\n",
      "Number of Filters:  32\n",
      "Model created\n",
      "Model starts training\n",
      "Model will be trained with the following configuration: \n",
      "Optimizer:  adam\n",
      "Batch size:  64\n",
      "Max number of epochs:  200\n",
      "Model will be saved at  ./\n",
      "Epoch 1/200\n",
      "  6/896 [..............................] - ETA: 3:33:00 - loss: 2.7400 - accuracy: 0.140 - ETA: 5:38 - loss: 2.5778 - accuracy: 0.1719  - ETA: 5:38 - loss: 2.4916 - accuracy: 0.17 - ETA: 5:41 - loss: 2.4846 - accuracy: 0.16 - ETA: 5:41 - loss: 2.4371 - accuracy: 0.16 - ETA: 5:41 - loss: 2.4087 - accuracy: 0.1667WARNING:tensorflow:Callback method `on_train_batch_end` is slow compared to the batch time (batch time: 0.1618s vs `on_train_batch_end` time: 0.1863s). Check your callbacks.\n",
      "896/896 [==============================] - ETA: 5:40 - loss: 2.3646 - accuracy: 0.16 - ETA: 5:40 - loss: 2.3356 - accuracy: 0.17 - ETA: 5:39 - loss: 2.3108 - accuracy: 0.18 - ETA: 5:39 - loss: 2.2942 - accuracy: 0.18 - ETA: 5:39 - loss: 2.2861 - accuracy: 0.18 - ETA: 5:38 - loss: 2.2572 - accuracy: 0.19 - ETA: 5:38 - loss: 2.2401 - accuracy: 0.20 - ETA: 5:38 - loss: 2.2312 - accuracy: 0.20 - ETA: 5:38 - loss: 2.2344 - accuracy: 0.20 - ETA: 5:37 - loss: 2.2150 - accuracy: 0.20 - ETA: 5:36 - loss: 2.2185 - accuracy: 0.20 - ETA: 5:36 - loss: 2.2045 - accuracy: 0.20 - ETA: 5:36 - loss: 2.1965 - accuracy: 0.20 - ETA: 5:36 - loss: 2.1763 - accuracy: 0.21 - ETA: 5:35 - loss: 2.1725 - accuracy: 0.21 - ETA: 5:35 - loss: 2.1667 - accuracy: 0.21 - ETA: 5:34 - loss: 2.1584 - accuracy: 0.21 - ETA: 5:34 - loss: 2.1466 - accuracy: 0.22 - ETA: 5:34 - loss: 2.1441 - accuracy: 0.22 - ETA: 5:34 - loss: 2.1344 - accuracy: 0.22 - ETA: 5:33 - loss: 2.1221 - accuracy: 0.22 - ETA: 5:33 - loss: 2.1158 - accuracy: 0.22 - ETA: 5:33 - loss: 2.1033 - accuracy: 0.23 - ETA: 5:33 - loss: 2.0984 - accuracy: 0.23 - ETA: 5:32 - loss: 2.0899 - accuracy: 0.23 - ETA: 5:32 - loss: 2.0888 - accuracy: 0.23 - ETA: 5:32 - loss: 2.0826 - accuracy: 0.23 - ETA: 5:31 - loss: 2.0743 - accuracy: 0.24 - ETA: 5:31 - loss: 2.0656 - accuracy: 0.24 - ETA: 5:30 - loss: 2.0694 - accuracy: 0.24 - ETA: 5:30 - loss: 2.0623 - accuracy: 0.24 - ETA: 5:30 - loss: 2.0569 - accuracy: 0.24 - ETA: 5:30 - loss: 2.0474 - accuracy: 0.25 - ETA: 5:29 - loss: 2.0431 - accuracy: 0.25 - ETA: 5:29 - loss: 2.0401 - accuracy: 0.25 - ETA: 5:29 - loss: 2.0360 - accuracy: 0.25 - ETA: 5:29 - loss: 2.0304 - accuracy: 0.25 - ETA: 5:29 - loss: 2.0273 - accuracy: 0.25 - ETA: 5:29 - loss: 2.0215 - accuracy: 0.26 - ETA: 5:28 - loss: 2.0171 - accuracy: 0.26 - ETA: 5:28 - loss: 2.0155 - accuracy: 0.26 - ETA: 5:28 - loss: 2.0080 - accuracy: 0.26 - ETA: 5:29 - loss: 2.0051 - accuracy: 0.26 - ETA: 5:28 - loss: 2.0010 - accuracy: 0.26 - ETA: 5:28 - loss: 1.9938 - accuracy: 0.26 - ETA: 5:28 - loss: 1.9891 - accuracy: 0.26 - ETA: 5:28 - loss: 1.9878 - accuracy: 0.26 - ETA: 5:28 - loss: 1.9835 - accuracy: 0.26 - ETA: 5:28 - loss: 1.9809 - accuracy: 0.26 - ETA: 5:28 - loss: 1.9814 - accuracy: 0.26 - ETA: 5:29 - loss: 1.9762 - accuracy: 0.26 - ETA: 5:29 - loss: 1.9734 - accuracy: 0.26 - ETA: 5:29 - loss: 1.9707 - accuracy: 0.26 - ETA: 5:29 - loss: 1.9660 - accuracy: 0.26 - ETA: 5:29 - loss: 1.9626 - accuracy: 0.26 - ETA: 5:29 - loss: 1.9583 - accuracy: 0.27 - ETA: 5:29 - loss: 1.9525 - accuracy: 0.27 - ETA: 5:29 - loss: 1.9525 - accuracy: 0.27 - ETA: 5:28 - loss: 1.9487 - accuracy: 0.27 - ETA: 5:28 - loss: 1.9435 - accuracy: 0.27 - ETA: 5:28 - loss: 1.9437 - accuracy: 0.27 - ETA: 5:28 - loss: 1.9409 - accuracy: 0.27 - ETA: 5:28 - loss: 1.9395 - accuracy: 0.27 - ETA: 5:28 - loss: 1.9366 - accuracy: 0.27 - ETA: 5:28 - loss: 1.9354 - accuracy: 0.27 - ETA: 5:28 - loss: 1.9330 - accuracy: 0.27 - ETA: 5:28 - loss: 1.9342 - accuracy: 0.27 - ETA: 5:28 - loss: 1.9321 - accuracy: 0.27 - ETA: 5:28 - loss: 1.9279 - accuracy: 0.27 - ETA: 5:28 - loss: 1.9284 - accuracy: 0.27 - ETA: 5:28 - loss: 1.9269 - accuracy: 0.27 - ETA: 5:28 - loss: 1.9267 - accuracy: 0.27 - ETA: 5:28 - loss: 1.9247 - accuracy: 0.27 - ETA: 5:27 - loss: 1.9258 - accuracy: 0.27 - ETA: 5:27 - loss: 1.9273 - accuracy: 0.27 - ETA: 5:27 - loss: 1.9244 - accuracy: 0.27 - ETA: 5:27 - loss: 1.9235 - accuracy: 0.27 - ETA: 5:27 - loss: 1.9237 - accuracy: 0.27 - ETA: 5:27 - loss: 1.9227 - accuracy: 0.27 - ETA: 5:27 - loss: 1.9210 - accuracy: 0.27 - ETA: 5:27 - loss: 1.9186 - accuracy: 0.27 - ETA: 5:27 - loss: 1.9164 - accuracy: 0.27 - ETA: 5:27 - loss: 1.9152 - accuracy: 0.28 - ETA: 5:26 - loss: 1.9135 - accuracy: 0.28 - ETA: 5:26 - loss: 1.9111 - accuracy: 0.28 - ETA: 5:26 - loss: 1.9111 - accuracy: 0.28 - ETA: 5:26 - loss: 1.9101 - accuracy: 0.28 - ETA: 5:26 - loss: 1.9081 - accuracy: 0.28 - ETA: 5:26 - loss: 1.9062 - accuracy: 0.28 - ETA: 5:25 - loss: 1.9041 - accuracy: 0.28 - ETA: 5:25 - loss: 1.9029 - accuracy: 0.28 - ETA: 5:25 - loss: 1.9031 - accuracy: 0.28 - ETA: 5:25 - loss: 1.9034 - accuracy: 0.28 - ETA: 5:25 - loss: 1.9018 - accuracy: 0.28 - ETA: 5:25 - loss: 1.9008 - accuracy: 0.28 - ETA: 5:24 - loss: 1.9013 - accuracy: 0.28 - ETA: 5:24 - loss: 1.8999 - accuracy: 0.28 - ETA: 5:24 - loss: 1.9009 - accuracy: 0.28 - ETA: 5:24 - loss: 1.8986 - accuracy: 0.28 - ETA: 5:23 - loss: 1.8959 - accuracy: 0.28 - ETA: 5:23 - loss: 1.8963 - accuracy: 0.28 - ETA: 5:23 - loss: 1.8941 - accuracy: 0.28 - ETA: 5:23 - loss: 1.8943 - accuracy: 0.28 - ETA: 5:23 - loss: 1.8931 - accuracy: 0.28 - ETA: 5:22 - loss: 1.8888 - accuracy: 0.28 - ETA: 5:22 - loss: 1.8874 - accuracy: 0.28 - ETA: 5:22 - loss: 1.8862 - accuracy: 0.28 - ETA: 5:22 - loss: 1.8871 - accuracy: 0.28 - ETA: 5:21 - loss: 1.8856 - accuracy: 0.28 - ETA: 5:21 - loss: 1.8833 - accuracy: 0.28 - ETA: 5:21 - loss: 1.8818 - accuracy: 0.28 - ETA: 5:21 - loss: 1.8806 - accuracy: 0.28 - ETA: 5:20 - loss: 1.8786 - accuracy: 0.28 - ETA: 5:20 - loss: 1.8778 - accuracy: 0.28 - ETA: 5:20 - loss: 1.8777 - accuracy: 0.28 - ETA: 5:20 - loss: 1.8775 - accuracy: 0.28 - ETA: 5:19 - loss: 1.8760 - accuracy: 0.28 - ETA: 5:19 - loss: 1.8741 - accuracy: 0.28 - ETA: 5:19 - loss: 1.8740 - accuracy: 0.28 - ETA: 5:18 - loss: 1.8719 - accuracy: 0.28 - ETA: 5:18 - loss: 1.8718 - accuracy: 0.28 - ETA: 5:18 - loss: 1.8712 - accuracy: 0.28 - ETA: 5:18 - loss: 1.8706 - accuracy: 0.28 - ETA: 5:17 - loss: 1.8688 - accuracy: 0.28 - ETA: 5:17 - loss: 1.8667 - accuracy: 0.28 - ETA: 5:17 - loss: 1.8640 - accuracy: 0.29 - ETA: 5:16 - loss: 1.8627 - accuracy: 0.29 - ETA: 5:16 - loss: 1.8631 - accuracy: 0.29 - ETA: 5:16 - loss: 1.8626 - accuracy: 0.29 - ETA: 5:16 - loss: 1.8601 - accuracy: 0.29 - ETA: 5:15 - loss: 1.8576 - accuracy: 0.29 - ETA: 5:15 - loss: 1.8563 - accuracy: 0.29 - ETA: 5:15 - loss: 1.8555 - accuracy: 0.29 - ETA: 5:14 - loss: 1.8554 - accuracy: 0.29 - ETA: 5:14 - loss: 1.8535 - accuracy: 0.29 - ETA: 5:14 - loss: 1.8531 - accuracy: 0.29 - ETA: 5:13 - loss: 1.8512 - accuracy: 0.29 - ETA: 5:13 - loss: 1.8503 - accuracy: 0.29 - ETA: 5:13 - loss: 1.8492 - accuracy: 0.29 - ETA: 5:13 - loss: 1.8494 - accuracy: 0.29 - ETA: 5:12 - loss: 1.8483 - accuracy: 0.29 - ETA: 5:12 - loss: 1.8466 - accuracy: 0.29 - ETA: 5:12 - loss: 1.8457 - accuracy: 0.29 - ETA: 5:11 - loss: 1.8469 - accuracy: 0.29 - ETA: 5:11 - loss: 1.8460 - accuracy: 0.29 - ETA: 5:11 - loss: 1.8454 - accuracy: 0.29 - ETA: 5:10 - loss: 1.8442 - accuracy: 0.29 - ETA: 5:10 - loss: 1.8434 - accuracy: 0.29 - ETA: 5:10 - loss: 1.8419 - accuracy: 0.29 - ETA: 5:09 - loss: 1.8416 - accuracy: 0.29 - ETA: 5:09 - loss: 1.8411 - accuracy: 0.29 - ETA: 5:09 - loss: 1.8402 - accuracy: 0.29 - ETA: 5:08 - loss: 1.8400 - accuracy: 0.29 - ETA: 5:08 - loss: 1.8393 - accuracy: 0.29 - ETA: 5:08 - loss: 1.8387 - accuracy: 0.29 - ETA: 5:07 - loss: 1.8381 - accuracy: 0.29 - ETA: 5:07 - loss: 1.8375 - accuracy: 0.29 - ETA: 5:07 - loss: 1.8363 - accuracy: 0.29 - ETA: 5:06 - loss: 1.8347 - accuracy: 0.29 - ETA: 5:06 - loss: 1.8342 - accuracy: 0.29 - ETA: 5:06 - loss: 1.8344 - accuracy: 0.29 - ETA: 5:05 - loss: 1.8343 - accuracy: 0.29 - ETA: 5:05 - loss: 1.8343 - accuracy: 0.29 - ETA: 5:04 - loss: 1.8336 - accuracy: 0.29 - ETA: 5:04 - loss: 1.8330 - accuracy: 0.29 - ETA: 5:04 - loss: 1.8317 - accuracy: 0.29 - ETA: 5:03 - loss: 1.8310 - accuracy: 0.29 - ETA: 5:03 - loss: 1.8307 - accuracy: 0.29 - ETA: 5:02 - loss: 1.8297 - accuracy: 0.29 - ETA: 5:02 - loss: 1.8283 - accuracy: 0.29 - ETA: 5:02 - loss: 1.8273 - accuracy: 0.29 - ETA: 5:01 - loss: 1.8268 - accuracy: 0.29 - ETA: 5:01 - loss: 1.8257 - accuracy: 0.29 - ETA: 5:01 - loss: 1.8250 - accuracy: 0.29 - ETA: 5:00 - loss: 1.8240 - accuracy: 0.29 - ETA: 5:00 - loss: 1.8235 - accuracy: 0.29 - ETA: 4:59 - loss: 1.8225 - accuracy: 0.29 - ETA: 4:59 - loss: 1.8225 - accuracy: 0.29 - ETA: 4:58 - loss: 1.8210 - accuracy: 0.29 - ETA: 4:58 - loss: 1.8207 - accuracy: 0.29 - ETA: 4:58 - loss: 1.8191 - accuracy: 0.29 - ETA: 4:57 - loss: 1.8183 - accuracy: 0.29 - ETA: 4:57 - loss: 1.8190 - accuracy: 0.29 - ETA: 4:56 - loss: 1.8190 - accuracy: 0.29 - ETA: 4:56 - loss: 1.8180 - accuracy: 0.29 - ETA: 4:56 - loss: 1.8168 - accuracy: 0.29 - ETA: 4:55 - loss: 1.8154 - accuracy: 0.29 - ETA: 4:55 - loss: 1.8142 - accuracy: 0.29 - ETA: 4:54 - loss: 1.8130 - accuracy: 0.29 - ETA: 4:54 - loss: 1.8117 - accuracy: 0.29 - ETA: 4:53 - loss: 1.8104 - accuracy: 0.29 - ETA: 4:53 - loss: 1.8111 - accuracy: 0.29 - ETA: 4:53 - loss: 1.8105 - accuracy: 0.29 - ETA: 4:52 - loss: 1.8109 - accuracy: 0.29 - ETA: 4:52 - loss: 1.8102 - accuracy: 0.29 - ETA: 4:51 - loss: 1.8091 - accuracy: 0.29 - ETA: 4:51 - loss: 1.8086 - accuracy: 0.30 - ETA: 4:50 - loss: 1.8080 - accuracy: 0.30 - ETA: 4:50 - loss: 1.8075 - accuracy: 0.30 - ETA: 4:49 - loss: 1.8069 - accuracy: 0.30 - ETA: 4:49 - loss: 1.8068 - accuracy: 0.30 - ETA: 4:49 - loss: 1.8054 - accuracy: 0.30 - ETA: 4:48 - loss: 1.8049 - accuracy: 0.30 - ETA: 4:48 - loss: 1.8041 - accuracy: 0.30 - ETA: 4:47 - loss: 1.8042 - accuracy: 0.30 - ETA: 4:47 - loss: 1.8041 - accuracy: 0.30 - ETA: 4:46 - loss: 1.8037 - accuracy: 0.30 - ETA: 4:46 - loss: 1.8032 - accuracy: 0.30 - ETA: 4:45 - loss: 1.8026 - accuracy: 0.30 - ETA: 4:45 - loss: 1.8017 - accuracy: 0.30 - ETA: 4:44 - loss: 1.8011 - accuracy: 0.30 - ETA: 4:44 - loss: 1.8007 - accuracy: 0.30 - ETA: 4:44 - loss: 1.7999 - accuracy: 0.30 - ETA: 4:43 - loss: 1.7997 - accuracy: 0.30 - ETA: 4:43 - loss: 1.7992 - accuracy: 0.30 - ETA: 4:42 - loss: 1.7992 - accuracy: 0.30 - ETA: 4:42 - loss: 1.7982 - accuracy: 0.30 - ETA: 4:42 - loss: 1.7976 - accuracy: 0.30 - ETA: 4:41 - loss: 1.7968 - accuracy: 0.30 - ETA: 4:41 - loss: 1.7966 - accuracy: 0.30 - ETA: 4:40 - loss: 1.7954 - accuracy: 0.30 - ETA: 4:40 - loss: 1.7946 - accuracy: 0.30 - ETA: 4:39 - loss: 1.7946 - accuracy: 0.30 - ETA: 4:39 - loss: 1.7937 - accuracy: 0.30 - ETA: 4:39 - loss: 1.7933 - accuracy: 0.30 - ETA: 4:38 - loss: 1.7928 - accuracy: 0.30 - ETA: 4:38 - loss: 1.7929 - accuracy: 0.30 - ETA: 4:37 - loss: 1.7923 - accuracy: 0.30 - ETA: 4:37 - loss: 1.7918 - accuracy: 0.30 - ETA: 4:37 - loss: 1.7909 - accuracy: 0.30 - ETA: 4:36 - loss: 1.7904 - accuracy: 0.30 - ETA: 4:36 - loss: 1.7899 - accuracy: 0.30 - ETA: 4:35 - loss: 1.7889 - accuracy: 0.30 - ETA: 4:35 - loss: 1.7877 - accuracy: 0.30 - ETA: 4:34 - loss: 1.7868 - accuracy: 0.30 - ETA: 4:34 - loss: 1.7857 - accuracy: 0.30 - ETA: 4:33 - loss: 1.7841 - accuracy: 0.30 - ETA: 4:33 - loss: 1.7835 - accuracy: 0.30 - ETA: 4:33 - loss: 1.7831 - accuracy: 0.30 - ETA: 4:32 - loss: 1.7827 - accuracy: 0.30 - ETA: 4:32 - loss: 1.7821 - accuracy: 0.30 - ETA: 4:31 - loss: 1.7813 - accuracy: 0.30 - ETA: 4:31 - loss: 1.7810 - accuracy: 0.30 - ETA: 4:30 - loss: 1.7806 - accuracy: 0.30 - ETA: 4:30 - loss: 1.7802 - accuracy: 0.30 - ETA: 4:30 - loss: 1.7794 - accuracy: 0.30 - ETA: 4:29 - loss: 1.7791 - accuracy: 0.30 - ETA: 4:29 - loss: 1.7787 - accuracy: 0.30 - ETA: 4:28 - loss: 1.7781 - accuracy: 0.30 - ETA: 4:28 - loss: 1.7779 - accuracy: 0.30 - ETA: 4:27 - loss: 1.7774 - accuracy: 0.30 - ETA: 4:27 - loss: 1.7774 - accuracy: 0.30 - ETA: 4:26 - loss: 1.7774 - accuracy: 0.30 - ETA: 4:26 - loss: 1.7774 - accuracy: 0.30 - ETA: 4:26 - loss: 1.7767 - accuracy: 0.30 - ETA: 4:25 - loss: 1.7761 - accuracy: 0.30 - ETA: 4:25 - loss: 1.7757 - accuracy: 0.30 - ETA: 4:24 - loss: 1.7750 - accuracy: 0.30 - ETA: 4:24 - loss: 1.7747 - accuracy: 0.30 - ETA: 4:23 - loss: 1.7738 - accuracy: 0.30 - ETA: 4:23 - loss: 1.7731 - accuracy: 0.30 - ETA: 4:22 - loss: 1.7722 - accuracy: 0.30 - ETA: 4:22 - loss: 1.7717 - accuracy: 0.30 - ETA: 4:21 - loss: 1.7710 - accuracy: 0.30 - ETA: 4:21 - loss: 1.7705 - accuracy: 0.30 - ETA: 4:21 - loss: 1.7699 - accuracy: 0.30 - ETA: 4:20 - loss: 1.7700 - accuracy: 0.30 - ETA: 4:20 - loss: 1.7701 - accuracy: 0.30 - ETA: 4:19 - loss: 1.7698 - accuracy: 0.30 - ETA: 4:19 - loss: 1.7689 - accuracy: 0.30 - ETA: 4:18 - loss: 1.7685 - accuracy: 0.30 - ETA: 4:18 - loss: 1.7675 - accuracy: 0.30 - ETA: 4:17 - loss: 1.7671 - accuracy: 0.31 - ETA: 4:17 - loss: 1.7668 - accuracy: 0.31 - ETA: 4:17 - loss: 1.7663 - accuracy: 0.31 - ETA: 4:16 - loss: 1.7660 - accuracy: 0.31 - ETA: 4:16 - loss: 1.7652 - accuracy: 0.31 - ETA: 4:15 - loss: 1.7646 - accuracy: 0.31 - ETA: 4:15 - loss: 1.7640 - accuracy: 0.31 - ETA: 4:14 - loss: 1.7642 - accuracy: 0.31 - ETA: 4:14 - loss: 1.7636 - accuracy: 0.31 - ETA: 4:14 - loss: 1.7633 - accuracy: 0.31 - ETA: 4:13 - loss: 1.7630 - accuracy: 0.31 - ETA: 4:13 - loss: 1.7634 - accuracy: 0.31 - ETA: 4:12 - loss: 1.7629 - accuracy: 0.31 - ETA: 4:12 - loss: 1.7624 - accuracy: 0.31 - ETA: 4:11 - loss: 1.7623 - accuracy: 0.31 - ETA: 4:11 - loss: 1.7621 - accuracy: 0.31 - ETA: 4:10 - loss: 1.7620 - accuracy: 0.31 - ETA: 4:10 - loss: 1.7613 - accuracy: 0.31 - ETA: 4:10 - loss: 1.7603 - accuracy: 0.31 - ETA: 4:09 - loss: 1.7602 - accuracy: 0.31 - ETA: 4:09 - loss: 1.7590 - accuracy: 0.31 - ETA: 4:08 - loss: 1.7586 - accuracy: 0.31 - ETA: 4:08 - loss: 1.7585 - accuracy: 0.31 - ETA: 4:07 - loss: 1.7578 - accuracy: 0.31 - ETA: 4:07 - loss: 1.7578 - accuracy: 0.31 - ETA: 4:06 - loss: 1.7574 - accuracy: 0.31 - ETA: 4:06 - loss: 1.7565 - accuracy: 0.31 - ETA: 4:05 - loss: 1.7563 - accuracy: 0.31 - ETA: 4:05 - loss: 1.7561 - accuracy: 0.31 - ETA: 4:05 - loss: 1.7559 - accuracy: 0.31 - ETA: 4:04 - loss: 1.7560 - accuracy: 0.31 - ETA: 4:04 - loss: 1.7559 - accuracy: 0.31 - ETA: 4:03 - loss: 1.7560 - accuracy: 0.31 - ETA: 4:03 - loss: 1.7553 - accuracy: 0.31 - ETA: 4:02 - loss: 1.7542 - accuracy: 0.31 - ETA: 4:02 - loss: 1.7535 - accuracy: 0.31 - ETA: 4:02 - loss: 1.7540 - accuracy: 0.31 - ETA: 4:01 - loss: 1.7529 - accuracy: 0.31 - ETA: 4:01 - loss: 1.7530 - accuracy: 0.31 - ETA: 4:00 - loss: 1.7523 - accuracy: 0.31 - ETA: 4:00 - loss: 1.7527 - accuracy: 0.31 - ETA: 3:59 - loss: 1.7518 - accuracy: 0.31 - ETA: 3:59 - loss: 1.7518 - accuracy: 0.31 - ETA: 3:58 - loss: 1.7512 - accuracy: 0.31 - ETA: 3:58 - loss: 1.7508 - accuracy: 0.31 - ETA: 3:58 - loss: 1.7505 - accuracy: 0.31 - ETA: 3:57 - loss: 1.7503 - accuracy: 0.31 - ETA: 3:57 - loss: 1.7498 - accuracy: 0.31 - ETA: 3:56 - loss: 1.7498 - accuracy: 0.31 - ETA: 3:56 - loss: 1.7496 - accuracy: 0.31 - ETA: 3:55 - loss: 1.7490 - accuracy: 0.31 - ETA: 3:55 - loss: 1.7486 - accuracy: 0.31 - ETA: 3:55 - loss: 1.7486 - accuracy: 0.31 - ETA: 3:54 - loss: 1.7481 - accuracy: 0.31 - ETA: 3:54 - loss: 1.7478 - accuracy: 0.31 - ETA: 3:53 - loss: 1.7473 - accuracy: 0.31 - ETA: 3:53 - loss: 1.7469 - accuracy: 0.31 - ETA: 3:53 - loss: 1.7467 - accuracy: 0.31 - ETA: 3:52 - loss: 1.7471 - accuracy: 0.31 - ETA: 3:52 - loss: 1.7470 - accuracy: 0.31 - ETA: 3:51 - loss: 1.7467 - accuracy: 0.31 - ETA: 3:51 - loss: 1.7467 - accuracy: 0.31 - ETA: 3:50 - loss: 1.7466 - accuracy: 0.31 - ETA: 3:50 - loss: 1.7460 - accuracy: 0.31 - ETA: 3:50 - loss: 1.7457 - accuracy: 0.31 - ETA: 3:49 - loss: 1.7451 - accuracy: 0.31 - ETA: 3:49 - loss: 1.7443 - accuracy: 0.31 - ETA: 3:48 - loss: 1.7445 - accuracy: 0.31 - ETA: 3:48 - loss: 1.7438 - accuracy: 0.31 - ETA: 3:48 - loss: 1.7435 - accuracy: 0.31 - ETA: 3:47 - loss: 1.7430 - accuracy: 0.31 - ETA: 3:47 - loss: 1.7429 - accuracy: 0.31 - ETA: 3:47 - loss: 1.7428 - accuracy: 0.31 - ETA: 3:46 - loss: 1.7422 - accuracy: 0.31 - ETA: 3:46 - loss: 1.7422 - accuracy: 0.31 - ETA: 3:46 - loss: 1.7420 - accuracy: 0.31 - ETA: 3:45 - loss: 1.7415 - accuracy: 0.31 - ETA: 3:45 - loss: 1.7417 - accuracy: 0.31 - ETA: 3:45 - loss: 1.7416 - accuracy: 0.31 - ETA: 3:44 - loss: 1.7411 - accuracy: 0.31 - ETA: 3:44 - loss: 1.7406 - accuracy: 0.31 - ETA: 3:44 - loss: 1.7405 - accuracy: 0.31 - ETA: 3:43 - loss: 1.7402 - accuracy: 0.31 - ETA: 3:43 - loss: 1.7400 - accuracy: 0.31 - ETA: 3:42 - loss: 1.7397 - accuracy: 0.31 - ETA: 3:42 - loss: 1.7390 - accuracy: 0.31 - ETA: 3:41 - loss: 1.7395 - accuracy: 0.31 - ETA: 3:41 - loss: 1.7394 - accuracy: 0.31 - ETA: 3:41 - loss: 1.7392 - accuracy: 0.31 - ETA: 3:40 - loss: 1.7389 - accuracy: 0.31 - ETA: 3:40 - loss: 1.7390 - accuracy: 0.31 - ETA: 3:39 - loss: 1.7388 - accuracy: 0.31 - ETA: 3:39 - loss: 1.7384 - accuracy: 0.31 - ETA: 3:38 - loss: 1.7380 - accuracy: 0.31 - ETA: 3:38 - loss: 1.7377 - accuracy: 0.31 - ETA: 3:38 - loss: 1.7374 - accuracy: 0.31 - ETA: 3:38 - loss: 1.7373 - accuracy: 0.31 - ETA: 3:37 - loss: 1.7370 - accuracy: 0.31 - ETA: 3:37 - loss: 1.7366 - accuracy: 0.31 - ETA: 3:37 - loss: 1.7372 - accuracy: 0.31 - ETA: 3:36 - loss: 1.7368 - accuracy: 0.31 - ETA: 3:36 - loss: 1.7365 - accuracy: 0.31 - ETA: 3:36 - loss: 1.7362 - accuracy: 0.31 - ETA: 3:35 - loss: 1.7360 - accuracy: 0.31 - ETA: 3:35 - loss: 1.7357 - accuracy: 0.31 - ETA: 3:35 - loss: 1.7350 - accuracy: 0.31 - ETA: 3:34 - loss: 1.7351 - accuracy: 0.31 - ETA: 3:34 - loss: 1.7346 - accuracy: 0.31 - ETA: 3:33 - loss: 1.7345 - accuracy: 0.31 - ETA: 3:33 - loss: 1.7339 - accuracy: 0.31 - ETA: 3:33 - loss: 1.7335 - accuracy: 0.31 - ETA: 3:32 - loss: 1.7332 - accuracy: 0.31 - ETA: 3:32 - loss: 1.7330 - accuracy: 0.31 - ETA: 3:32 - loss: 1.7324 - accuracy: 0.31 - ETA: 3:32 - loss: 1.7315 - accuracy: 0.31 - ETA: 3:31 - loss: 1.7318 - accuracy: 0.31 - ETA: 3:31 - loss: 1.7317 - accuracy: 0.31 - ETA: 3:30 - loss: 1.7313 - accuracy: 0.31 - ETA: 3:30 - loss: 1.7307 - accuracy: 0.31 - ETA: 3:29 - loss: 1.7300 - accuracy: 0.31 - ETA: 3:29 - loss: 1.7298 - accuracy: 0.31 - ETA: 3:29 - loss: 1.7295 - accuracy: 0.31 - ETA: 3:28 - loss: 1.7291 - accuracy: 0.31 - ETA: 3:28 - loss: 1.7292 - accuracy: 0.31 - ETA: 3:28 - loss: 1.7288 - accuracy: 0.31 - ETA: 3:27 - loss: 1.7286 - accuracy: 0.31 - ETA: 3:27 - loss: 1.7284 - accuracy: 0.31 - ETA: 3:26 - loss: 1.7278 - accuracy: 0.31 - ETA: 3:26 - loss: 1.7273 - accuracy: 0.31 - ETA: 3:26 - loss: 1.7266 - accuracy: 0.31 - ETA: 3:25 - loss: 1.7262 - accuracy: 0.31 - ETA: 3:25 - loss: 1.7258 - accuracy: 0.31 - ETA: 3:24 - loss: 1.7259 - accuracy: 0.31 - ETA: 3:24 - loss: 1.7254 - accuracy: 0.31 - ETA: 3:24 - loss: 1.7252 - accuracy: 0.31 - ETA: 3:23 - loss: 1.7249 - accuracy: 0.31 - ETA: 3:23 - loss: 1.7247 - accuracy: 0.31 - ETA: 3:22 - loss: 1.7243 - accuracy: 0.31 - ETA: 3:22 - loss: 1.7242 - accuracy: 0.31 - ETA: 3:21 - loss: 1.7240 - accuracy: 0.31 - ETA: 3:21 - loss: 1.7239 - accuracy: 0.31 - ETA: 3:21 - loss: 1.7237 - accuracy: 0.31 - ETA: 3:20 - loss: 1.7231 - accuracy: 0.31 - ETA: 3:20 - loss: 1.7230 - accuracy: 0.31 - ETA: 3:19 - loss: 1.7227 - accuracy: 0.31 - ETA: 3:19 - loss: 1.7224 - accuracy: 0.31 - ETA: 3:19 - loss: 1.7220 - accuracy: 0.31 - ETA: 3:18 - loss: 1.7217 - accuracy: 0.31 - ETA: 3:18 - loss: 1.7211 - accuracy: 0.31 - ETA: 3:17 - loss: 1.7212 - accuracy: 0.31 - ETA: 3:17 - loss: 1.7212 - accuracy: 0.31 - ETA: 3:17 - loss: 1.7210 - accuracy: 0.31 - ETA: 3:16 - loss: 1.7209 - accuracy: 0.31 - ETA: 3:16 - loss: 1.7208 - accuracy: 0.31 - ETA: 3:15 - loss: 1.7205 - accuracy: 0.31 - ETA: 3:15 - loss: 1.7205 - accuracy: 0.31 - ETA: 3:14 - loss: 1.7199 - accuracy: 0.31 - ETA: 3:14 - loss: 1.7195 - accuracy: 0.32 - ETA: 3:13 - loss: 1.7187 - accuracy: 0.32 - ETA: 3:13 - loss: 1.7186 - accuracy: 0.32 - ETA: 3:13 - loss: 1.7181 - accuracy: 0.32 - ETA: 3:12 - loss: 1.7179 - accuracy: 0.32 - ETA: 3:12 - loss: 1.7176 - accuracy: 0.32 - ETA: 3:11 - loss: 1.7169 - accuracy: 0.32 - ETA: 3:11 - loss: 1.7166 - accuracy: 0.32 - ETA: 3:10 - loss: 1.7162 - accuracy: 0.32 - ETA: 3:10 - loss: 1.7158 - accuracy: 0.32 - ETA: 3:10 - loss: 1.7155 - accuracy: 0.32 - ETA: 3:09 - loss: 1.7152 - accuracy: 0.32 - ETA: 3:09 - loss: 1.7144 - accuracy: 0.32 - ETA: 3:08 - loss: 1.7142 - accuracy: 0.32 - ETA: 3:08 - loss: 1.7135 - accuracy: 0.32 - ETA: 3:07 - loss: 1.7133 - accuracy: 0.32 - ETA: 3:07 - loss: 1.7131 - accuracy: 0.32 - ETA: 3:07 - loss: 1.7128 - accuracy: 0.32 - ETA: 3:06 - loss: 1.7126 - accuracy: 0.32 - ETA: 3:06 - loss: 1.7126 - accuracy: 0.32 - ETA: 3:05 - loss: 1.7124 - accuracy: 0.32 - ETA: 3:05 - loss: 1.7120 - accuracy: 0.32 - ETA: 3:05 - loss: 1.7117 - accuracy: 0.32 - ETA: 3:04 - loss: 1.7113 - accuracy: 0.32 - ETA: 3:04 - loss: 1.7109 - accuracy: 0.32 - ETA: 3:03 - loss: 1.7108 - accuracy: 0.32 - ETA: 3:03 - loss: 1.7107 - accuracy: 0.32 - ETA: 3:03 - loss: 1.7101 - accuracy: 0.32 - ETA: 3:02 - loss: 1.7099 - accuracy: 0.32 - ETA: 3:02 - loss: 1.7096 - accuracy: 0.32 - ETA: 3:01 - loss: 1.7090 - accuracy: 0.32 - ETA: 3:01 - loss: 1.7086 - accuracy: 0.32 - ETA: 3:01 - loss: 1.7083 - accuracy: 0.32 - ETA: 3:00 - loss: 1.7082 - accuracy: 0.32 - ETA: 3:00 - loss: 1.7082 - accuracy: 0.32 - ETA: 2:59 - loss: 1.7080 - accuracy: 0.32 - ETA: 2:59 - loss: 1.7077 - accuracy: 0.32 - ETA: 2:58 - loss: 1.7074 - accuracy: 0.32 - ETA: 2:58 - loss: 1.7071 - accuracy: 0.32 - ETA: 2:58 - loss: 1.7069 - accuracy: 0.32 - ETA: 2:57 - loss: 1.7067 - accuracy: 0.32 - ETA: 2:57 - loss: 1.7065 - accuracy: 0.32 - ETA: 2:56 - loss: 1.7061 - accuracy: 0.32 - ETA: 2:56 - loss: 1.7063 - accuracy: 0.32 - ETA: 2:56 - loss: 1.7059 - accuracy: 0.32 - ETA: 2:55 - loss: 1.7055 - accuracy: 0.32 - ETA: 2:55 - loss: 1.7053 - accuracy: 0.32 - ETA: 2:54 - loss: 1.7048 - accuracy: 0.32 - ETA: 2:54 - loss: 1.7048 - accuracy: 0.32 - ETA: 2:54 - loss: 1.7044 - accuracy: 0.32 - ETA: 2:53 - loss: 1.7041 - accuracy: 0.32 - ETA: 2:53 - loss: 1.7039 - accuracy: 0.32 - ETA: 2:52 - loss: 1.7035 - accuracy: 0.32 - ETA: 2:52 - loss: 1.7030 - accuracy: 0.32 - ETA: 2:51 - loss: 1.7025 - accuracy: 0.32 - ETA: 2:51 - loss: 1.7022 - accuracy: 0.32 - ETA: 2:51 - loss: 1.7020 - accuracy: 0.32 - ETA: 2:50 - loss: 1.7015 - accuracy: 0.32 - ETA: 2:50 - loss: 1.7009 - accuracy: 0.32 - ETA: 2:49 - loss: 1.7003 - accuracy: 0.32 - ETA: 2:49 - loss: 1.7003 - accuracy: 0.32 - ETA: 2:49 - loss: 1.7000 - accuracy: 0.32 - ETA: 2:48 - loss: 1.6998 - accuracy: 0.32 - ETA: 2:48 - loss: 1.6996 - accuracy: 0.32 - ETA: 2:47 - loss: 1.6991 - accuracy: 0.32 - ETA: 2:47 - loss: 1.6987 - accuracy: 0.32 - ETA: 2:47 - loss: 1.6983 - accuracy: 0.32 - ETA: 2:46 - loss: 1.6982 - accuracy: 0.32 - ETA: 2:46 - loss: 1.6978 - accuracy: 0.32 - ETA: 2:45 - loss: 1.6976 - accuracy: 0.32 - ETA: 2:45 - loss: 1.6975 - accuracy: 0.32 - ETA: 2:44 - loss: 1.6971 - accuracy: 0.32 - ETA: 2:44 - loss: 1.6968 - accuracy: 0.32 - ETA: 2:44 - loss: 1.6965 - accuracy: 0.32 - ETA: 2:43 - loss: 1.6965 - accuracy: 0.32 - ETA: 2:43 - loss: 1.6961 - accuracy: 0.32 - ETA: 2:42 - loss: 1.6957 - accuracy: 0.32 - ETA: 2:42 - loss: 1.6956 - accuracy: 0.32 - ETA: 2:41 - loss: 1.6951 - accuracy: 0.32 - ETA: 2:41 - loss: 1.6947 - accuracy: 0.32 - ETA: 2:41 - loss: 1.6944 - accuracy: 0.32 - ETA: 2:40 - loss: 1.6940 - accuracy: 0.32 - ETA: 2:40 - loss: 1.6937 - accuracy: 0.32 - ETA: 2:39 - loss: 1.6931 - accuracy: 0.33 - ETA: 2:39 - loss: 1.6929 - accuracy: 0.33 - ETA: 2:39 - loss: 1.6924 - accuracy: 0.33 - ETA: 2:38 - loss: 1.6918 - accuracy: 0.33 - ETA: 2:38 - loss: 1.6915 - accuracy: 0.33 - ETA: 2:37 - loss: 1.6913 - accuracy: 0.33 - ETA: 2:37 - loss: 1.6907 - accuracy: 0.33 - ETA: 2:36 - loss: 1.6906 - accuracy: 0.33 - ETA: 2:36 - loss: 1.6901 - accuracy: 0.33 - ETA: 2:35 - loss: 1.6896 - accuracy: 0.33 - ETA: 2:35 - loss: 1.6889 - accuracy: 0.33 - ETA: 2:35 - loss: 1.6887 - accuracy: 0.33 - ETA: 2:34 - loss: 1.6882 - accuracy: 0.33 - ETA: 2:34 - loss: 1.6877 - accuracy: 0.33 - ETA: 2:33 - loss: 1.6872 - accuracy: 0.33 - ETA: 2:33 - loss: 1.6868 - accuracy: 0.33 - ETA: 2:32 - loss: 1.6866 - accuracy: 0.33 - ETA: 2:32 - loss: 1.6862 - accuracy: 0.33 - ETA: 2:32 - loss: 1.6861 - accuracy: 0.33 - ETA: 2:31 - loss: 1.6857 - accuracy: 0.33 - ETA: 2:31 - loss: 1.6853 - accuracy: 0.33 - ETA: 2:30 - loss: 1.6848 - accuracy: 0.33 - ETA: 2:30 - loss: 1.6846 - accuracy: 0.33 - ETA: 2:29 - loss: 1.6843 - accuracy: 0.33 - ETA: 2:29 - loss: 1.6839 - accuracy: 0.33 - ETA: 2:29 - loss: 1.6836 - accuracy: 0.33 - ETA: 2:28 - loss: 1.6833 - accuracy: 0.33 - ETA: 2:28 - loss: 1.6828 - accuracy: 0.33 - ETA: 2:27 - loss: 1.6824 - accuracy: 0.33 - ETA: 2:27 - loss: 1.6824 - accuracy: 0.33 - ETA: 2:26 - loss: 1.6820 - accuracy: 0.33 - ETA: 2:26 - loss: 1.6814 - accuracy: 0.33 - ETA: 2:25 - loss: 1.6810 - accuracy: 0.33 - ETA: 2:25 - loss: 1.6804 - accuracy: 0.33 - ETA: 2:25 - loss: 1.6801 - accuracy: 0.33 - ETA: 2:24 - loss: 1.6796 - accuracy: 0.33 - ETA: 2:24 - loss: 1.6793 - accuracy: 0.33 - ETA: 2:23 - loss: 1.6788 - accuracy: 0.33 - ETA: 2:23 - loss: 1.6785 - accuracy: 0.33 - ETA: 2:22 - loss: 1.6782 - accuracy: 0.33 - ETA: 2:22 - loss: 1.6777 - accuracy: 0.33 - ETA: 2:22 - loss: 1.6774 - accuracy: 0.33 - ETA: 2:21 - loss: 1.6771 - accuracy: 0.33 - ETA: 2:21 - loss: 1.6771 - accuracy: 0.33 - ETA: 2:20 - loss: 1.6769 - accuracy: 0.33 - ETA: 2:20 - loss: 1.6766 - accuracy: 0.33 - ETA: 2:19 - loss: 1.6762 - accuracy: 0.33 - ETA: 2:19 - loss: 1.6760 - accuracy: 0.33 - ETA: 2:19 - loss: 1.6756 - accuracy: 0.33 - ETA: 2:18 - loss: 1.6752 - accuracy: 0.33 - ETA: 2:18 - loss: 1.6748 - accuracy: 0.33 - ETA: 2:17 - loss: 1.6743 - accuracy: 0.33 - ETA: 2:17 - loss: 1.6738 - accuracy: 0.33 - ETA: 2:16 - loss: 1.6737 - accuracy: 0.33 - ETA: 2:16 - loss: 1.6732 - accuracy: 0.33 - ETA: 2:16 - loss: 1.6731 - accuracy: 0.33 - ETA: 2:15 - loss: 1.6725 - accuracy: 0.33 - ETA: 2:15 - loss: 1.6719 - accuracy: 0.33 - ETA: 2:14 - loss: 1.6714 - accuracy: 0.33 - ETA: 2:14 - loss: 1.6709 - accuracy: 0.33 - ETA: 2:13 - loss: 1.6706 - accuracy: 0.33 - ETA: 2:13 - loss: 1.6703 - accuracy: 0.33 - ETA: 2:13 - loss: 1.6699 - accuracy: 0.33 - ETA: 2:12 - loss: 1.6695 - accuracy: 0.33 - ETA: 2:12 - loss: 1.6691 - accuracy: 0.33 - ETA: 2:11 - loss: 1.6687 - accuracy: 0.34 - ETA: 2:11 - loss: 1.6681 - accuracy: 0.34 - ETA: 2:10 - loss: 1.6678 - accuracy: 0.34 - ETA: 2:10 - loss: 1.6673 - accuracy: 0.34 - ETA: 2:09 - loss: 1.6672 - accuracy: 0.34 - ETA: 2:09 - loss: 1.6668 - accuracy: 0.34 - ETA: 2:09 - loss: 1.6666 - accuracy: 0.34 - ETA: 2:08 - loss: 1.6658 - accuracy: 0.34 - ETA: 2:08 - loss: 1.6656 - accuracy: 0.34 - ETA: 2:07 - loss: 1.6652 - accuracy: 0.34 - ETA: 2:07 - loss: 1.6648 - accuracy: 0.34 - ETA: 2:06 - loss: 1.6646 - accuracy: 0.34 - ETA: 2:06 - loss: 1.6639 - accuracy: 0.34 - ETA: 2:06 - loss: 1.6638 - accuracy: 0.34 - ETA: 2:05 - loss: 1.6634 - accuracy: 0.34 - ETA: 2:05 - loss: 1.6631 - accuracy: 0.34 - ETA: 2:04 - loss: 1.6625 - accuracy: 0.34 - ETA: 2:04 - loss: 1.6623 - accuracy: 0.34 - ETA: 2:03 - loss: 1.6617 - accuracy: 0.34 - ETA: 2:03 - loss: 1.6613 - accuracy: 0.34 - ETA: 2:03 - loss: 1.6610 - accuracy: 0.34 - ETA: 2:02 - loss: 1.6605 - accuracy: 0.34 - ETA: 2:02 - loss: 1.6601 - accuracy: 0.34 - ETA: 2:01 - loss: 1.6595 - accuracy: 0.34 - ETA: 2:01 - loss: 1.6590 - accuracy: 0.34 - ETA: 2:00 - loss: 1.6588 - accuracy: 0.34 - ETA: 2:00 - loss: 1.6583 - accuracy: 0.34 - ETA: 2:00 - loss: 1.6577 - accuracy: 0.34 - ETA: 1:59 - loss: 1.6574 - accuracy: 0.34 - ETA: 1:59 - loss: 1.6570 - accuracy: 0.34 - ETA: 1:58 - loss: 1.6565 - accuracy: 0.34 - ETA: 1:58 - loss: 1.6561 - accuracy: 0.34 - ETA: 1:57 - loss: 1.6559 - accuracy: 0.34 - ETA: 1:57 - loss: 1.6551 - accuracy: 0.34 - ETA: 1:57 - loss: 1.6546 - accuracy: 0.34 - ETA: 1:56 - loss: 1.6547 - accuracy: 0.34 - ETA: 1:56 - loss: 1.6544 - accuracy: 0.34 - ETA: 1:55 - loss: 1.6540 - accuracy: 0.34 - ETA: 1:55 - loss: 1.6536 - accuracy: 0.34 - ETA: 1:54 - loss: 1.6533 - accuracy: 0.34 - ETA: 1:54 - loss: 1.6527 - accuracy: 0.34 - ETA: 1:54 - loss: 1.6524 - accuracy: 0.34 - ETA: 1:53 - loss: 1.6520 - accuracy: 0.34 - ETA: 1:53 - loss: 1.6515 - accuracy: 0.34 - ETA: 1:52 - loss: 1.6510 - accuracy: 0.34 - ETA: 1:52 - loss: 1.6508 - accuracy: 0.34 - ETA: 1:51 - loss: 1.6505 - accuracy: 0.34 - ETA: 1:51 - loss: 1.6503 - accuracy: 0.34 - ETA: 1:51 - loss: 1.6499 - accuracy: 0.34 - ETA: 1:50 - loss: 1.6495 - accuracy: 0.34 - ETA: 1:50 - loss: 1.6489 - accuracy: 0.34 - ETA: 1:49 - loss: 1.6486 - accuracy: 0.34 - ETA: 1:49 - loss: 1.6482 - accuracy: 0.34 - ETA: 1:48 - loss: 1.6475 - accuracy: 0.34 - ETA: 1:48 - loss: 1.6471 - accuracy: 0.34 - ETA: 1:48 - loss: 1.6467 - accuracy: 0.34 - ETA: 1:47 - loss: 1.6463 - accuracy: 0.34 - ETA: 1:47 - loss: 1.6458 - accuracy: 0.34 - ETA: 1:46 - loss: 1.6456 - accuracy: 0.34 - ETA: 1:46 - loss: 1.6448 - accuracy: 0.34 - ETA: 1:45 - loss: 1.6445 - accuracy: 0.34 - ETA: 1:45 - loss: 1.6440 - accuracy: 0.35 - ETA: 1:45 - loss: 1.6436 - accuracy: 0.35 - ETA: 1:44 - loss: 1.6433 - accuracy: 0.35 - ETA: 1:44 - loss: 1.6430 - accuracy: 0.35 - ETA: 1:43 - loss: 1.6429 - accuracy: 0.35 - ETA: 1:43 - loss: 1.6425 - accuracy: 0.35 - ETA: 1:42 - loss: 1.6421 - accuracy: 0.35 - ETA: 1:42 - loss: 1.6415 - accuracy: 0.35 - ETA: 1:42 - loss: 1.6413 - accuracy: 0.35 - ETA: 1:41 - loss: 1.6410 - accuracy: 0.35 - ETA: 1:41 - loss: 1.6404 - accuracy: 0.35 - ETA: 1:40 - loss: 1.6401 - accuracy: 0.35 - ETA: 1:40 - loss: 1.6396 - accuracy: 0.35 - ETA: 1:39 - loss: 1.6393 - accuracy: 0.35 - ETA: 1:39 - loss: 1.6389 - accuracy: 0.35 - ETA: 1:39 - loss: 1.6386 - accuracy: 0.35 - ETA: 1:38 - loss: 1.6381 - accuracy: 0.35 - ETA: 1:38 - loss: 1.6378 - accuracy: 0.35 - ETA: 1:37 - loss: 1.6376 - accuracy: 0.35 - ETA: 1:37 - loss: 1.6370 - accuracy: 0.35 - ETA: 1:36 - loss: 1.6366 - accuracy: 0.35 - ETA: 1:36 - loss: 1.6364 - accuracy: 0.35 - ETA: 1:36 - loss: 1.6359 - accuracy: 0.35 - ETA: 1:35 - loss: 1.6355 - accuracy: 0.35 - ETA: 1:35 - loss: 1.6349 - accuracy: 0.35 - ETA: 1:34 - loss: 1.6345 - accuracy: 0.35 - ETA: 1:34 - loss: 1.6339 - accuracy: 0.35 - ETA: 1:33 - loss: 1.6336 - accuracy: 0.35 - ETA: 1:33 - loss: 1.6333 - accuracy: 0.35 - ETA: 1:33 - loss: 1.6329 - accuracy: 0.35 - ETA: 1:32 - loss: 1.6323 - accuracy: 0.35 - ETA: 1:32 - loss: 1.6321 - accuracy: 0.35 - ETA: 1:31 - loss: 1.6317 - accuracy: 0.35 - ETA: 1:31 - loss: 1.6312 - accuracy: 0.35 - ETA: 1:31 - loss: 1.6307 - accuracy: 0.35 - ETA: 1:30 - loss: 1.6302 - accuracy: 0.35 - ETA: 1:30 - loss: 1.6301 - accuracy: 0.35 - ETA: 1:29 - loss: 1.6295 - accuracy: 0.35 - ETA: 1:29 - loss: 1.6292 - accuracy: 0.35 - ETA: 1:28 - loss: 1.6288 - accuracy: 0.35 - ETA: 1:28 - loss: 1.6284 - accuracy: 0.35 - ETA: 1:28 - loss: 1.6279 - accuracy: 0.35 - ETA: 1:27 - loss: 1.6272 - accuracy: 0.35 - ETA: 1:27 - loss: 1.6268 - accuracy: 0.35 - ETA: 1:26 - loss: 1.6261 - accuracy: 0.35 - ETA: 1:26 - loss: 1.6256 - accuracy: 0.35 - ETA: 1:25 - loss: 1.6254 - accuracy: 0.35 - ETA: 1:25 - loss: 1.6251 - accuracy: 0.35 - ETA: 1:25 - loss: 1.6247 - accuracy: 0.35 - ETA: 1:24 - loss: 1.6243 - accuracy: 0.35 - ETA: 1:24 - loss: 1.6239 - accuracy: 0.35 - ETA: 1:23 - loss: 1.6235 - accuracy: 0.35 - ETA: 1:23 - loss: 1.6234 - accuracy: 0.35 - ETA: 1:22 - loss: 1.6227 - accuracy: 0.35 - ETA: 1:22 - loss: 1.6222 - accuracy: 0.35 - ETA: 1:22 - loss: 1.6217 - accuracy: 0.35 - ETA: 1:21 - loss: 1.6211 - accuracy: 0.35 - ETA: 1:21 - loss: 1.6205 - accuracy: 0.36 - ETA: 1:20 - loss: 1.6200 - accuracy: 0.36 - ETA: 1:20 - loss: 1.6197 - accuracy: 0.36 - ETA: 1:19 - loss: 1.6193 - accuracy: 0.36 - ETA: 1:19 - loss: 1.6191 - accuracy: 0.36 - ETA: 1:19 - loss: 1.6187 - accuracy: 0.36 - ETA: 1:18 - loss: 1.6180 - accuracy: 0.36 - ETA: 1:18 - loss: 1.6176 - accuracy: 0.36 - ETA: 1:17 - loss: 1.6174 - accuracy: 0.36 - ETA: 1:17 - loss: 1.6172 - accuracy: 0.36 - ETA: 1:17 - loss: 1.6169 - accuracy: 0.36 - ETA: 1:16 - loss: 1.6164 - accuracy: 0.36 - ETA: 1:16 - loss: 1.6161 - accuracy: 0.36 - ETA: 1:15 - loss: 1.6155 - accuracy: 0.36 - ETA: 1:15 - loss: 1.6152 - accuracy: 0.36 - ETA: 1:14 - loss: 1.6147 - accuracy: 0.36 - ETA: 1:14 - loss: 1.6144 - accuracy: 0.36 - ETA: 1:14 - loss: 1.6141 - accuracy: 0.36 - ETA: 1:13 - loss: 1.6134 - accuracy: 0.36 - ETA: 1:13 - loss: 1.6129 - accuracy: 0.36 - ETA: 1:12 - loss: 1.6125 - accuracy: 0.36 - ETA: 1:12 - loss: 1.6120 - accuracy: 0.36 - ETA: 1:11 - loss: 1.6115 - accuracy: 0.36 - ETA: 1:11 - loss: 1.6113 - accuracy: 0.36 - ETA: 1:11 - loss: 1.6109 - accuracy: 0.36 - ETA: 1:10 - loss: 1.6104 - accuracy: 0.36 - ETA: 1:10 - loss: 1.6102 - accuracy: 0.36 - ETA: 1:09 - loss: 1.6098 - accuracy: 0.36 - ETA: 1:09 - loss: 1.6095 - accuracy: 0.36 - ETA: 1:09 - loss: 1.6091 - accuracy: 0.36 - ETA: 1:08 - loss: 1.6087 - accuracy: 0.36 - ETA: 1:08 - loss: 1.6083 - accuracy: 0.36 - ETA: 1:07 - loss: 1.6076 - accuracy: 0.36 - ETA: 1:07 - loss: 1.6072 - accuracy: 0.36 - ETA: 1:06 - loss: 1.6070 - accuracy: 0.36 - ETA: 1:06 - loss: 1.6064 - accuracy: 0.36 - ETA: 1:06 - loss: 1.6059 - accuracy: 0.36 - ETA: 1:05 - loss: 1.6055 - accuracy: 0.36 - ETA: 1:05 - loss: 1.6049 - accuracy: 0.36 - ETA: 1:04 - loss: 1.6043 - accuracy: 0.36 - ETA: 1:04 - loss: 1.6039 - accuracy: 0.36 - ETA: 1:03 - loss: 1.6037 - accuracy: 0.36 - ETA: 1:03 - loss: 1.6031 - accuracy: 0.36 - ETA: 1:03 - loss: 1.6027 - accuracy: 0.36 - ETA: 1:02 - loss: 1.6024 - accuracy: 0.36 - ETA: 1:02 - loss: 1.6019 - accuracy: 0.36 - ETA: 1:01 - loss: 1.6013 - accuracy: 0.36 - ETA: 1:01 - loss: 1.6008 - accuracy: 0.36 - ETA: 1:01 - loss: 1.6005 - accuracy: 0.36 - ETA: 1:00 - loss: 1.6000 - accuracy: 0.36 - ETA: 1:00 - loss: 1.5996 - accuracy: 0.36 - ETA: 59s - loss: 1.5993 - accuracy: 0.3684 - ETA: 59s - loss: 1.5989 - accuracy: 0.368 - ETA: 58s - loss: 1.5983 - accuracy: 0.368 - ETA: 58s - loss: 1.5978 - accuracy: 0.369 - ETA: 58s - loss: 1.5973 - accuracy: 0.369 - ETA: 57s - loss: 1.5969 - accuracy: 0.369 - ETA: 57s - loss: 1.5965 - accuracy: 0.369 - ETA: 56s - loss: 1.5960 - accuracy: 0.369 - ETA: 56s - loss: 1.5954 - accuracy: 0.370 - ETA: 55s - loss: 1.5949 - accuracy: 0.370 - ETA: 55s - loss: 1.5943 - accuracy: 0.370 - ETA: 55s - loss: 1.5941 - accuracy: 0.370 - ETA: 54s - loss: 1.5937 - accuracy: 0.370 - ETA: 54s - loss: 1.5931 - accuracy: 0.370 - ETA: 53s - loss: 1.5927 - accuracy: 0.371 - ETA: 53s - loss: 1.5924 - accuracy: 0.371 - ETA: 53s - loss: 1.5921 - accuracy: 0.371 - ETA: 52s - loss: 1.5915 - accuracy: 0.371 - ETA: 52s - loss: 1.5910 - accuracy: 0.371 - ETA: 51s - loss: 1.5909 - accuracy: 0.371 - ETA: 51s - loss: 1.5904 - accuracy: 0.371 - ETA: 50s - loss: 1.5901 - accuracy: 0.372 - ETA: 50s - loss: 1.5897 - accuracy: 0.372 - ETA: 50s - loss: 1.5894 - accuracy: 0.372 - ETA: 49s - loss: 1.5890 - accuracy: 0.372 - ETA: 49s - loss: 1.5887 - accuracy: 0.372 - ETA: 48s - loss: 1.5880 - accuracy: 0.373 - ETA: 48s - loss: 1.5878 - accuracy: 0.373 - ETA: 48s - loss: 1.5877 - accuracy: 0.373 - ETA: 47s - loss: 1.5871 - accuracy: 0.373 - ETA: 47s - loss: 1.5867 - accuracy: 0.373 - ETA: 46s - loss: 1.5861 - accuracy: 0.373 - ETA: 46s - loss: 1.5857 - accuracy: 0.374 - ETA: 45s - loss: 1.5851 - accuracy: 0.374 - ETA: 45s - loss: 1.5848 - accuracy: 0.374 - ETA: 45s - loss: 1.5843 - accuracy: 0.374 - ETA: 44s - loss: 1.5838 - accuracy: 0.374 - ETA: 44s - loss: 1.5836 - accuracy: 0.374 - ETA: 43s - loss: 1.5830 - accuracy: 0.375 - ETA: 43s - loss: 1.5825 - accuracy: 0.375 - ETA: 42s - loss: 1.5820 - accuracy: 0.375 - ETA: 42s - loss: 1.5816 - accuracy: 0.375 - ETA: 42s - loss: 1.5812 - accuracy: 0.376 - ETA: 41s - loss: 1.5811 - accuracy: 0.376 - ETA: 41s - loss: 1.5809 - accuracy: 0.376 - ETA: 40s - loss: 1.5804 - accuracy: 0.376 - ETA: 40s - loss: 1.5803 - accuracy: 0.376 - ETA: 40s - loss: 1.5800 - accuracy: 0.376 - ETA: 39s - loss: 1.5795 - accuracy: 0.376 - ETA: 39s - loss: 1.5790 - accuracy: 0.376 - ETA: 38s - loss: 1.5785 - accuracy: 0.377 - ETA: 38s - loss: 1.5781 - accuracy: 0.377 - ETA: 37s - loss: 1.5775 - accuracy: 0.377 - ETA: 37s - loss: 1.5773 - accuracy: 0.377 - ETA: 37s - loss: 1.5768 - accuracy: 0.377 - ETA: 36s - loss: 1.5765 - accuracy: 0.378 - ETA: 36s - loss: 1.5761 - accuracy: 0.378 - ETA: 35s - loss: 1.5757 - accuracy: 0.378 - ETA: 35s - loss: 1.5753 - accuracy: 0.378 - ETA: 35s - loss: 1.5749 - accuracy: 0.378 - ETA: 34s - loss: 1.5745 - accuracy: 0.379 - ETA: 34s - loss: 1.5743 - accuracy: 0.379 - ETA: 33s - loss: 1.5741 - accuracy: 0.379 - ETA: 33s - loss: 1.5736 - accuracy: 0.379 - ETA: 32s - loss: 1.5731 - accuracy: 0.379 - ETA: 32s - loss: 1.5726 - accuracy: 0.379 - ETA: 32s - loss: 1.5721 - accuracy: 0.379 - ETA: 31s - loss: 1.5720 - accuracy: 0.380 - ETA: 31s - loss: 1.5717 - accuracy: 0.380 - ETA: 30s - loss: 1.5712 - accuracy: 0.380 - ETA: 30s - loss: 1.5708 - accuracy: 0.380 - ETA: 30s - loss: 1.5704 - accuracy: 0.380 - ETA: 29s - loss: 1.5700 - accuracy: 0.380 - ETA: 29s - loss: 1.5696 - accuracy: 0.380 - ETA: 28s - loss: 1.5691 - accuracy: 0.381 - ETA: 28s - loss: 1.5686 - accuracy: 0.381 - ETA: 27s - loss: 1.5684 - accuracy: 0.381 - ETA: 27s - loss: 1.5680 - accuracy: 0.381 - ETA: 27s - loss: 1.5675 - accuracy: 0.381 - ETA: 26s - loss: 1.5671 - accuracy: 0.381 - ETA: 26s - loss: 1.5668 - accuracy: 0.381 - ETA: 25s - loss: 1.5661 - accuracy: 0.382 - ETA: 25s - loss: 1.5656 - accuracy: 0.382 - ETA: 24s - loss: 1.5655 - accuracy: 0.382 - ETA: 24s - loss: 1.5652 - accuracy: 0.382 - ETA: 24s - loss: 1.5649 - accuracy: 0.382 - ETA: 23s - loss: 1.5644 - accuracy: 0.383 - ETA: 23s - loss: 1.5638 - accuracy: 0.383 - ETA: 22s - loss: 1.5632 - accuracy: 0.383 - ETA: 22s - loss: 1.5627 - accuracy: 0.383 - ETA: 22s - loss: 1.5622 - accuracy: 0.383 - ETA: 21s - loss: 1.5620 - accuracy: 0.384 - ETA: 21s - loss: 1.5616 - accuracy: 0.384 - ETA: 20s - loss: 1.5615 - accuracy: 0.384 - ETA: 20s - loss: 1.5609 - accuracy: 0.384 - ETA: 19s - loss: 1.5605 - accuracy: 0.384 - ETA: 19s - loss: 1.5601 - accuracy: 0.384 - ETA: 19s - loss: 1.5597 - accuracy: 0.384 - ETA: 18s - loss: 1.5594 - accuracy: 0.385 - ETA: 18s - loss: 1.5591 - accuracy: 0.385 - ETA: 17s - loss: 1.5586 - accuracy: 0.385 - ETA: 17s - loss: 1.5581 - accuracy: 0.385 - ETA: 17s - loss: 1.5579 - accuracy: 0.385 - ETA: 16s - loss: 1.5574 - accuracy: 0.385 - ETA: 16s - loss: 1.5571 - accuracy: 0.385 - ETA: 15s - loss: 1.5569 - accuracy: 0.386 - ETA: 15s - loss: 1.5566 - accuracy: 0.386 - ETA: 14s - loss: 1.5562 - accuracy: 0.386 - ETA: 14s - loss: 1.5556 - accuracy: 0.386 - ETA: 14s - loss: 1.5556 - accuracy: 0.386 - ETA: 13s - loss: 1.5552 - accuracy: 0.386 - ETA: 13s - loss: 1.5547 - accuracy: 0.386 - ETA: 12s - loss: 1.5544 - accuracy: 0.387 - ETA: 12s - loss: 1.5540 - accuracy: 0.387 - ETA: 12s - loss: 1.5536 - accuracy: 0.387 - ETA: 11s - loss: 1.5533 - accuracy: 0.387 - ETA: 11s - loss: 1.5528 - accuracy: 0.387 - ETA: 10s - loss: 1.5523 - accuracy: 0.387 - ETA: 10s - loss: 1.5518 - accuracy: 0.387 - ETA: 9s - loss: 1.5515 - accuracy: 0.388 - ETA: 9s - loss: 1.5512 - accuracy: 0.38 - ETA: 9s - loss: 1.5508 - accuracy: 0.38 - ETA: 8s - loss: 1.5504 - accuracy: 0.38 - ETA: 8s - loss: 1.5500 - accuracy: 0.38 - ETA: 7s - loss: 1.5497 - accuracy: 0.38 - ETA: 7s - loss: 1.5492 - accuracy: 0.38 - ETA: 7s - loss: 1.5487 - accuracy: 0.38 - ETA: 6s - loss: 1.5482 - accuracy: 0.38 - ETA: 6s - loss: 1.5480 - accuracy: 0.38 - ETA: 5s - loss: 1.5475 - accuracy: 0.38 - ETA: 5s - loss: 1.5471 - accuracy: 0.38 - ETA: 4s - loss: 1.5468 - accuracy: 0.38 - ETA: 4s - loss: 1.5465 - accuracy: 0.38 - ETA: 4s - loss: 1.5460 - accuracy: 0.38 - ETA: 3s - loss: 1.5455 - accuracy: 0.39 - ETA: 3s - loss: 1.5453 - accuracy: 0.39 - ETA: 2s - loss: 1.5449 - accuracy: 0.39 - ETA: 2s - loss: 1.5445 - accuracy: 0.39 - ETA: 2s - loss: 1.5441 - accuracy: 0.39 - ETA: 1s - loss: 1.5439 - accuracy: 0.39 - ETA: 1s - loss: 1.5436 - accuracy: 0.39 - ETA: 0s - loss: 1.5431 - accuracy: 0.39 - ETA: 0s - loss: 1.5428 - accuracy: 0.39 - ETA: 0s - loss: 1.5428 - accuracy: 0.39 - 411s 443ms/step - loss: 1.5428 - accuracy: 0.3911 - val_loss: 1.6708 - val_accuracy: 0.4454\n",
      "Epoch 2/200\n",
      " 37/896 [>.............................] - ETA: 5:36 - loss: 1.1930 - accuracy: 0.56 - ETA: 5:57 - loss: 1.2557 - accuracy: 0.55 - ETA: 6:01 - loss: 1.2806 - accuracy: 0.54 - ETA: 6:02 - loss: 1.3758 - accuracy: 0.51 - ETA: 6:02 - loss: 1.3931 - accuracy: 0.50 - ETA: 6:01 - loss: 1.4312 - accuracy: 0.46 - ETA: 6:04 - loss: 1.4440 - accuracy: 0.45 - ETA: 6:09 - loss: 1.5020 - accuracy: 0.44 - ETA: 6:08 - loss: 1.5348 - accuracy: 0.42 - ETA: 6:08 - loss: 1.5729 - accuracy: 0.41 - ETA: 6:05 - loss: 1.5747 - accuracy: 0.42 - ETA: 6:04 - loss: 1.5699 - accuracy: 0.42 - ETA: 6:03 - loss: 1.6011 - accuracy: 0.41 - ETA: 6:02 - loss: 1.6057 - accuracy: 0.41 - ETA: 6:01 - loss: 1.6137 - accuracy: 0.40 - ETA: 6:01 - loss: 1.6152 - accuracy: 0.40 - ETA: 6:01 - loss: 1.6168 - accuracy: 0.41 - ETA: 6:00 - loss: 1.6158 - accuracy: 0.41 - ETA: 6:01 - loss: 1.6128 - accuracy: 0.41 - ETA: 6:01 - loss: 1.6174 - accuracy: 0.40 - ETA: 6:03 - loss: 1.6210 - accuracy: 0.40 - ETA: 6:03 - loss: 1.6294 - accuracy: 0.40 - ETA: 6:02 - loss: 1.6269 - accuracy: 0.40 - ETA: 6:02 - loss: 1.6348 - accuracy: 0.39 - ETA: 6:01 - loss: 1.6497 - accuracy: 0.39 - ETA: 6:01 - loss: 1.6411 - accuracy: 0.39 - ETA: 6:01 - loss: 1.6416 - accuracy: 0.39 - ETA: 6:00 - loss: 1.6472 - accuracy: 0.39 - ETA: 6:00 - loss: 1.6463 - accuracy: 0.39 - ETA: 5:59 - loss: 1.6448 - accuracy: 0.38 - ETA: 5:58 - loss: 1.6473 - accuracy: 0.38 - ETA: 5:57 - loss: 1.6534 - accuracy: 0.38 - ETA: 5:56 - loss: 1.6583 - accuracy: 0.38 - ETA: 5:55 - loss: 1.6501 - accuracy: 0.38 - ETA: 5:55 - loss: 1.6477 - accuracy: 0.38 - ETA: 5:54 - loss: 1.6384 - accuracy: 0.39 - ETA: 5:54 - loss: 1.6377 - accuracy: 0.3898"
     ]
    }
   ],
   "source": [
    "result, model = classifier_utils.create_and_train_model(model_type, task, seq_length, num_classes, \"text_now_\", X_train, Y_train, X_val, Y_val, X_test, Y_test)"
   ]
  },
  {
   "cell_type": "code",
   "execution_count": null,
   "metadata": {},
   "outputs": [],
   "source": []
  }
 ],
 "metadata": {
  "kernelspec": {
   "display_name": "tc_spectrum",
   "language": "python",
   "name": "tc_spectrum"
  },
  "language_info": {
   "codemirror_mode": {
    "name": "ipython",
    "version": 3
   },
   "file_extension": ".py",
   "mimetype": "text/x-python",
   "name": "python",
   "nbconvert_exporter": "python",
   "pygments_lexer": "ipython3",
   "version": "3.9.6"
  }
 },
 "nbformat": 4,
 "nbformat_minor": 4
}
